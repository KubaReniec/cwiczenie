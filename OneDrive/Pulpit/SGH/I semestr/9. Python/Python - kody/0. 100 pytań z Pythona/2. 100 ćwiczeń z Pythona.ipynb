{
 "cells": [
  {
   "cell_type": "markdown",
   "id": "612eeed0",
   "metadata": {},
   "source": [
    "# 100 zadań z Pythona"
   ]
  },
  {
   "cell_type": "markdown",
   "id": "6a5bbe1e",
   "metadata": {},
   "source": [
    "## STRING"
   ]
  },
  {
   "cell_type": "markdown",
   "id": "3b65fc05",
   "metadata": {},
   "source": [
    "### Zadanie 1. Wydziel wyrazy ze zmiennej i zapisz je na liście."
   ]
  },
  {
   "cell_type": "code",
   "execution_count": 5,
   "id": "cb1d956a",
   "metadata": {},
   "outputs": [
    {
     "data": {
      "text/plain": [
       "['I', 'am', 'learning', 'Python']"
      ]
     },
     "execution_count": 5,
     "metadata": {},
     "output_type": "execute_result"
    }
   ],
   "source": [
    "sentence = 'I am learning Python'\n",
    "lista = sentence.split(\" \")\n",
    "lista"
   ]
  },
  {
   "cell_type": "markdown",
   "id": "b0d93507",
   "metadata": {},
   "source": [
    "### Zadanie 2. Stwórz funkcję, która sprawdzi czy słowo python znajduje się w danym ciągu znaków."
   ]
  },
  {
   "cell_type": "code",
   "execution_count": 6,
   "id": "dcf54e92",
   "metadata": {},
   "outputs": [
    {
     "name": "stdout",
     "output_type": "stream",
     "text": [
      "True\n"
     ]
    }
   ],
   "source": [
    "zdanie = 'Lubię Pythona'\n",
    "print('python' in zdanie.lower())"
   ]
  },
  {
   "cell_type": "markdown",
   "id": "dd172afa",
   "metadata": {},
   "source": [
    "### Zadanie 3. Przekonwertuj bajty na ciąg znaków"
   ]
  },
  {
   "cell_type": "code",
   "execution_count": 8,
   "id": "3b62d85d",
   "metadata": {},
   "outputs": [
    {
     "data": {
      "text/plain": [
       "b'Python'"
      ]
     },
     "execution_count": 8,
     "metadata": {},
     "output_type": "execute_result"
    }
   ],
   "source": [
    "bytes_to_convert = b\"Python\"\n",
    "converted_str = bytes_to_convert.decode('utf-8')"
   ]
  },
  {
   "cell_type": "markdown",
   "id": "05be627a",
   "metadata": {},
   "source": [
    "### Zadanie 4. Wyodrębnij ze zmiennej słowo 'love'."
   ]
  },
  {
   "cell_type": "code",
   "execution_count": 9,
   "id": "3fda8a1b",
   "metadata": {},
   "outputs": [
    {
     "data": {
      "text/plain": [
       "'love'"
      ]
     },
     "execution_count": 9,
     "metadata": {},
     "output_type": "execute_result"
    }
   ],
   "source": [
    "zdanie = 'I love Python'\n",
    "zdanie[2:6]"
   ]
  },
  {
   "cell_type": "markdown",
   "id": "a5f5652a",
   "metadata": {},
   "source": [
    "### Zadanie 5. Sprawdź czy słowo jest palindronem."
   ]
  },
  {
   "cell_type": "code",
   "execution_count": 11,
   "id": "4e0a5698",
   "metadata": {},
   "outputs": [
    {
     "data": {
      "text/plain": [
       "True"
      ]
     },
     "execution_count": 11,
     "metadata": {},
     "output_type": "execute_result"
    }
   ],
   "source": [
    "def is_palindrom(word: str) -> bool:\n",
    "    return word==word[::-1]\n",
    "is_palindrom('anna')"
   ]
  },
  {
   "cell_type": "markdown",
   "id": "a4e3ff3b",
   "metadata": {},
   "source": [
    "### Zadanie 6. Wartość zmiennej przesuń w prawo,a następnie dodaj 6 znaków '_'."
   ]
  },
  {
   "cell_type": "code",
   "execution_count": 15,
   "id": "4bc09787",
   "metadata": {},
   "outputs": [
    {
     "data": {
      "text/plain": [
       "'______Mark'"
      ]
     },
     "execution_count": 15,
     "metadata": {},
     "output_type": "execute_result"
    }
   ],
   "source": [
    "name = 'Mark'\n",
    "align_right = list(name)\n",
    "for i in range(6):\n",
    "    align_right.insert(0,'_')\n",
    "align_right = \"\".join(align_right)\n",
    "align_right"
   ]
  },
  {
   "cell_type": "code",
   "execution_count": 22,
   "id": "a6fd2455",
   "metadata": {},
   "outputs": [
    {
     "data": {
      "text/plain": [
       "'      Mark'"
      ]
     },
     "execution_count": 22,
     "metadata": {},
     "output_type": "execute_result"
    }
   ],
   "source": [
    "name = 'Mark'\n",
    "align_right = f'{name: >10}'\n",
    "align_right"
   ]
  },
  {
   "cell_type": "markdown",
   "id": "961ca551",
   "metadata": {},
   "source": [
    "### Zadanie 7. Wartość zmiennej przesuń w lewo,a następnie dodaj 6 znaków '_'."
   ]
  },
  {
   "cell_type": "code",
   "execution_count": 16,
   "id": "126d557f",
   "metadata": {},
   "outputs": [
    {
     "data": {
      "text/plain": [
       "'Mark______'"
      ]
     },
     "execution_count": 16,
     "metadata": {},
     "output_type": "execute_result"
    }
   ],
   "source": [
    "name = 'Mark'\n",
    "align_left = list(name)\n",
    "for i in range(6):\n",
    "    align_left.append('_')\n",
    "align_left = \"\".join(align_left)\n",
    "align_left"
   ]
  },
  {
   "cell_type": "code",
   "execution_count": 17,
   "id": "992c4ba6",
   "metadata": {},
   "outputs": [
    {
     "data": {
      "text/plain": [
       "'Mark______'"
      ]
     },
     "execution_count": 17,
     "metadata": {},
     "output_type": "execute_result"
    }
   ],
   "source": [
    "name = 'Mark'\n",
    "align_left = f'{name:_<10}'\n",
    "align_left"
   ]
  },
  {
   "cell_type": "markdown",
   "id": "8b33e73c",
   "metadata": {},
   "source": [
    "### Zadanie 8. Dodaj dwa znaki _ przed i dwa za danym słowem."
   ]
  },
  {
   "cell_type": "code",
   "execution_count": 26,
   "id": "cb95b12f",
   "metadata": {},
   "outputs": [
    {
     "data": {
      "text/plain": [
       "'__Mark__'"
      ]
     },
     "execution_count": 26,
     "metadata": {},
     "output_type": "execute_result"
    }
   ],
   "source": [
    "name = 'Mark'\n",
    "align_center = f'{name:_^8}'\n",
    "align_center"
   ]
  },
  {
   "cell_type": "markdown",
   "id": "dade9694",
   "metadata": {},
   "source": [
    "### Zadanie 9. Pokaż działanie f string."
   ]
  },
  {
   "cell_type": "code",
   "execution_count": 29,
   "id": "c441e2d8",
   "metadata": {},
   "outputs": [
    {
     "data": {
      "text/plain": [
       "'Alice Smith'"
      ]
     },
     "execution_count": 29,
     "metadata": {},
     "output_type": "execute_result"
    }
   ],
   "source": [
    "full_name_dict = {\n",
    "    'first_name': 'Alice',\n",
    "    'last_name': 'Smith'\n",
    "}\n",
    "\n",
    "full_name_str = f\"{full_name_dict['first_name']} {full_name_dict['last_name']}\"\n",
    "full_name_str"
   ]
  },
  {
   "cell_type": "markdown",
   "id": "8743a4f4",
   "metadata": {},
   "source": [
    "### Zadanie 10. Zamień ciąg znaków 15.987654321 na 015.9877."
   ]
  },
  {
   "cell_type": "code",
   "execution_count": 51,
   "id": "65c02376",
   "metadata": {},
   "outputs": [
    {
     "data": {
      "text/plain": [
       "'015.9870'"
      ]
     },
     "execution_count": 51,
     "metadata": {},
     "output_type": "execute_result"
    }
   ],
   "source": [
    "number = 15.987\n",
    "new_number = f'{number:08.4f}'\n",
    "# 08 to liczba znakow ogole, 4f to liczba miejsc po przecinku\n",
    "new_number"
   ]
  },
  {
   "cell_type": "markdown",
   "id": "2c5ee91e",
   "metadata": {},
   "source": [
    "### Zadanie 11. Sprawdź czy ciąg znaków spełnia określone założenia."
   ]
  },
  {
   "cell_type": "code",
   "execution_count": 61,
   "id": "6d3ccd2c",
   "metadata": {},
   "outputs": [
    {
     "data": {
      "text/plain": [
       "False"
      ]
     },
     "execution_count": 61,
     "metadata": {},
     "output_type": "execute_result"
    }
   ],
   "source": [
    "def is_string_valid(string: str) -> bool:\n",
    "    return string!=\"\" and string[-2:]!='em' and string==string.lower() and ' ' not in string\n",
    "is_string_valid(\"ab cde\")"
   ]
  },
  {
   "cell_type": "markdown",
   "id": "0ebca621",
   "metadata": {},
   "source": [
    "### Zadanie 12. Usuń spacje ze stringa."
   ]
  },
  {
   "cell_type": "code",
   "execution_count": 63,
   "id": "d3b2b2ea",
   "metadata": {},
   "outputs": [
    {
     "data": {
      "text/plain": [
       "'hello'"
      ]
     },
     "execution_count": 63,
     "metadata": {},
     "output_type": "execute_result"
    }
   ],
   "source": [
    "word = ' hello   '\n",
    "new_word = word.strip()\n",
    "new_word"
   ]
  },
  {
   "cell_type": "markdown",
   "id": "be84f150",
   "metadata": {},
   "source": [
    "### Zadanie 13. Usuń spacje i znaki nowej linii ze stringa."
   ]
  },
  {
   "cell_type": "code",
   "execution_count": 65,
   "id": "b18d155f",
   "metadata": {},
   "outputs": [
    {
     "data": {
      "text/plain": [
       "'hello_world'"
      ]
     },
     "execution_count": 65,
     "metadata": {},
     "output_type": "execute_result"
    }
   ],
   "source": [
    "word = ' h\\nel  lo_  \\nwor  ld '\n",
    "new_word = word.replace(\" \",\"\").replace(\"\\n\",\"\")\n",
    "new_word"
   ]
  },
  {
   "cell_type": "markdown",
   "id": "ed096dde",
   "metadata": {},
   "source": [
    "### Zadanie 14. Wyodrębnij nazwę pliku ze zmiennej."
   ]
  },
  {
   "cell_type": "code",
   "execution_count": 66,
   "id": "3bfc18f1",
   "metadata": {},
   "outputs": [],
   "source": [
    "from pathlib import Path"
   ]
  },
  {
   "cell_type": "code",
   "execution_count": 69,
   "id": "e82ec367",
   "metadata": {},
   "outputs": [
    {
     "data": {
      "text/plain": [
       "'angielski'"
      ]
     },
     "execution_count": 69,
     "metadata": {},
     "output_type": "execute_result"
    }
   ],
   "source": [
    "path = '/home/user/dir/angielski.txt'\n",
    "file_name = Path(path).stem\n",
    "file_name"
   ]
  },
  {
   "cell_type": "markdown",
   "id": "021da710",
   "metadata": {},
   "source": [
    "### Zadanie 15. Sprawdź ile razy litera 'g' występuje w tekście."
   ]
  },
  {
   "cell_type": "code",
   "execution_count": 73,
   "id": "37a727c2",
   "metadata": {},
   "outputs": [
    {
     "data": {
      "text/plain": [
       "6"
      ]
     },
     "execution_count": 73,
     "metadata": {},
     "output_type": "execute_result"
    }
   ],
   "source": [
    "text = '''Kuba Kuba Kuba,\n",
    "Huber Hubert Huber'''\n",
    "count = 0\n",
    "for litera in text:\n",
    "    if litera ==\"b\":\n",
    "        count+=1\n",
    "count"
   ]
  },
  {
   "cell_type": "code",
   "execution_count": 75,
   "id": "e4c5df48",
   "metadata": {},
   "outputs": [
    {
     "data": {
      "text/plain": [
       "3"
      ]
     },
     "execution_count": 75,
     "metadata": {},
     "output_type": "execute_result"
    }
   ],
   "source": [
    "text.count('be')"
   ]
  },
  {
   "cell_type": "markdown",
   "id": "8ff14f8d",
   "metadata": {},
   "source": [
    "### Zadanie 16. Sprawdź czy obiekt jest typu string."
   ]
  },
  {
   "cell_type": "code",
   "execution_count": 78,
   "id": "54c96eb1",
   "metadata": {},
   "outputs": [
    {
     "data": {
      "text/plain": [
       "False"
      ]
     },
     "execution_count": 78,
     "metadata": {},
     "output_type": "execute_result"
    }
   ],
   "source": [
    "def is_string(obj):\n",
    "    return type(obj)==str\n",
    "is_string(['Kuba','Hubert'])"
   ]
  },
  {
   "cell_type": "markdown",
   "id": "295f9b66",
   "metadata": {},
   "source": [
    "### Zadanie 17. Stwórz listę unikatowych obiektów. Usuń z niej : oraz ."
   ]
  },
  {
   "cell_type": "code",
   "execution_count": 87,
   "id": "83889c6e",
   "metadata": {},
   "outputs": [
    {
     "data": {
      "text/plain": [
       "['on', 'wall', 'Dumpty', 'Humpty', 'had', 'fall', 'sat', 'great', 'a']"
      ]
     },
     "execution_count": 87,
     "metadata": {},
     "output_type": "execute_result"
    }
   ],
   "source": [
    "text = 'Humpty Dumpty: sat on a wall, Humpty Dumpty: had a great fall'\n",
    "# koniecznie trzeba text = text.replace()\n",
    "text = text.replace(\":\",\"\").replace(\",\",\"\")\n",
    "list_of_words = list(set(text.split()))\n",
    "list_of_words"
   ]
  },
  {
   "cell_type": "markdown",
   "id": "656399ed",
   "metadata": {},
   "source": [
    "### Zadanie 18. Ze zdania wyodrębnij cyfry i zapisz jako listę"
   ]
  },
  {
   "cell_type": "code",
   "execution_count": 94,
   "id": "8cdc4226",
   "metadata": {},
   "outputs": [],
   "source": [
    "sentence = 'I 33lo2ve1 P7yt88ho5n!132'\n",
    "digits = sentence.strip()\n",
    "# trzeba dopisac int()\n",
    "digits = [int(cyfry) for cyfry in digits if cyfry.isdigit() and cyfry!='8']"
   ]
  },
  {
   "cell_type": "markdown",
   "id": "e809761e",
   "metadata": {},
   "source": [
    "### Zadanie 19. Ze zdania wyodrębnij liczby i zapisz jako listę"
   ]
  },
  {
   "cell_type": "code",
   "execution_count": 102,
   "id": "8fe8f02e",
   "metadata": {},
   "outputs": [
    {
     "data": {
      "text/plain": [
       "['33', '2', '1', '7', '88', '5', '132']"
      ]
     },
     "execution_count": 102,
     "metadata": {},
     "output_type": "execute_result"
    }
   ],
   "source": [
    "import re\n",
    "sentence = 'I 33lo2ve1 P7yt88ho5n!132'\n",
    "numbers = re.findall(r'\\d+', sentence)\n",
    "numbers"
   ]
  },
  {
   "cell_type": "markdown",
   "id": "c851a40b",
   "metadata": {},
   "source": [
    "### Zadanie 20. Zamień cyfry i literę p na &."
   ]
  },
  {
   "cell_type": "code",
   "execution_count": 105,
   "id": "36d3ae12",
   "metadata": {},
   "outputs": [
    {
     "data": {
      "text/plain": [
       "'I &&lo&ve& P&yt&&ho&n!&&&'"
      ]
     },
     "execution_count": 105,
     "metadata": {},
     "output_type": "execute_result"
    }
   ],
   "source": [
    "sentence = 'I 33lo2ve1 P7yt88ho5n!132'\n",
    "new_sentence = sentence.replace('0',\"&\").replace('1',\"&\").replace('2',\"&\").replace('3',\"&\").replace('4',\"&\").replace('5',\"&\").replace('6',\"&\").replace('7',\"&\").replace('8',\"&\").replace('9',\"&\").replace('P',\"&\")\n",
    "new_sentence"
   ]
  },
  {
   "cell_type": "markdown",
   "id": "b5c2ba1d",
   "metadata": {},
   "source": [
    "### Zadanie 21. Usuń ze zmiennej znaki, które nie są cyframi."
   ]
  },
  {
   "cell_type": "code",
   "execution_count": 111,
   "id": "764643d8",
   "metadata": {},
   "outputs": [
    {
     "data": {
      "text/plain": [
       "'33217885132'"
      ]
     },
     "execution_count": 111,
     "metadata": {},
     "output_type": "execute_result"
    }
   ],
   "source": [
    "sentence = 'I 33lo2ve1 P7yt88ho5n!132'\n",
    "lista = sentence.strip()\n",
    "lista = [element for element in lista if element.isdigit()]\n",
    "new_sentence = \"\".join(lista)\n",
    "new_sentence"
   ]
  },
  {
   "cell_type": "markdown",
   "id": "fd28fcad",
   "metadata": {},
   "source": [
    "### Zadanie 22. Usuń wielokrotne znaki spacji."
   ]
  },
  {
   "cell_type": "code",
   "execution_count": 115,
   "id": "daa5fa64",
   "metadata": {},
   "outputs": [
    {
     "data": {
      "text/plain": [
       "'Humpty Dumpty sat on a wall'"
      ]
     },
     "execution_count": 115,
     "metadata": {},
     "output_type": "execute_result"
    }
   ],
   "source": [
    "text = 'Humpty      Dumpty sat  on   a            wall'\n",
    "for i in  range(100):\n",
    "    text=text.replace(\"  \",\" \")\n",
    "new_text = text\n",
    "new_text"
   ]
  },
  {
   "cell_type": "markdown",
   "id": "70efa838",
   "metadata": {},
   "source": [
    "## NUMBER"
   ]
  },
  {
   "cell_type": "markdown",
   "id": "0330dbf8",
   "metadata": {},
   "source": [
    "### Zadanie 23. Przekształć stringi na liście na inty."
   ]
  },
  {
   "cell_type": "code",
   "execution_count": 117,
   "id": "4e0b1cb1",
   "metadata": {},
   "outputs": [
    {
     "data": {
      "text/plain": [
       "[1, 2, 3, 4]"
      ]
     },
     "execution_count": 117,
     "metadata": {},
     "output_type": "execute_result"
    }
   ],
   "source": [
    "arr = ['1', '2', '3', '4']\n",
    "arr = [int(element) for element in arr]\n",
    "arr"
   ]
  },
  {
   "cell_type": "markdown",
   "id": "770d3512",
   "metadata": {},
   "source": [
    "### Zadanie 24. Podziel dwie liczby przez siebie i jako wynik zapisz liczbę bez miejsc po przecinku."
   ]
  },
  {
   "cell_type": "code",
   "execution_count": 120,
   "id": "0cdba66b",
   "metadata": {},
   "outputs": [
    {
     "data": {
      "text/plain": [
       "2"
      ]
     },
     "execution_count": 120,
     "metadata": {},
     "output_type": "execute_result"
    }
   ],
   "source": [
    "num_1 = 14\n",
    "num_2 = 5\n",
    "num = int(num_1/num_2)\n",
    "num"
   ]
  },
  {
   "cell_type": "code",
   "execution_count": 121,
   "id": "c8db1a93",
   "metadata": {},
   "outputs": [
    {
     "data": {
      "text/plain": [
       "2"
      ]
     },
     "execution_count": 121,
     "metadata": {},
     "output_type": "execute_result"
    }
   ],
   "source": [
    "num = num_1 // num_2\n",
    "num"
   ]
  },
  {
   "cell_type": "markdown",
   "id": "24f1388c",
   "metadata": {},
   "source": [
    "### Zadanie 25. Zaokrąglij liczbę w górę."
   ]
  },
  {
   "cell_type": "code",
   "execution_count": 123,
   "id": "297b8b41",
   "metadata": {},
   "outputs": [
    {
     "data": {
      "text/plain": [
       "9"
      ]
     },
     "execution_count": 123,
     "metadata": {},
     "output_type": "execute_result"
    }
   ],
   "source": [
    "import math\n",
    "num = 8.4\n",
    "num = math.ceil(num)\n",
    "num"
   ]
  },
  {
   "cell_type": "markdown",
   "id": "2af921f3",
   "metadata": {},
   "source": [
    "### Zadanie 26. Zaokrąglij liczbę do 3 miejsc po przecinku."
   ]
  },
  {
   "cell_type": "code",
   "execution_count": 124,
   "id": "0a30ae30",
   "metadata": {},
   "outputs": [
    {
     "data": {
      "text/plain": [
       "15.459"
      ]
     },
     "execution_count": 124,
     "metadata": {},
     "output_type": "execute_result"
    }
   ],
   "source": [
    "num = 15.45874587\n",
    "num = round(num,3)\n",
    "num"
   ]
  },
  {
   "cell_type": "markdown",
   "id": "d19d7548",
   "metadata": {},
   "source": [
    "### Zadanie 27. Wyciągnij z liczby część całkowitą."
   ]
  },
  {
   "cell_type": "code",
   "execution_count": 125,
   "id": "1010729d",
   "metadata": {},
   "outputs": [
    {
     "data": {
      "text/plain": [
       "15"
      ]
     },
     "execution_count": 125,
     "metadata": {},
     "output_type": "execute_result"
    }
   ],
   "source": [
    "num = 15.999\n",
    "int(num)"
   ]
  },
  {
   "cell_type": "markdown",
   "id": "5a5a8cae",
   "metadata": {},
   "source": [
    "### Zadanie 28. Zamień liczbę ujemną na dodatnią."
   ]
  },
  {
   "cell_type": "code",
   "execution_count": 126,
   "id": "eaf89d66",
   "metadata": {},
   "outputs": [
    {
     "data": {
      "text/plain": [
       "12.8"
      ]
     },
     "execution_count": 126,
     "metadata": {},
     "output_type": "execute_result"
    }
   ],
   "source": [
    "num = -12.8\n",
    "abs(num)"
   ]
  },
  {
   "cell_type": "markdown",
   "id": "37477be3",
   "metadata": {},
   "source": [
    "### Zadanie 29. Oblicz sumę liczb od 1 do 100 podzielnych przez 6."
   ]
  },
  {
   "cell_type": "code",
   "execution_count": 129,
   "id": "333dcfbb",
   "metadata": {},
   "outputs": [],
   "source": [
    "def get_sum_divided_by_2_and_3():\n",
    "    sum=0\n",
    "    for i in range(1,101):\n",
    "        if i%6==0:\n",
    "            sum+=i\n",
    "    return sum"
   ]
  },
  {
   "cell_type": "code",
   "execution_count": 130,
   "id": "55d91b1c",
   "metadata": {},
   "outputs": [
    {
     "data": {
      "text/plain": [
       "816"
      ]
     },
     "execution_count": 130,
     "metadata": {},
     "output_type": "execute_result"
    }
   ],
   "source": [
    "get_sum_divided_by_2_and_3()"
   ]
  },
  {
   "cell_type": "markdown",
   "id": "7dfe4d27",
   "metadata": {},
   "source": [
    "## KROTKI"
   ]
  },
  {
   "cell_type": "markdown",
   "id": "e385c91f",
   "metadata": {},
   "source": [
    "### Zadanie 30. Stwórz krotkę zawierającą elementy 2 list."
   ]
  },
  {
   "cell_type": "code",
   "execution_count": 132,
   "id": "04b69bec",
   "metadata": {},
   "outputs": [
    {
     "data": {
      "text/plain": [
       "[('Alice', 'Smith'), ('Tom', 'Brown'), ('John', 'Thompson')]"
      ]
     },
     "execution_count": 132,
     "metadata": {},
     "output_type": "execute_result"
    }
   ],
   "source": [
    "first_names = ['Alice', 'Tom', 'John']\n",
    "last_names = ['Smith', 'Brown', 'Thompson']\n",
    "persons = list(zip(first_names, last_names))\n",
    "persons"
   ]
  },
  {
   "cell_type": "markdown",
   "id": "0d71b5f6",
   "metadata": {},
   "source": [
    "### Zadanie 31. Zamień wartości 2 zmiennych."
   ]
  },
  {
   "cell_type": "code",
   "execution_count": 138,
   "id": "1f038480",
   "metadata": {},
   "outputs": [
    {
     "data": {
      "text/plain": [
       "'Python-YY'"
      ]
     },
     "execution_count": 138,
     "metadata": {},
     "output_type": "execute_result"
    }
   ],
   "source": [
    "x = 'Python-XX'\n",
    "y = 'Python-YY'\n",
    "x,y = y,x\n",
    "x "
   ]
  },
  {
   "cell_type": "markdown",
   "id": "8b251067",
   "metadata": {},
   "source": [
    "### Zadanie 32. Zamień listę na krotkę i usuń z niej liczby."
   ]
  },
  {
   "cell_type": "code",
   "execution_count": 149,
   "id": "647409f0",
   "metadata": {},
   "outputs": [
    {
     "data": {
      "text/plain": [
       "(24355, -3, 44)"
      ]
     },
     "execution_count": 149,
     "metadata": {},
     "output_type": "execute_result"
    }
   ],
   "source": [
    "arr = ['str', 24355, -3, [3, 3, 3], ('tuple,'), {1: 1}, {1, 2, 3}, 44]\n",
    "numbers = tuple(element for element in arr if type(element)==int)\n",
    "numbers"
   ]
  },
  {
   "cell_type": "markdown",
   "id": "3f4785ba",
   "metadata": {},
   "source": [
    "### Zadanie 33. Posortuj krotkę według pierwszego elementu."
   ]
  },
  {
   "cell_type": "code",
   "execution_count": 151,
   "id": "b3f8ed8f",
   "metadata": {},
   "outputs": [],
   "source": [
    "arr = [('Alice', 'Smith'), ('Tom', 'Brown'), ('John', 'Thompson'), ('Nina', 'Wood')]\n",
    "sorted_arr = sorted(arr, key = lambda x: x[0])"
   ]
  },
  {
   "cell_type": "markdown",
   "id": "4632ea4d",
   "metadata": {},
   "source": [
    "### Zadanie 34. Do zmiennych i listy przypisz pierwszy, ostatni i pozostałe elementy krotki."
   ]
  },
  {
   "cell_type": "code",
   "execution_count": 155,
   "id": "230685bc",
   "metadata": {},
   "outputs": [
    {
     "data": {
      "text/plain": [
       "[-3, 44, 45, 46, 47]"
      ]
     },
     "execution_count": 155,
     "metadata": {},
     "output_type": "execute_result"
    }
   ],
   "source": [
    "numbers = (24355, -3, 44, 45, 46, 47, 890)\n",
    "first = numbers[0]\n",
    "last = numbers[-1]\n",
    "other_numbers = list(numbers[1:-1])\n",
    "other_numbers"
   ]
  },
  {
   "cell_type": "markdown",
   "id": "758923ad",
   "metadata": {},
   "source": [
    "### Zadanie 35. Zamień listę krotek dwuelementowych na krotkę 2 list."
   ]
  },
  {
   "cell_type": "code",
   "execution_count": 168,
   "id": "2fb09a5f",
   "metadata": {},
   "outputs": [
    {
     "data": {
      "text/plain": [
       "[('Alice', 'Tom', 'John'), ('Smith', 'Brown', 'Thompson')]"
      ]
     },
     "execution_count": 168,
     "metadata": {},
     "output_type": "execute_result"
    }
   ],
   "source": [
    "arr_of_tuples = [('Alice', 'Smith'), ('Tom', 'Brown'), ('John', 'Thompson')]\n",
    "list(zip(*arr_of_tuples))"
   ]
  },
  {
   "cell_type": "markdown",
   "id": "5e27d9bc",
   "metadata": {},
   "source": [
    "### Zadanie 36. Sprawdź czy 2 krotki są równe."
   ]
  },
  {
   "cell_type": "code",
   "execution_count": 169,
   "id": "c7c67046",
   "metadata": {},
   "outputs": [],
   "source": [
    "def are_tuples_the_same(t1, t2):\n",
    "        return t1 == t2"
   ]
  },
  {
   "cell_type": "markdown",
   "id": "cd154533",
   "metadata": {},
   "source": [
    "### Zadanie 37. Sprawdź czy w krotce jest element True."
   ]
  },
  {
   "cell_type": "code",
   "execution_count": 171,
   "id": "8c960ded",
   "metadata": {},
   "outputs": [],
   "source": [
    "def is_any_element_true(items: tuple) -> bool:\n",
    "    return any(items)"
   ]
  },
  {
   "cell_type": "markdown",
   "id": "5664fb0a",
   "metadata": {},
   "source": [
    "## LISTY"
   ]
  },
  {
   "cell_type": "markdown",
   "id": "053aa755",
   "metadata": {},
   "source": [
    "### Zadanie 38. Zmień wartośc ostatniego elemenru na liście"
   ]
  },
  {
   "cell_type": "code",
   "execution_count": 172,
   "id": "0e935ba7",
   "metadata": {},
   "outputs": [
    {
     "data": {
      "text/plain": [
       "[1, 2, 0]"
      ]
     },
     "execution_count": 172,
     "metadata": {},
     "output_type": "execute_result"
    }
   ],
   "source": [
    "arr = [1, 2, 3]\n",
    "arr [-1] = 0\n",
    "arr"
   ]
  },
  {
   "cell_type": "markdown",
   "id": "351ed7a1",
   "metadata": {},
   "source": [
    "### Zadanie 39. Utwórz listę zawierającą 2 ostatnie elementy innej listy."
   ]
  },
  {
   "cell_type": "code",
   "execution_count": 175,
   "id": "a390b921",
   "metadata": {},
   "outputs": [
    {
     "data": {
      "text/plain": [
       "[8, 9]"
      ]
     },
     "execution_count": 175,
     "metadata": {},
     "output_type": "execute_result"
    }
   ],
   "source": [
    "arr = [1, 2, 3, 4, 5, 6, 7, 8, 9]\n",
    "new_arr = arr[-2:]\n",
    "new_arr"
   ]
  },
  {
   "cell_type": "markdown",
   "id": "181567e6",
   "metadata": {},
   "source": [
    "### Zadanie 40. Utwórz listę zawierającą 5 pierwszych elementów innej listy."
   ]
  },
  {
   "cell_type": "code",
   "execution_count": 176,
   "id": "264f018f",
   "metadata": {},
   "outputs": [
    {
     "data": {
      "text/plain": [
       "[1, 2, 3, 4, 5]"
      ]
     },
     "execution_count": 176,
     "metadata": {},
     "output_type": "execute_result"
    }
   ],
   "source": [
    "arr = [1, 2, 3, 4, 5, 6, 7, 8, 9]\n",
    "new_arr = arr[:5]\n",
    "new_arr"
   ]
  },
  {
   "cell_type": "markdown",
   "id": "1d38d2e4",
   "metadata": {},
   "source": [
    "### Zadanie 41. Utwórz listę zawierającą 4,5,6,-ty element innej listy."
   ]
  },
  {
   "cell_type": "code",
   "execution_count": 177,
   "id": "48384e18",
   "metadata": {},
   "outputs": [],
   "source": [
    "arr = [1, 2, 3, 4, 5, 6, 7, 8, 9]\n",
    "new_arr = arr[3:6]"
   ]
  },
  {
   "cell_type": "markdown",
   "id": "dd87564a",
   "metadata": {},
   "source": [
    "### Zadanie 42. Utwórz listę zawierającą nieparzyste elementy listy."
   ]
  },
  {
   "cell_type": "code",
   "execution_count": 178,
   "id": "80bafa92",
   "metadata": {},
   "outputs": [
    {
     "data": {
      "text/plain": [
       "[1, 3, 5, 7, 9]"
      ]
     },
     "execution_count": 178,
     "metadata": {},
     "output_type": "execute_result"
    }
   ],
   "source": [
    "arr = [1, 2, 3, 4, 5, 6, 7, 8, 9]\n",
    "arr[::2]"
   ]
  },
  {
   "cell_type": "markdown",
   "id": "b97b4b9f",
   "metadata": {},
   "source": [
    "### Zadanie 43. Utwórz listę w odwrotnej kolejności."
   ]
  },
  {
   "cell_type": "code",
   "execution_count": 179,
   "id": "c85d9777",
   "metadata": {},
   "outputs": [
    {
     "data": {
      "text/plain": [
       "[2, 7, 7, 6, 5, 7, 3, 8, 1]"
      ]
     },
     "execution_count": 179,
     "metadata": {},
     "output_type": "execute_result"
    }
   ],
   "source": [
    "arr = [1, 8, 3, 7, 5, 6, 7, 7, 2]\n",
    "arr[::-1]"
   ]
  },
  {
   "cell_type": "markdown",
   "id": "5b7bc7b5",
   "metadata": {},
   "source": [
    "### Zadanie 44. Sprawdź czy lista jest pusta."
   ]
  },
  {
   "cell_type": "code",
   "execution_count": 181,
   "id": "a9fabb7e",
   "metadata": {},
   "outputs": [],
   "source": [
    "def is_list_empty(arr):\n",
    "    return len(arr)==0"
   ]
  },
  {
   "cell_type": "markdown",
   "id": "06309fc7",
   "metadata": {},
   "source": [
    "### Zadanie 45. Połącz dwie listy."
   ]
  },
  {
   "cell_type": "code",
   "execution_count": 183,
   "id": "554ec79a",
   "metadata": {},
   "outputs": [
    {
     "data": {
      "text/plain": [
       "[1, 2, 3, 4, 5]"
      ]
     },
     "execution_count": 183,
     "metadata": {},
     "output_type": "execute_result"
    }
   ],
   "source": [
    "arr_1 = [1, 2]\n",
    "arr_2 = [3, 4, 5]\n",
    "new_arr = arr_1 + arr_2\n",
    "new_arr"
   ]
  },
  {
   "cell_type": "markdown",
   "id": "f9b44373",
   "metadata": {},
   "source": [
    "### Zadanie 46. Dodaj do listy elementy z innej listy."
   ]
  },
  {
   "cell_type": "code",
   "execution_count": 184,
   "id": "dd5355df",
   "metadata": {},
   "outputs": [
    {
     "data": {
      "text/plain": [
       "[1, 2, 3, 4]"
      ]
     },
     "execution_count": 184,
     "metadata": {},
     "output_type": "execute_result"
    }
   ],
   "source": [
    "arr_1 = [3, 4]\n",
    "arr_2 = [1, 2]\n",
    "arr_2 = arr_2 + arr_1\n",
    "arr_2"
   ]
  },
  {
   "cell_type": "markdown",
   "id": "f0a01f20",
   "metadata": {},
   "source": [
    "### Zadanie 47. Skopiuj listę."
   ]
  },
  {
   "cell_type": "code",
   "execution_count": 185,
   "id": "c2ab4f96",
   "metadata": {},
   "outputs": [],
   "source": [
    "arr = [1, 2]\n",
    "new_arr = arr[:]"
   ]
  },
  {
   "cell_type": "markdown",
   "id": "eb887cdd",
   "metadata": {},
   "source": [
    "### Zadanie 48. Stwórz głęboką kopię listy"
   ]
  },
  {
   "cell_type": "code",
   "execution_count": 186,
   "id": "b2e8d4dd",
   "metadata": {},
   "outputs": [],
   "source": [
    "import copy\n",
    "arr = [1, [2]]\n",
    "new_arr = copy.deepcopy(arr)"
   ]
  },
  {
   "cell_type": "markdown",
   "id": "2119866c",
   "metadata": {},
   "source": [
    "### Zadanie 49. Znajdź liczbę elementów listy."
   ]
  },
  {
   "cell_type": "code",
   "execution_count": 187,
   "id": "90423fc2",
   "metadata": {},
   "outputs": [
    {
     "data": {
      "text/plain": [
       "4"
      ]
     },
     "execution_count": 187,
     "metadata": {},
     "output_type": "execute_result"
    }
   ],
   "source": [
    "arr = [1, 2, 3, 4]\n",
    "arr_length = len(arr)\n",
    "arr_length"
   ]
  },
  {
   "cell_type": "markdown",
   "id": "eb126eb6",
   "metadata": {},
   "source": [
    "### Zadanie 50. Sprawdź ile razy 2 jest na liście."
   ]
  },
  {
   "cell_type": "code",
   "execution_count": 188,
   "id": "3819c410",
   "metadata": {},
   "outputs": [
    {
     "data": {
      "text/plain": [
       "3"
      ]
     },
     "execution_count": 188,
     "metadata": {},
     "output_type": "execute_result"
    }
   ],
   "source": [
    "arr = [1, 2, 3, 4, 2, 5, 5, 2]\n",
    "count = arr.count(2)\n",
    "count"
   ]
  },
  {
   "cell_type": "markdown",
   "id": "cccbacca",
   "metadata": {},
   "source": [
    "### Zadanie 51. Usuń ostatni element listy i zapisz go na innej liście."
   ]
  },
  {
   "cell_type": "code",
   "execution_count": 189,
   "id": "9326d4a4",
   "metadata": {},
   "outputs": [
    {
     "data": {
      "text/plain": [
       "3"
      ]
     },
     "execution_count": 189,
     "metadata": {},
     "output_type": "execute_result"
    }
   ],
   "source": [
    "arr = [1, 2, 3]\n",
    "last_item = arr[-1]\n",
    "arr.pop()"
   ]
  },
  {
   "cell_type": "markdown",
   "id": "94d70a20",
   "metadata": {},
   "source": [
    "### Zadanie 52. Usuń z listy element 2."
   ]
  },
  {
   "cell_type": "code",
   "execution_count": 195,
   "id": "c654c1a5",
   "metadata": {},
   "outputs": [
    {
     "data": {
      "text/plain": [
       "[10, 70, 100]"
      ]
     },
     "execution_count": 195,
     "metadata": {},
     "output_type": "execute_result"
    }
   ],
   "source": [
    "arr = [10, 40, 70, 100]\n",
    "arr.pop(1)\n",
    "arr"
   ]
  },
  {
   "cell_type": "markdown",
   "id": "c73fc9b1",
   "metadata": {},
   "source": [
    "### Zadanie 53. Posortuj elementy na liście malejąco.\n"
   ]
  },
  {
   "cell_type": "code",
   "execution_count": 192,
   "id": "d81626ec",
   "metadata": {},
   "outputs": [
    {
     "data": {
      "text/plain": [
       "[9, 6, 4, 2]"
      ]
     },
     "execution_count": 192,
     "metadata": {},
     "output_type": "execute_result"
    }
   ],
   "source": [
    "arr = [2, 6, 4, 9]\n",
    "arr = sorted(arr, key = lambda x: -x)\n",
    "arr"
   ]
  },
  {
   "cell_type": "markdown",
   "id": "6be47a48",
   "metadata": {},
   "source": [
    "### Zadanie 54. Utwórz listę unikatowych elementów."
   ]
  },
  {
   "cell_type": "code",
   "execution_count": 193,
   "id": "9e9ac8f4",
   "metadata": {},
   "outputs": [],
   "source": [
    "arr = [4, 2, 1, 1, 3, 2, 1, 3, 4, 4, 4, 3]\n",
    "new_arr = list(set(arr))"
   ]
  },
  {
   "cell_type": "markdown",
   "id": "2f7bb622",
   "metadata": {},
   "source": [
    "### Zadanie 55. Usuń z listy 1 i 3."
   ]
  },
  {
   "cell_type": "code",
   "execution_count": 194,
   "id": "526b305b",
   "metadata": {},
   "outputs": [
    {
     "data": {
      "text/plain": [
       "[4, 2, 2, 4, 4, 4]"
      ]
     },
     "execution_count": 194,
     "metadata": {},
     "output_type": "execute_result"
    }
   ],
   "source": [
    "arr = [4, 2, 1, 1, 3, 2, 1, 3, 4, 4, 4, 3]\n",
    "arr = [element for element in arr if element!=1 and element!=3]\n",
    "arr"
   ]
  },
  {
   "cell_type": "markdown",
   "id": "3c6901af",
   "metadata": {},
   "source": [
    "### Zadanie 56. Stwórz listę elementów, które są na jednej liście, ale nie ma ich na drugiej."
   ]
  },
  {
   "cell_type": "code",
   "execution_count": 197,
   "id": "c664b98b",
   "metadata": {},
   "outputs": [],
   "source": [
    "arr_1 = [1, 2, 3, 4]\n",
    "arr_2 = [3, 4, 6]\n",
    "\n",
    "difference = [element for element in arr_1 if element not in arr_2]"
   ]
  },
  {
   "cell_type": "markdown",
   "id": "c45a99e8",
   "metadata": {},
   "source": [
    "### Zadanie 57. Zamień listę na stringa."
   ]
  },
  {
   "cell_type": "code",
   "execution_count": 198,
   "id": "9c3a5e4d",
   "metadata": {},
   "outputs": [],
   "source": [
    "arr = ['Alice', 'Tom', 'John']\n",
    "names = \", \".join(arr)"
   ]
  },
  {
   "cell_type": "markdown",
   "id": "2fc9511c",
   "metadata": {},
   "source": [
    "### Zadanie 58. Usuń puste ciągi znaków z listy.\n"
   ]
  },
  {
   "cell_type": "code",
   "execution_count": 199,
   "id": "29b6e0b7",
   "metadata": {},
   "outputs": [
    {
     "data": {
      "text/plain": [
       "['Alice', 'Tom', 'John']"
      ]
     },
     "execution_count": 199,
     "metadata": {},
     "output_type": "execute_result"
    }
   ],
   "source": [
    "arr = ['Alice', '', 'Tom', 'John', '']\n",
    "arr = [element for element in arr if element]\n",
    "arr"
   ]
  },
  {
   "cell_type": "markdown",
   "id": "c9d90f43",
   "metadata": {},
   "source": [
    "### Zadanie 59. Znajdź najmniejszy element na liście."
   ]
  },
  {
   "cell_type": "code",
   "execution_count": 200,
   "id": "ca091854",
   "metadata": {},
   "outputs": [
    {
     "data": {
      "text/plain": [
       "-60"
      ]
     },
     "execution_count": 200,
     "metadata": {},
     "output_type": "execute_result"
    }
   ],
   "source": [
    "arr = [104, -60, 0, 399, -30, -5]\n",
    "smallest_number = min(arr)\n",
    "smallest_number"
   ]
  },
  {
   "cell_type": "markdown",
   "id": "525d419e",
   "metadata": {},
   "source": [
    "### Zadanie 60. Sprawdź czy wszystkie elementy na liście są True."
   ]
  },
  {
   "cell_type": "code",
   "execution_count": 211,
   "id": "c8bf41fa",
   "metadata": {},
   "outputs": [
    {
     "data": {
      "text/plain": [
       "False"
      ]
     },
     "execution_count": 211,
     "metadata": {},
     "output_type": "execute_result"
    }
   ],
   "source": [
    "def are_elements_true(arr: list) -> bool:\n",
    "    return False not in arr\n",
    "are_elements_true([10,2,False])"
   ]
  },
  {
   "cell_type": "markdown",
   "id": "86084fdd",
   "metadata": {},
   "source": [
    "### Zadanie 61. Znajdź na liście elementy większe od 25."
   ]
  },
  {
   "cell_type": "code",
   "execution_count": 212,
   "id": "a14a2636",
   "metadata": {},
   "outputs": [],
   "source": [
    "numbers = [88, 45, 4, 7, 98, 34, 21, 18, 14, 55, 48, 1]\n",
    "new_numbers = [element for element in numbers if element>25]"
   ]
  },
  {
   "cell_type": "markdown",
   "id": "29bfb466",
   "metadata": {},
   "source": [
    "### Zadanie 62. Znajdź średnią liczb na liście i zaokrąglij ją do 2 miejsc po przecinku."
   ]
  },
  {
   "cell_type": "code",
   "execution_count": 216,
   "id": "f8962a84",
   "metadata": {},
   "outputs": [
    {
     "data": {
      "text/plain": [
       "28.11"
      ]
     },
     "execution_count": 216,
     "metadata": {},
     "output_type": "execute_result"
    }
   ],
   "source": [
    "import statistics\n",
    "arr = [6, 4, 56, 34, 23, 78, 1, 34, 17]\n",
    "mean = round(statistics.mean(arr),2)\n",
    "mean"
   ]
  },
  {
   "cell_type": "markdown",
   "id": "bbcf4305",
   "metadata": {},
   "source": [
    "### Zadanie 63. Stwórz listę zawierąjącą elementy listy występujące więcej niż raz."
   ]
  },
  {
   "cell_type": "code",
   "execution_count": 220,
   "id": "0e25b427",
   "metadata": {},
   "outputs": [
    {
     "data": {
      "text/plain": [
       "[8, 11, 4, 'a']"
      ]
     },
     "execution_count": 220,
     "metadata": {},
     "output_type": "execute_result"
    }
   ],
   "source": [
    "arr = ['a', 11, 14, 11, 'a', 'a', 'f', 4, 4, 'a', 6, 8, 8, 8]\n",
    "duplicates = list(set([element for element in arr if arr.count(element)>1]))\n",
    "duplicates"
   ]
  },
  {
   "cell_type": "markdown",
   "id": "9bce2072",
   "metadata": {},
   "source": [
    "### Zadanie 64. Znajdź numery indeksów listy, które posiadają wartość 2.\n"
   ]
  },
  {
   "cell_type": "code",
   "execution_count": 226,
   "id": "9bafe6e9",
   "metadata": {},
   "outputs": [
    {
     "data": {
      "text/plain": [
       "[2, 5, 6, 9]"
      ]
     },
     "execution_count": 226,
     "metadata": {},
     "output_type": "execute_result"
    }
   ],
   "source": [
    "arr = [5, 4, 2, 7, 6, 2, 2, 1, 1, 2]\n",
    "indexes = [index for index, element in enumerate(arr) if element==2]\n",
    "indexes"
   ]
  },
  {
   "cell_type": "markdown",
   "id": "0de7e87e",
   "metadata": {},
   "source": [
    "### Zadanie 65. Utwórz listę parzystych numerów od 16 do 76."
   ]
  },
  {
   "cell_type": "code",
   "execution_count": 228,
   "id": "7c5425f6",
   "metadata": {},
   "outputs": [],
   "source": [
    "lista = list(range(16,77,2))"
   ]
  },
  {
   "cell_type": "markdown",
   "id": "ba0329cc",
   "metadata": {},
   "source": [
    "### Zadanie 66. Utwórz listę wartości słownika."
   ]
  },
  {
   "cell_type": "code",
   "execution_count": 229,
   "id": "4ce6b47a",
   "metadata": {},
   "outputs": [
    {
     "data": {
      "text/plain": [
       "['Anna', 'Tom', 'Alice', 'Mark']"
      ]
     },
     "execution_count": 229,
     "metadata": {},
     "output_type": "execute_result"
    }
   ],
   "source": [
    "names_dict = {\n",
    "    1: 'Anna',\n",
    "    2: 'Tom',\n",
    "    3: 'Alice',\n",
    "    4: 'Mark'\n",
    "}\n",
    "names = list(names_dict.values())\n",
    "names"
   ]
  },
  {
   "cell_type": "markdown",
   "id": "b5ec1d0e",
   "metadata": {},
   "source": [
    "### Zadanie 67. Do każdego numeru na liśćie dodaj 10."
   ]
  },
  {
   "cell_type": "code",
   "execution_count": 230,
   "id": "2c802524",
   "metadata": {},
   "outputs": [
    {
     "data": {
      "text/plain": [
       "[15, 14, 17, 18, 32, 577]"
      ]
     },
     "execution_count": 230,
     "metadata": {},
     "output_type": "execute_result"
    }
   ],
   "source": [
    "numbers = [5, 4, 7, 8, 22, 567]\n",
    "numbers = [element + 10 for element in numbers]\n",
    "numbers"
   ]
  },
  {
   "cell_type": "markdown",
   "id": "1b740394",
   "metadata": {},
   "source": [
    "### Zadanie 68. Utwórz listę unikatowych elementów listy. Zachowaj kolejność."
   ]
  },
  {
   "cell_type": "code",
   "execution_count": 231,
   "id": "4cd90234",
   "metadata": {},
   "outputs": [
    {
     "data": {
      "text/plain": [
       "[4, 7, 15, 56, 6, 89, 111]"
      ]
     },
     "execution_count": 231,
     "metadata": {},
     "output_type": "execute_result"
    }
   ],
   "source": [
    "arr = [4, 7, 15, 4, 4, 56, 6, 6, 89, 15, 111]\n",
    "new_arr = []\n",
    "for element in arr:\n",
    "    if element not in new_arr:\n",
    "        new_arr.append(element)\n",
    "new_arr"
   ]
  },
  {
   "cell_type": "markdown",
   "id": "6eecf8a0",
   "metadata": {},
   "source": [
    "### Zadanie 69. Utwórz listę z zagnieżdżonych list."
   ]
  },
  {
   "cell_type": "code",
   "execution_count": 232,
   "id": "58064bbe",
   "metadata": {},
   "outputs": [
    {
     "data": {
      "text/plain": [
       "[1, 2, 3, 4, 5, 6, 7, 8, 9]"
      ]
     },
     "execution_count": 232,
     "metadata": {},
     "output_type": "execute_result"
    }
   ],
   "source": [
    "arr = [[1, 2], [3], [4, 5, 6, 7], [8, 9]]\n",
    "merged_arr = []\n",
    "for element in arr:\n",
    "    for kol_element in element:\n",
    "        merged_arr.append(kol_element)\n",
    "merged_arr"
   ]
  },
  {
   "cell_type": "markdown",
   "id": "9bec7af2",
   "metadata": {},
   "source": [
    "### Zadanie 70. Posortuj malejąco obiekty po atrybucie."
   ]
  },
  {
   "cell_type": "code",
   "execution_count": 238,
   "id": "d1c15acc",
   "metadata": {},
   "outputs": [
    {
     "data": {
      "text/plain": [
       "[John - 37, Tom - 34, Alice - 28]"
      ]
     },
     "execution_count": 238,
     "metadata": {},
     "output_type": "execute_result"
    }
   ],
   "source": [
    "class Person:\n",
    "    def __init__(self, name: str, age: int):\n",
    "        self.name = name\n",
    "        self.age = age\n",
    "        \n",
    "    def __repr__(self):\n",
    "        return f'{self.name} - {self.age}'\n",
    "    \n",
    "p1 = Person('Tom', 34)\n",
    "p2 = Person('Alice', 28)\n",
    "p3 = Person('John', 37)\n",
    "arr = [p1, p2, p3]\n",
    "arr = sorted(arr, key = lambda x: -x.age)\n",
    "arr"
   ]
  },
  {
   "cell_type": "markdown",
   "id": "73f7f3fc",
   "metadata": {},
   "source": [
    "## SET"
   ]
  },
  {
   "cell_type": "markdown",
   "id": "0992314f",
   "metadata": {},
   "source": [
    "### Zadanie 71. Do zboru dodaj elementy listy."
   ]
  },
  {
   "cell_type": "code",
   "execution_count": 245,
   "id": "10ed8510",
   "metadata": {},
   "outputs": [
    {
     "data": {
      "text/plain": [
       "{1, 2, 3, 6, 7}"
      ]
     },
     "execution_count": 245,
     "metadata": {},
     "output_type": "execute_result"
    }
   ],
   "source": [
    "numbers = {1, 2, 3}\n",
    "new_numbers = [6, 7]\n",
    "numbers.update(new_numbers)\n",
    "numbers"
   ]
  },
  {
   "cell_type": "markdown",
   "id": "5d1f7ed8",
   "metadata": {},
   "source": [
    "### Zadanie 72. Do zboru dodaj elementy innego zbioru."
   ]
  },
  {
   "cell_type": "code",
   "execution_count": 247,
   "id": "631c16ce",
   "metadata": {},
   "outputs": [
    {
     "data": {
      "text/plain": [
       "{1, 2, 3, 6, 7}"
      ]
     },
     "execution_count": 247,
     "metadata": {},
     "output_type": "execute_result"
    }
   ],
   "source": [
    "numbers = {1, 2, 3}\n",
    "new_numbers = {6, 7}\n",
    "numbers.update(new_numbers)\n",
    "numbers"
   ]
  },
  {
   "cell_type": "markdown",
   "id": "5ba2a6e2",
   "metadata": {},
   "source": [
    "### Zadanie 73. Znajdź wspólne elementy zbiorów."
   ]
  },
  {
   "cell_type": "code",
   "execution_count": 249,
   "id": "1c6c8b43",
   "metadata": {},
   "outputs": [
    {
     "data": {
      "text/plain": [
       "{10, 30}"
      ]
     },
     "execution_count": 249,
     "metadata": {},
     "output_type": "execute_result"
    }
   ],
   "source": [
    "numbers_a = {10, 10, 20, 30}\n",
    "numbers_b = {5, 10, 30, 2000}\n",
    "numbers_c = {'5', 10, 30, 45.5, '2000'}\n",
    "numbers = numbers_a & numbers_b  & numbers_c\n",
    "numbers"
   ]
  },
  {
   "cell_type": "markdown",
   "id": "42f085c5",
   "metadata": {},
   "source": [
    "### Zadanie 74. Znajdź część wspólną zbiorów."
   ]
  },
  {
   "cell_type": "code",
   "execution_count": 259,
   "id": "bbe7a7ec",
   "metadata": {},
   "outputs": [
    {
     "data": {
      "text/plain": [
       "{10, 20, 2000, '2000', 30, 45.5, 5, '5'}"
      ]
     },
     "execution_count": 259,
     "metadata": {},
     "output_type": "execute_result"
    }
   ],
   "source": [
    "numbers_a = {10, 10, 20, 30}\n",
    "numbers_b = {5, 10, 30, 2000}\n",
    "numbers_c = {'5', 10, 30, 45.5, '2000'}\n",
    "numbers = set.union(numbers_a, numbers_b, numbers_c)\n",
    "numbers"
   ]
  },
  {
   "cell_type": "markdown",
   "id": "4827d3b3",
   "metadata": {},
   "source": [
    "### Zadanie 75. Znajdź wszystkie elementy, które występują jedynie w jednym zbiorze."
   ]
  },
  {
   "cell_type": "code",
   "execution_count": 260,
   "id": "47fd6955",
   "metadata": {},
   "outputs": [
    {
     "data": {
      "text/plain": [
       "{5, 20, 2000}"
      ]
     },
     "execution_count": 260,
     "metadata": {},
     "output_type": "execute_result"
    }
   ],
   "source": [
    "numbers_a = {10, 10, 20, 30}\n",
    "numbers_b = {5, 10, 30, 2000}\n",
    "numbers = numbers_a ^ numbers_b\n",
    "numbers"
   ]
  },
  {
   "cell_type": "markdown",
   "id": "2a2a503e",
   "metadata": {},
   "source": [
    "### Zadanie 76. Sprawdź czy wszystkie elementy danego zbioru są w innym."
   ]
  },
  {
   "cell_type": "code",
   "execution_count": 262,
   "id": "46de9d39",
   "metadata": {},
   "outputs": [],
   "source": [
    "def are_elements_in_test_numbers(numbers):\n",
    "    return numbers & test_numbers == numbers"
   ]
  },
  {
   "cell_type": "markdown",
   "id": "0e506abc",
   "metadata": {},
   "source": [
    "### Zadanie 77. Napisz funkcję, która zwróci wartość klucza słownika."
   ]
  },
  {
   "cell_type": "code",
   "execution_count": 267,
   "id": "5512ca0e",
   "metadata": {},
   "outputs": [],
   "source": [
    "def get_name(dictionary: dict) -> str:\n",
    "    try:\n",
    "        return dictionary['name']\n",
    "    except:\n",
    "        return 'Unknown name'"
   ]
  },
  {
   "cell_type": "markdown",
   "id": "a24e151b",
   "metadata": {},
   "source": [
    "### Zadanie 78. Napisz funkcję, która zwróci wartość klucza słownika, a jeśli potrzeba doda nową wartość."
   ]
  },
  {
   "cell_type": "code",
   "execution_count": 268,
   "id": "fc2275ac",
   "metadata": {},
   "outputs": [],
   "source": [
    "def get_name(dictionary: dict) -> str:\n",
    "    try:\n",
    "        return dictionary['name']\n",
    "    except:\n",
    "        dictionary['name'] = 'Unknown name'\n",
    "        return 'Unknown name'"
   ]
  },
  {
   "cell_type": "markdown",
   "id": "d5c0dd73",
   "metadata": {},
   "source": [
    "### Zadanie 79. Posortuj listę słownikach po wartościach danego klucza."
   ]
  },
  {
   "cell_type": "code",
   "execution_count": 270,
   "id": "194fb9fc",
   "metadata": {},
   "outputs": [
    {
     "data": {
      "text/plain": [
       "[{'name': 'Alice', 'age': 20},\n",
       " {'name': 'John', 'age': 25},\n",
       " {'name': 'Tom', 'age': 38}]"
      ]
     },
     "execution_count": 270,
     "metadata": {},
     "output_type": "execute_result"
    }
   ],
   "source": [
    "arr = [\n",
    "    {\n",
    "        'name': 'John',\n",
    "        'age': 25\n",
    "    },\n",
    "    {\n",
    "        'name': 'Alice',\n",
    "        'age': 20\n",
    "    },\n",
    "    {\n",
    "        'name': 'Tom',\n",
    "        'age': 38\n",
    "    }\n",
    "]\n",
    "sorted_arr = sorted(arr, key = lambda dictionary: dictionary['age'])\n",
    "sorted_arr"
   ]
  },
  {
   "cell_type": "markdown",
   "id": "e8f8f2b3",
   "metadata": {},
   "source": [
    "### Zadanie 80. Utwórz słownik w oparciu o 2 listy."
   ]
  },
  {
   "cell_type": "code",
   "execution_count": 271,
   "id": "7d1868f9",
   "metadata": {},
   "outputs": [
    {
     "data": {
      "text/plain": [
       "{'name': 'John', 'age': 25, 'grade': 'B'}"
      ]
     },
     "execution_count": 271,
     "metadata": {},
     "output_type": "execute_result"
    }
   ],
   "source": [
    "keys = ['name', 'age', 'grade']\n",
    "values = ['John', 25, 'B']\n",
    "dictionary = dict(zip(keys, values))\n",
    "dictionary"
   ]
  },
  {
   "cell_type": "markdown",
   "id": "53542e1e",
   "metadata": {},
   "source": [
    "### Zadanie 81. Utwórz listę kluczy słownika."
   ]
  },
  {
   "cell_type": "code",
   "execution_count": 272,
   "id": "3772c3d8",
   "metadata": {},
   "outputs": [
    {
     "data": {
      "text/plain": [
       "['name', 'age', 'grade']"
      ]
     },
     "execution_count": 272,
     "metadata": {},
     "output_type": "execute_result"
    }
   ],
   "source": [
    "dictionary = {\n",
    "    'name': 'John',\n",
    "    'age': 25,\n",
    "    'grade': 'B',\n",
    "}\n",
    "arr = list(dictionary.keys())\n",
    "arr"
   ]
  },
  {
   "cell_type": "markdown",
   "id": "fee6ad65",
   "metadata": {},
   "source": [
    "### Zadanie 82. Utwórz słownik w oparciu o 2 inne słowniki."
   ]
  },
  {
   "cell_type": "code",
   "execution_count": null,
   "id": "633b28eb",
   "metadata": {},
   "outputs": [],
   "source": [
    "dict_1 = {'name': 'Anna', 'age': 20}\n",
    "dict_2 = {'weight': 55, 'height': 170}\n",
    "new_dict = {**dict_1,  **dict_2}"
   ]
  },
  {
   "cell_type": "markdown",
   "id": "8ceab4ff",
   "metadata": {},
   "source": [
    "### Zadanie 83. Posortuj słownik po wartościach."
   ]
  },
  {
   "cell_type": "code",
   "execution_count": 282,
   "id": "7673bed6",
   "metadata": {},
   "outputs": [
    {
     "data": {
      "text/plain": [
       "{'Alice': 10, 'Mark': 15, 'Clinton': 18, 'Anna': 20}"
      ]
     },
     "execution_count": 282,
     "metadata": {},
     "output_type": "execute_result"
    }
   ],
   "source": [
    "dictionary = {'Anna': 20, 'Mark': 15, 'Clinton': 18, 'Alice': 10}\n",
    "dictionary = dict(sorted (dictionary.items(), key = lambda x: x[1]))\n",
    "dictionary"
   ]
  },
  {
   "cell_type": "markdown",
   "id": "6a148950",
   "metadata": {},
   "source": [
    "### Zadanie 84. Posortuj słownik po kluczach."
   ]
  },
  {
   "cell_type": "code",
   "execution_count": 284,
   "id": "3c8795bb",
   "metadata": {},
   "outputs": [
    {
     "data": {
      "text/plain": [
       "{'Alice': 10, 'Anna': 20, 'Clinton': 18, 'Mark': 15}"
      ]
     },
     "execution_count": 284,
     "metadata": {},
     "output_type": "execute_result"
    }
   ],
   "source": [
    "dictionary = {'Anna': 20, 'Mark': 15, 'Clinton': 18, 'Alice': 10}\n",
    "dictionary = dict(sorted (dictionary.items()))\n",
    "dictionary"
   ]
  },
  {
   "cell_type": "markdown",
   "id": "f58dd7a1",
   "metadata": {},
   "source": [
    "### Zadanie 85. Dodaj nowy element do słownika."
   ]
  },
  {
   "cell_type": "code",
   "execution_count": 287,
   "id": "77615c24",
   "metadata": {},
   "outputs": [
    {
     "data": {
      "text/plain": [
       "{'weight': 55, 'height': 170, 'name': 'Mark'}"
      ]
     },
     "execution_count": 287,
     "metadata": {},
     "output_type": "execute_result"
    }
   ],
   "source": [
    "dictionary = {'weight': 55, 'height': 170}\n",
    "dictionary['name']='Mark'\n",
    "dictionary"
   ]
  },
  {
   "cell_type": "markdown",
   "id": "4a97eb61",
   "metadata": {},
   "source": [
    "### Zadanie 86. Zamień słownik na listę krotek."
   ]
  },
  {
   "cell_type": "code",
   "execution_count": 290,
   "id": "cdcbd80b",
   "metadata": {},
   "outputs": [
    {
     "data": {
      "text/plain": [
       "(('name', 'Anna'), ('age', 20), ('weight', 55), ('height', 170))"
      ]
     },
     "execution_count": 290,
     "metadata": {},
     "output_type": "execute_result"
    }
   ],
   "source": [
    "dictionary = {'name': 'Anna', 'age': 20, 'weight': 55, 'height': 170}\n",
    "arr_of_tuples = list(dictionary.items())\n",
    "arr_of_tuples"
   ]
  },
  {
   "cell_type": "markdown",
   "id": "97600f6a",
   "metadata": {},
   "source": [
    "### Zadanie 87. Sprawdź czy klucz znajduje się w słowniku."
   ]
  },
  {
   "cell_type": "code",
   "execution_count": 291,
   "id": "2ae5271d",
   "metadata": {},
   "outputs": [],
   "source": [
    "def key_exists(dictionary: dict) -> bool:\n",
    "    return 'name' in dictionary"
   ]
  },
  {
   "cell_type": "markdown",
   "id": "50f5b03f",
   "metadata": {},
   "source": [
    "### Zadanie 88. Usuń ze słownika klucz 'name', jego wartość przypisz do zmiennej."
   ]
  },
  {
   "cell_type": "code",
   "execution_count": 292,
   "id": "e76b70ea",
   "metadata": {},
   "outputs": [
    {
     "data": {
      "text/plain": [
       "'Anna'"
      ]
     },
     "execution_count": 292,
     "metadata": {},
     "output_type": "execute_result"
    }
   ],
   "source": [
    "dictionary = {'name': 'Anna', 'age': 20, 'weight': 55, 'height': 170}\n",
    "value = dictionary.pop('name')\n",
    "value"
   ]
  },
  {
   "cell_type": "markdown",
   "id": "5c30417e",
   "metadata": {},
   "source": [
    "### Zadanie 89. Pokaż przykład list comprehension."
   ]
  },
  {
   "cell_type": "code",
   "execution_count": 294,
   "id": "3d73d6f7",
   "metadata": {},
   "outputs": [
    {
     "data": {
      "text/plain": [
       "{'name': 'Anna', 'weight': 55, 'height': 170}"
      ]
     },
     "execution_count": 294,
     "metadata": {},
     "output_type": "execute_result"
    }
   ],
   "source": [
    "dictionary = {'name': 'Anna', 'age': 20, 'weight': 55, 'height': 170}\n",
    "new_dict = {key: value for key, value in dictionary.items() if key != 'age'}\n",
    "new_dict"
   ]
  },
  {
   "cell_type": "markdown",
   "id": "795537e9",
   "metadata": {},
   "source": [
    "### Zadanie 90. Znajdź wartość klucz, który w słowniku ma największą wartość."
   ]
  },
  {
   "cell_type": "code",
   "execution_count": 295,
   "id": "fcfb866c",
   "metadata": {},
   "outputs": [
    {
     "data": {
      "text/plain": [
       "'Anna'"
      ]
     },
     "execution_count": 295,
     "metadata": {},
     "output_type": "execute_result"
    }
   ],
   "source": [
    "dictionary = {'Anna': 20, 'Mark': 15, 'Clinton': 18, 'Alice': 10}\n",
    "key = max(dictionary, key=lambda item: dictionary[item])\n",
    "key"
   ]
  },
  {
   "cell_type": "markdown",
   "id": "995ff50e",
   "metadata": {},
   "source": [
    "### Zadanie 91. Znajdź najmniejszą wartość w słownik."
   ]
  },
  {
   "cell_type": "code",
   "execution_count": 297,
   "id": "2c835cdc",
   "metadata": {},
   "outputs": [
    {
     "data": {
      "text/plain": [
       "10"
      ]
     },
     "execution_count": 297,
     "metadata": {},
     "output_type": "execute_result"
    }
   ],
   "source": [
    "dictionary = {'Anna': 20, 'Mark': 15, 'Clinton': 18, 'Alice': 10}\n",
    "value = min(dictionary.values())\n",
    "value"
   ]
  },
  {
   "cell_type": "markdown",
   "id": "091ffe81",
   "metadata": {},
   "source": [
    "### Zadanie 92. Znajdź imię, które w kluczu ma najmniejszą wartość"
   ]
  },
  {
   "cell_type": "code",
   "execution_count": 299,
   "id": "2406a348",
   "metadata": {},
   "outputs": [
    {
     "data": {
      "text/plain": [
       "'Alice'"
      ]
     },
     "execution_count": 299,
     "metadata": {},
     "output_type": "execute_result"
    }
   ],
   "source": [
    "arr_of_dicts = [\n",
    "    {\n",
    "        'name': 'John',\n",
    "        'age': 26\n",
    "    },\n",
    "    {\n",
    "        'name': 'Anna',\n",
    "        'age': 28\n",
    "    },\n",
    "    {\n",
    "        'name': 'Alice',\n",
    "        'age': 25\n",
    "    }\n",
    "]\n",
    "value = min(arr_of_dicts, key=lambda item: item['age'])['name']\n",
    "value"
   ]
  },
  {
   "cell_type": "markdown",
   "id": "f1a72d8e",
   "metadata": {},
   "source": [
    "### Zadanie 93. Skopiuj słownik."
   ]
  },
  {
   "cell_type": "code",
   "execution_count": 300,
   "id": "d8399595",
   "metadata": {},
   "outputs": [],
   "source": [
    "dictionary = {'name': 'Anna', 'age': 20}\n",
    "new_dictionary = dictionary.copy()"
   ]
  },
  {
   "cell_type": "markdown",
   "id": "46b551ef",
   "metadata": {},
   "source": [
    "### Zadanie 94. Skopiuj słownik (głęboko)."
   ]
  },
  {
   "cell_type": "code",
   "execution_count": 301,
   "id": "8556089c",
   "metadata": {},
   "outputs": [],
   "source": [
    "import copy\n",
    "dictionary = {'name': 'Anna', 'age': 20, 'skills': {'english': 'perfect', 'python': 'very good'}}\n",
    "new_dictionary = copy.deepcopy(dictionary)"
   ]
  },
  {
   "cell_type": "markdown",
   "id": "2f15879d",
   "metadata": {},
   "source": [
    "### Zadanie 95. Stwórz listę kluczy słownika."
   ]
  },
  {
   "cell_type": "code",
   "execution_count": 302,
   "id": "3186f5d6",
   "metadata": {},
   "outputs": [
    {
     "data": {
      "text/plain": [
       "['Anna', 'Mark', 'Clinton', 'Alice']"
      ]
     },
     "execution_count": 302,
     "metadata": {},
     "output_type": "execute_result"
    }
   ],
   "source": [
    "dictionary = {'Anna': 20, 'Mark': 15, 'Clinton': 18, 'Alice': 10}\n",
    "names = list(dictionary.keys())\n",
    "names"
   ]
  },
  {
   "cell_type": "markdown",
   "id": "e2d56c5c",
   "metadata": {},
   "source": [
    "### Zadanie 96. Zamień wartości z kluczami."
   ]
  },
  {
   "cell_type": "code",
   "execution_count": 303,
   "id": "ef96234d",
   "metadata": {},
   "outputs": [
    {
     "data": {
      "text/plain": [
       "{20: 'Anna', 15: 'Mark', 18: 'Clinton', 10: 'Alice'}"
      ]
     },
     "execution_count": 303,
     "metadata": {},
     "output_type": "execute_result"
    }
   ],
   "source": [
    "dictionary = {'Anna': 20, 'Mark': 15, 'Clinton': 18, 'Alice': 10}\n",
    "dictionary = {klucz: wartosc for wartosc, klucz in dictionary.items()}\n",
    "dictionary"
   ]
  },
  {
   "cell_type": "markdown",
   "id": "4af1e88e",
   "metadata": {},
   "source": [
    "### Zadanie 97. Stwórz słownik z liczbą wystąpień poszczególnych słów."
   ]
  },
  {
   "cell_type": "code",
   "execution_count": 309,
   "id": "808b445c",
   "metadata": {},
   "outputs": [
    {
     "data": {
      "text/plain": [
       "{'I': 2,\n",
       " 'am': 1,\n",
       " 'learning': 1,\n",
       " 'Python': 3,\n",
       " 'love': 1,\n",
       " 'is': 1,\n",
       " 'the': 1,\n",
       " 'future': 1}"
      ]
     },
     "execution_count": 309,
     "metadata": {},
     "output_type": "execute_result"
    }
   ],
   "source": [
    "sentence = 'I am learning Python. I love Python. Python is the future!'\n",
    "words = {}\n",
    "sentence = sentence.replace('.', '').replace('!', '')\n",
    "for word in sentence.split( ):\n",
    "    if word not in words:\n",
    "        words[word] = 0\n",
    "    words[word] += 1\n",
    "words"
   ]
  },
  {
   "cell_type": "markdown",
   "id": "f3b7b746",
   "metadata": {},
   "source": [
    "### Zadanie 98. Połącz słowniki, tak, aby wartości powtarzających się kluczy zostały dodane."
   ]
  },
  {
   "cell_type": "code",
   "execution_count": 315,
   "id": "1a248a90",
   "metadata": {},
   "outputs": [
    {
     "data": {
      "text/plain": [
       "{'a': 6, 'b': 5, 'c': 4}"
      ]
     },
     "execution_count": 315,
     "metadata": {},
     "output_type": "execute_result"
    }
   ],
   "source": [
    "dict_1 = {'a': 1, 'b': 2}\n",
    "dict_2 = {'a': 5, 'b': 3, 'c': 4}\n",
    "combined_dict = dict_1\n",
    "for key in dict_2:\n",
    "    if key in combined_dict.keys():\n",
    "        combined_dict[key] = combined_dict[key] + dict_2[key]\n",
    "    else:\n",
    "        combined_dict[key] = dict_2[key]\n",
    "combined_dict"
   ]
  },
  {
   "cell_type": "markdown",
   "id": "bd6ae789",
   "metadata": {},
   "source": [
    "### Zadanie 99. Stwórz listę słowników."
   ]
  },
  {
   "cell_type": "code",
   "execution_count": 312,
   "id": "4093a639",
   "metadata": {},
   "outputs": [
    {
     "data": {
      "text/plain": [
       "[{'id': 1, 'name': 'Alice'},\n",
       " {'id': 2, 'name': 'Tom'},\n",
       " {'id': 3, 'name': 'John'},\n",
       " {'id': 4, 'name': 'Sara'}]"
      ]
     },
     "execution_count": 312,
     "metadata": {},
     "output_type": "execute_result"
    }
   ],
   "source": [
    "names = ['Alice', 'Tom', 'John', 'Sara']\n",
    "arr_of_dicts = [{'id':num, 'name':name} for num, name in enumerate(names,1)]\n",
    "arr_of_dicts"
   ]
  },
  {
   "cell_type": "markdown",
   "id": "269ab09f",
   "metadata": {},
   "source": [
    "### Zadanie 100. Stwórz słownik z tą samą wartością dla wszystkich kluczy."
   ]
  },
  {
   "cell_type": "code",
   "execution_count": 314,
   "id": "cc8302f6",
   "metadata": {},
   "outputs": [
    {
     "data": {
      "text/plain": [
       "{50: 'Be happy!',\n",
       " 51: 'Be happy!',\n",
       " 52: 'Be happy!',\n",
       " 53: 'Be happy!',\n",
       " 54: 'Be happy!'}"
      ]
     },
     "execution_count": 314,
     "metadata": {},
     "output_type": "execute_result"
    }
   ],
   "source": [
    "arr = range(50, 55)\n",
    "dictionary = {element: 'Be happy!' for element in arr}\n",
    "dictionary"
   ]
  }
 ],
 "metadata": {
  "kernelspec": {
   "display_name": "Python 3 (ipykernel)",
   "language": "python",
   "name": "python3"
  },
  "language_info": {
   "codemirror_mode": {
    "name": "ipython",
    "version": 3
   },
   "file_extension": ".py",
   "mimetype": "text/x-python",
   "name": "python",
   "nbconvert_exporter": "python",
   "pygments_lexer": "ipython3",
   "version": "3.10.0"
  }
 },
 "nbformat": 4,
 "nbformat_minor": 5
}
