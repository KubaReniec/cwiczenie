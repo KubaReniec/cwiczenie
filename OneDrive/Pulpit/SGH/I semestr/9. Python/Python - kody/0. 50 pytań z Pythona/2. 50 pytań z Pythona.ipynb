{
 "cells": [
  {
   "cell_type": "markdown",
   "id": "8b0d5933",
   "metadata": {},
   "source": [
    "# 50 pytań z Pythona"
   ]
  },
  {
   "cell_type": "markdown",
   "id": "f5ff3d45",
   "metadata": {},
   "source": [
    "### Zadanie 1. Stwórz listę uniktowych elementów z danej listy"
   ]
  },
  {
   "cell_type": "code",
   "execution_count": 4,
   "id": "0e470691",
   "metadata": {},
   "outputs": [
    {
     "data": {
      "text/plain": [
       "[1, 2, 3]"
      ]
     },
     "execution_count": 4,
     "metadata": {},
     "output_type": "execute_result"
    }
   ],
   "source": [
    "A = [1, 2, 3, 3, 2, 1, 2, 3]\n",
    "B=[]\n",
    "for element in A:\n",
    "    if element not in B:\n",
    "        B.append(element)\n",
    "B"
   ]
  },
  {
   "cell_type": "code",
   "execution_count": 6,
   "id": "b265bc3d",
   "metadata": {},
   "outputs": [
    {
     "data": {
      "text/plain": [
       "[1, 2, 3]"
      ]
     },
     "execution_count": 6,
     "metadata": {},
     "output_type": "execute_result"
    }
   ],
   "source": [
    "# set - wskazuje listę unikatowych elementów \n",
    "C = list(set(A))\n",
    "C"
   ]
  },
  {
   "cell_type": "markdown",
   "id": "a120bcfb",
   "metadata": {},
   "source": [
    "### Zadanie 2. Mając słowo zapisane jako string zmień jedną z liter tego słowa."
   ]
  },
  {
   "cell_type": "code",
   "execution_count": 11,
   "id": "3e3e1fea",
   "metadata": {},
   "outputs": [
    {
     "data": {
      "text/plain": [
       "'Kuba'"
      ]
     },
     "execution_count": 11,
     "metadata": {},
     "output_type": "execute_result"
    }
   ],
   "source": [
    "# string jest niemodyfikowalny w Pythonie\n",
    "x = 'kuba'\n",
    "x_list = list(x)\n",
    "x_list[0] = 'K'\n",
    "x = \"\".join(x_list)\n",
    "x"
   ]
  },
  {
   "cell_type": "markdown",
   "id": "3f770bf0",
   "metadata": {},
   "source": [
    "### Zadanie 3. Napisz kod, który pokaże różnice miedzy listą, a krotką."
   ]
  },
  {
   "cell_type": "code",
   "execution_count": 12,
   "id": "dc204187",
   "metadata": {},
   "outputs": [
    {
     "data": {
      "text/plain": [
       "[1, 2, 'trzy', (1, 2), False]"
      ]
     },
     "execution_count": 12,
     "metadata": {},
     "output_type": "execute_result"
    }
   ],
   "source": [
    "x = [1, 2, 3, (1, 2), False]\n",
    "y = (4, 5, 6, (4, 5), True)\n",
    "# tuple są niemutowalne\n",
    "x[2]='trzy'\n",
    "print(x)"
   ]
  },
  {
   "cell_type": "markdown",
   "id": "118bedd0",
   "metadata": {},
   "source": [
    "### Zadanie 4. Zamodeluj zagnieżdżoną listę."
   ]
  },
  {
   "cell_type": "code",
   "execution_count": 13,
   "id": "4394327b",
   "metadata": {},
   "outputs": [
    {
     "data": {
      "text/plain": [
       "[[[], [], []], [[], 'dlugopis', []], [[], [], []]]"
      ]
     },
     "execution_count": 13,
     "metadata": {},
     "output_type": "execute_result"
    }
   ],
   "source": [
    "szafka = [[[],[],[]],[[],[],[]],[[],[],[]]]\n",
    "szafka[1][1] = 'dlugopis'\n",
    "szafka"
   ]
  },
  {
   "cell_type": "code",
   "execution_count": 15,
   "id": "fa6bfda7",
   "metadata": {},
   "outputs": [
    {
     "name": "stdout",
     "output_type": "stream",
     "text": [
      "[[], [], []]\n",
      "[[], 'dlugopis', []]\n",
      "[[], [], []]\n"
     ]
    }
   ],
   "source": [
    "for szuflada in szafka:\n",
    "    print(szuflada)"
   ]
  },
  {
   "cell_type": "markdown",
   "id": "61d99fc4",
   "metadata": {},
   "source": [
    "### Zadanie 5. Z listy wypisz stringa 'schowany'."
   ]
  },
  {
   "cell_type": "code",
   "execution_count": 21,
   "id": "59fa839a",
   "metadata": {},
   "outputs": [
    {
     "data": {
      "text/plain": [
       "'schowany'"
      ]
     },
     "execution_count": 21,
     "metadata": {},
     "output_type": "execute_result"
    }
   ],
   "source": [
    "L = [[34, False], [0], [('abc',123), {'a':1, 'x':(True, 'schowany', 5)}]]\n",
    "# sieganie do slownika - trzeba wpisac klucz w cydzoslowie\n",
    "L[2][1]['x'][1]"
   ]
  },
  {
   "cell_type": "code",
   "execution_count": 29,
   "id": "297f8772",
   "metadata": {},
   "outputs": [
    {
     "data": {
      "text/plain": [
       "'wróbel'"
      ]
     },
     "execution_count": 29,
     "metadata": {},
     "output_type": "execute_result"
    }
   ],
   "source": [
    "K = (('król', {2:'królewna', 1: ['córka', 'wróbel']},'5'),('żółw', 'wiewiórka'))  \n",
    "x = K[0][1][1][1]\n",
    "x"
   ]
  },
  {
   "cell_type": "markdown",
   "id": "a1a814e4",
   "metadata": {},
   "source": [
    "### Zadanie 6. Stwórz słownik."
   ]
  },
  {
   "cell_type": "code",
   "execution_count": 33,
   "id": "fbd6773a",
   "metadata": {},
   "outputs": [
    {
     "data": {
      "text/plain": [
       "'Jan Kot'"
      ]
     },
     "execution_count": 33,
     "metadata": {},
     "output_type": "execute_result"
    }
   ],
   "source": [
    "x = {123456789:  'Jan Kot', 999999999 : 'Anna Lis', 111222333: 'Jan Kot'}\n",
    "x[123456789]"
   ]
  },
  {
   "cell_type": "markdown",
   "id": "310a7a34",
   "metadata": {},
   "source": [
    "### Zadanie 7. Które słowniki utworzono niepoprawnie?"
   ]
  },
  {
   "cell_type": "code",
   "execution_count": 36,
   "id": "5060bf8e",
   "metadata": {},
   "outputs": [],
   "source": [
    "# slowniki to tablice hashujace\n",
    "# kluczem nie może byc lista, ani slownik\n",
    "# kluczem moze byc tylko obiekt mutowalny"
   ]
  },
  {
   "cell_type": "markdown",
   "id": "9384d512",
   "metadata": {},
   "source": [
    "### Zadanie 8. Co zostanie wypisane w wyniku wywołania kodu?"
   ]
  },
  {
   "cell_type": "code",
   "execution_count": 37,
   "id": "6f6d5902",
   "metadata": {},
   "outputs": [
    {
     "name": "stdout",
     "output_type": "stream",
     "text": [
      "Ala\n",
      "ma\n",
      "kota\n"
     ]
    }
   ],
   "source": [
    "# to co się wypisze zalezy od wersji Pythona, 3.7+ kolejnosc jest trzymana\n",
    "D = {1: 'Ala', 2: 'ma', 3: 'kota'}\n",
    "for key in D:\n",
    "    print(D[key])"
   ]
  },
  {
   "cell_type": "markdown",
   "id": "1b814910",
   "metadata": {},
   "source": [
    "### Zadanie 9. Dla danego stringa x stworz slownik, ktory przechowuje informacje o tym ile razy w Stringu jest dana litera"
   ]
  },
  {
   "cell_type": "code",
   "execution_count": 41,
   "id": "3e9f161f",
   "metadata": {},
   "outputs": [
    {
     "data": {
      "text/plain": [
       "{'H': 3, 'u': 2, 'b': 2, 'e': 2, 'r': 2, 't': 2, ' ': 2}"
      ]
     },
     "execution_count": 41,
     "metadata": {},
     "output_type": "execute_result"
    }
   ],
   "source": [
    "x = 'Hubert Hubert H'\n",
    "slownik = dict()\n",
    "for litera in x:\n",
    "    if litera not in slownik:\n",
    "        slownik[litera]=1\n",
    "    else:\n",
    "        slownik[litera]+=1\n",
    "slownik"
   ]
  },
  {
   "cell_type": "markdown",
   "id": "f1ae1ab4",
   "metadata": {},
   "source": [
    "### Zadanie 10. Sprawdz czy ktoras z liter w slowie wystepuje dokladnie 3 razy."
   ]
  },
  {
   "cell_type": "code",
   "execution_count": 43,
   "id": "f011a744",
   "metadata": {},
   "outputs": [
    {
     "name": "stdout",
     "output_type": "stream",
     "text": [
      "tak\n"
     ]
    }
   ],
   "source": [
    "if 3 in slownik.values():\n",
    "    print('tak')\n",
    "else:\n",
    "    print('nie')"
   ]
  },
  {
   "cell_type": "code",
   "execution_count": 44,
   "id": "e4af4fa7",
   "metadata": {},
   "outputs": [
    {
     "name": "stdout",
     "output_type": "stream",
     "text": [
      "True\n"
     ]
    }
   ],
   "source": [
    "print(True if 3 in slownik.values() else False)"
   ]
  },
  {
   "cell_type": "markdown",
   "id": "ad70fe9f",
   "metadata": {},
   "source": [
    "### Zadanie 11. Stworz liste w odwroconej kolejnosci."
   ]
  },
  {
   "cell_type": "code",
   "execution_count": 46,
   "id": "88649fd6",
   "metadata": {},
   "outputs": [
    {
     "data": {
      "text/plain": [
       "['Julia', 'R', 'Python']"
      ]
     },
     "execution_count": 46,
     "metadata": {},
     "output_type": "execute_result"
    }
   ],
   "source": [
    "jezyki = ['Python', 'R', 'Julia']\n",
    "jezyki_odwrocone = list(reversed(jezyki))\n",
    "jezyki_odwrocone"
   ]
  },
  {
   "cell_type": "code",
   "execution_count": 47,
   "id": "322d40cc",
   "metadata": {},
   "outputs": [
    {
     "data": {
      "text/plain": [
       "['Julia', 'R', 'Python']"
      ]
     },
     "execution_count": 47,
     "metadata": {},
     "output_type": "execute_result"
    }
   ],
   "source": [
    "jezyki[::-1]"
   ]
  },
  {
   "cell_type": "code",
   "execution_count": 50,
   "id": "e68a9878",
   "metadata": {},
   "outputs": [
    {
     "data": {
      "text/plain": [
       "['Julia', 'R', 'Python', 'Julia', 'R', 'Python']"
      ]
     },
     "execution_count": 50,
     "metadata": {},
     "output_type": "execute_result"
    }
   ],
   "source": [
    "jezyki_odwrocone = []\n",
    "for jezyk in jezyki:\n",
    "    jezyki_odwrocone.insert(0,jezyk)\n",
    "jezyki_odwrocone"
   ]
  },
  {
   "cell_type": "markdown",
   "id": "9689734a",
   "metadata": {},
   "source": [
    "### Zadanie 12. Napisz funkcje sprawdzajaca czy slowo jest palindronem."
   ]
  },
  {
   "cell_type": "code",
   "execution_count": 55,
   "id": "c810071f",
   "metadata": {},
   "outputs": [
    {
     "name": "stdout",
     "output_type": "stream",
     "text": [
      "True\n"
     ]
    }
   ],
   "source": [
    "x = 'anna'\n",
    "def pal(slowo):\n",
    "    print(True if slowo == slowo[::-1] else False)\n",
    "pal(x)"
   ]
  },
  {
   "cell_type": "markdown",
   "id": "fac390d1",
   "metadata": {},
   "source": [
    "### Zadanie 13. Stwórz listę zawierającą co trzecia liczbe z zakresu od 100 do 1."
   ]
  },
  {
   "cell_type": "code",
   "execution_count": 59,
   "id": "1a806f6d",
   "metadata": {},
   "outputs": [
    {
     "name": "stdout",
     "output_type": "stream",
     "text": [
      "[100, 97, 94, 91, 88, 85, 82, 79, 76, 73, 70, 67, 64, 61, 58, 55, 52, 49, 46, 43, 40, 37, 34, 31, 28, 25, 22, 19, 16, 13, 10, 7, 4, 1]\n"
     ]
    }
   ],
   "source": [
    "lista = range(100,0,-3)\n",
    "# range jest typem danych \n",
    "print(list(lista))"
   ]
  },
  {
   "cell_type": "markdown",
   "id": "486f1670",
   "metadata": {},
   "source": [
    "### Zadanie 14. Wypisz co drugą literę stringa, zaczynając od ostatniej i cofając się do początku."
   ]
  },
  {
   "cell_type": "code",
   "execution_count": 62,
   "id": "2fed632f",
   "metadata": {},
   "outputs": [
    {
     "data": {
      "text/plain": [
       "'teu'"
      ]
     },
     "execution_count": 62,
     "metadata": {},
     "output_type": "execute_result"
    }
   ],
   "source": [
    "# slajsy\n",
    "s = 'Hubert'\n",
    "s[-1::-2]"
   ]
  },
  {
   "cell_type": "markdown",
   "id": "49ac922f",
   "metadata": {},
   "source": [
    "### Zadanie 15. Napisz string, który sprawdzi czy podany string zaczyna się słowem python i kończy słowem py"
   ]
  },
  {
   "cell_type": "code",
   "execution_count": 68,
   "id": "7fb3b9b2",
   "metadata": {},
   "outputs": [
    {
     "name": "stdout",
     "output_type": "stream",
     "text": [
      "tak\n"
     ]
    }
   ],
   "source": [
    "x = 'python_moj_kod.py'\n",
    "def sprawdz(nazwa):\n",
    "    print('tak' if nazwa[:6] == 'python' and nazwa[-3:] == '.py' else 'nie')\n",
    "sprawdz(x)"
   ]
  },
  {
   "cell_type": "markdown",
   "id": "84203207",
   "metadata": {},
   "source": [
    "### Zadanie 16. Zapisz listę, która przed każdą dodając numer."
   ]
  },
  {
   "cell_type": "code",
   "execution_count": 2,
   "id": "972829d9",
   "metadata": {},
   "outputs": [
    {
     "name": "stdout",
     "output_type": "stream",
     "text": [
      "1 Kacper\n",
      "2 Kuba\n",
      "3 Hubert\n"
     ]
    }
   ],
   "source": [
    "lista = ['Kacper', 'Kuba', 'Hubert']\n",
    "num = 1\n",
    "for imiona in lista:\n",
    "    print(num, imiona)\n",
    "    num+=1"
   ]
  },
  {
   "cell_type": "code",
   "execution_count": 6,
   "id": "1055f2ce",
   "metadata": {},
   "outputs": [
    {
     "name": "stdout",
     "output_type": "stream",
     "text": [
      "1 Kacper\n",
      "2 Kuba\n",
      "3 Hubert\n"
     ]
    }
   ],
   "source": [
    "# enumerate od czegos to kolejno ponumerowane elementy\n",
    "for num, imie in enumerate(lista,1):\n",
    "    print(num, imie)"
   ]
  },
  {
   "cell_type": "markdown",
   "id": "fdf65de1",
   "metadata": {},
   "source": [
    "### Zadanie 17. Znajdź różnicę między największą i najmniejszą liczbą z listy."
   ]
  },
  {
   "cell_type": "code",
   "execution_count": 7,
   "id": "de1968f4",
   "metadata": {},
   "outputs": [],
   "source": [
    "x = [1, 3, 17, 20, 2, -10]"
   ]
  },
  {
   "cell_type": "code",
   "execution_count": 9,
   "id": "01bb28f2",
   "metadata": {},
   "outputs": [
    {
     "data": {
      "text/plain": [
       "30"
      ]
     },
     "execution_count": 9,
     "metadata": {},
     "output_type": "execute_result"
    }
   ],
   "source": [
    "max(x)-min(x)"
   ]
  },
  {
   "cell_type": "markdown",
   "id": "517572a0",
   "metadata": {},
   "source": [
    "### Zadanie 18. Sprawdz czy pierwsza liczba jest podzielna przez drugą."
   ]
  },
  {
   "cell_type": "code",
   "execution_count": 13,
   "id": "dcf26ac0",
   "metadata": {},
   "outputs": [
    {
     "data": {
      "text/plain": [
       "False"
      ]
     },
     "execution_count": 13,
     "metadata": {},
     "output_type": "execute_result"
    }
   ],
   "source": [
    "def podz (a,b):\n",
    "    return a%b==0 \n",
    "podz(10,3)"
   ]
  },
  {
   "cell_type": "markdown",
   "id": "9aa8b788",
   "metadata": {},
   "source": [
    "### Zadanie 19. Napisz funkcje, ktora doda cos do listy i zwroci zawartosc"
   ]
  },
  {
   "cell_type": "code",
   "execution_count": 14,
   "id": "b866c61b",
   "metadata": {},
   "outputs": [],
   "source": [
    "def dodaj (n, lista=[]):\n",
    "    lista.append(n)\n",
    "    print(lista)"
   ]
  },
  {
   "cell_type": "code",
   "execution_count": 15,
   "id": "0728d8bd",
   "metadata": {},
   "outputs": [
    {
     "name": "stdout",
     "output_type": "stream",
     "text": [
      "['Kuba', 'Hubert', 3]\n"
     ]
    }
   ],
   "source": [
    "lista=['Kuba', 'Hubert']\n",
    "dodaj(3, lista)"
   ]
  },
  {
   "cell_type": "code",
   "execution_count": 16,
   "id": "3ed32293",
   "metadata": {},
   "outputs": [
    {
     "name": "stdout",
     "output_type": "stream",
     "text": [
      "[2]\n",
      "[2, 4]\n"
     ]
    }
   ],
   "source": [
    "dodaj(2)\n",
    "dodaj(4)"
   ]
  },
  {
   "cell_type": "code",
   "execution_count": null,
   "id": "60d0ac56",
   "metadata": {},
   "outputs": [],
   "source": [
    "# argumenty domyslne - raz tworzy sie sztuczna lista, potem dzialamy na tej liscie, a nie za kazdym razem tworzymy nowa"
   ]
  },
  {
   "cell_type": "code",
   "execution_count": 17,
   "id": "487ab450",
   "metadata": {},
   "outputs": [
    {
     "data": {
      "text/plain": [
       "['Kuba', 'Hubert']"
      ]
     },
     "execution_count": 17,
     "metadata": {},
     "output_type": "execute_result"
    }
   ],
   "source": [
    "lista.pop()\n",
    "lista"
   ]
  },
  {
   "cell_type": "markdown",
   "id": "caf2f072",
   "metadata": {},
   "source": [
    "### Zadanie 20. Co otrzymamy w wyniku zastosowania wyrazen listowych (list comprehension)?"
   ]
  },
  {
   "cell_type": "code",
   "execution_count": 19,
   "id": "828497d2",
   "metadata": {},
   "outputs": [
    {
     "data": {
      "text/plain": [
       "[1, 4, 9, 16, 25, 36]"
      ]
     },
     "execution_count": 19,
     "metadata": {},
     "output_type": "execute_result"
    }
   ],
   "source": [
    "L = [1,2,3,4,5,6]\n",
    "L = [x**2 for x in L]\n",
    "L"
   ]
  },
  {
   "cell_type": "code",
   "execution_count": 20,
   "id": "2f65a1e3",
   "metadata": {},
   "outputs": [
    {
     "data": {
      "text/plain": [
       "{1: False, 4: True, 9: False, 16: True, 25: False, 36: True}"
      ]
     },
     "execution_count": 20,
     "metadata": {},
     "output_type": "execute_result"
    }
   ],
   "source": [
    "D = {x: x%2==0 for x in L}\n",
    "D"
   ]
  },
  {
   "cell_type": "code",
   "execution_count": 22,
   "id": "2daf8780",
   "metadata": {},
   "outputs": [
    {
     "data": {
      "text/plain": [
       "[6, 7, 8, 9, 10, 11]"
      ]
     },
     "execution_count": 22,
     "metadata": {},
     "output_type": "execute_result"
    }
   ],
   "source": [
    "A = [x+1 for x in range(5,11)]\n",
    "A"
   ]
  },
  {
   "cell_type": "markdown",
   "id": "e28f66f3",
   "metadata": {},
   "source": [
    "### Zadanie 21. Co wydrukuje się w wyniku wywolania kodu (is/ ==)?"
   ]
  },
  {
   "cell_type": "code",
   "execution_count": 23,
   "id": "b88a082c",
   "metadata": {},
   "outputs": [
    {
     "name": "stdout",
     "output_type": "stream",
     "text": [
      "True\n"
     ]
    }
   ],
   "source": [
    "print(1 == True) # to porownuje wartosci"
   ]
  },
  {
   "cell_type": "code",
   "execution_count": 25,
   "id": "c7f67708",
   "metadata": {},
   "outputs": [
    {
     "name": "stdout",
     "output_type": "stream",
     "text": [
      "False\n"
     ]
    },
    {
     "name": "stderr",
     "output_type": "stream",
     "text": [
      "<>:1: SyntaxWarning: \"is\" with a literal. Did you mean \"==\"?\n",
      "<>:1: SyntaxWarning: \"is\" with a literal. Did you mean \"==\"?\n",
      "C:\\Users\\kubeq\\AppData\\Local\\Temp\\ipykernel_16360\\1017123770.py:1: SyntaxWarning: \"is\" with a literal. Did you mean \"==\"?\n",
      "  print(1 is True) # to sprawdza identycznosc\n"
     ]
    }
   ],
   "source": [
    "print(1 is True) # to sprawdza identycznosc"
   ]
  },
  {
   "cell_type": "code",
   "execution_count": 26,
   "id": "d66359b7",
   "metadata": {},
   "outputs": [
    {
     "name": "stdout",
     "output_type": "stream",
     "text": [
      "False\n"
     ]
    }
   ],
   "source": [
    "A = [1,2,3]\n",
    "B = [1,2,3]\n",
    "# w danym momencie sa tym samym, ale sa mutowalne, wiec nie sa tym samym\n",
    "print(A is B)"
   ]
  },
  {
   "cell_type": "markdown",
   "id": "f71a8d8f",
   "metadata": {},
   "source": [
    "### Zadanie 22. Co wydrukuje się w wyniku wywolania kodu (False is False is False)?"
   ]
  },
  {
   "cell_type": "code",
   "execution_count": 27,
   "id": "19aea46f",
   "metadata": {},
   "outputs": [
    {
     "name": "stdout",
     "output_type": "stream",
     "text": [
      "True\n"
     ]
    }
   ],
   "source": [
    "print(False is False is False)"
   ]
  },
  {
   "cell_type": "code",
   "execution_count": 29,
   "id": "7b26f9a8",
   "metadata": {},
   "outputs": [
    {
     "name": "stdout",
     "output_type": "stream",
     "text": [
      "False\n"
     ]
    }
   ],
   "source": [
    "# porownanie lancuchowe\n",
    "print(1<3==5)"
   ]
  },
  {
   "cell_type": "markdown",
   "id": "33c067a0",
   "metadata": {},
   "source": [
    "### Zadanie 23. Napisz przykładowy kod wykozystujący Lambdę (funkcję anonimową)"
   ]
  },
  {
   "cell_type": "code",
   "execution_count": 31,
   "id": "ece39a04",
   "metadata": {},
   "outputs": [
    {
     "data": {
      "text/plain": [
       "[('Kuba', 23), ('Hubert', 29)]"
      ]
     },
     "execution_count": 31,
     "metadata": {},
     "output_type": "execute_result"
    }
   ],
   "source": [
    "# chcemy miec funkcje, ktora uzyjemy raz\n",
    "lambda x: x+2 \n",
    "L = [('Kuba',23), ('Hubert',29)]\n",
    "L_posortowana = sorted(L, key = lambda x: x[1])\n",
    "L_posortowana"
   ]
  },
  {
   "cell_type": "code",
   "execution_count": 32,
   "id": "fbd40d83",
   "metadata": {},
   "outputs": [
    {
     "name": "stdout",
     "output_type": "stream",
     "text": [
      "['Anna', 'Artur', 'Feliks', 'Robert']\n"
     ]
    }
   ],
   "source": [
    "S = ['Anna', 'Robert', 'Artur', 'Feliks'] \n",
    "S_posortowana = sorted(S, key = lambda x: x[-1])\n",
    "print(S_posortowana)"
   ]
  },
  {
   "cell_type": "markdown",
   "id": "48175f6f",
   "metadata": {},
   "source": [
    "### Zadanie 24. Co zostanie wypisane w wyniku wywolania kodu?"
   ]
  },
  {
   "cell_type": "code",
   "execution_count": 34,
   "id": "66cb51b3",
   "metadata": {},
   "outputs": [
    {
     "name": "stdout",
     "output_type": "stream",
     "text": [
      "[111, 2, 3, 4, 5]\n"
     ]
    }
   ],
   "source": [
    "A = [1,2,3,4,5]\n",
    "B = A\n",
    "C = A[:]\n",
    "B[0]=111\n",
    "print(A)\n",
    "# B stało się tym samym obiektem co A\n",
    "# uzycie slajsa nie przypisuje referencji, a zawartosc"
   ]
  },
  {
   "cell_type": "markdown",
   "id": "40c55b5b",
   "metadata": {},
   "source": [
    "### Zadanie 25. Co zostanie wypisane w wyniku wywolania kodu?"
   ]
  },
  {
   "cell_type": "code",
   "execution_count": 36,
   "id": "6671e692",
   "metadata": {},
   "outputs": [
    {
     "name": "stdout",
     "output_type": "stream",
     "text": [
      "11\n",
      "10\n"
     ]
    }
   ],
   "source": [
    "x = 10\n",
    "def f():\n",
    "    x = 11\n",
    "    print(x)\n",
    "f()\n",
    "print(x)"
   ]
  },
  {
   "cell_type": "code",
   "execution_count": 37,
   "id": "a6357841",
   "metadata": {},
   "outputs": [
    {
     "name": "stdout",
     "output_type": "stream",
     "text": [
      "11\n",
      "11\n"
     ]
    }
   ],
   "source": [
    "x = 10\n",
    "def f():\n",
    "    global x\n",
    "    x = 11\n",
    "    print(x)\n",
    "f()\n",
    "print(x)"
   ]
  },
  {
   "cell_type": "markdown",
   "id": "94cacf7f",
   "metadata": {},
   "source": [
    "### Zadanie 26. Stwórz plik moj_plik.txt, wpisz do niego liczby od 1 do 100, wczytaj plik i zapisz jako liste"
   ]
  },
  {
   "cell_type": "code",
   "execution_count": 39,
   "id": "7aaef528",
   "metadata": {},
   "outputs": [],
   "source": [
    "import pandas as pd"
   ]
  },
  {
   "cell_type": "code",
   "execution_count": 41,
   "id": "cdf766bc",
   "metadata": {},
   "outputs": [],
   "source": [
    "x = [x+1 for x in range(100)]\n",
    "baza = pd.DataFrame({'liczby':x})\n",
    "baza.to_csv('moj_plik.txt')"
   ]
  },
  {
   "cell_type": "code",
   "execution_count": 42,
   "id": "d90fff4f",
   "metadata": {},
   "outputs": [],
   "source": [
    "dane =pd.read_csv('moj_plik.txt')"
   ]
  },
  {
   "cell_type": "code",
   "execution_count": 45,
   "id": "adadf86f",
   "metadata": {},
   "outputs": [],
   "source": [
    "lista = dane['liczby'].tolist()"
   ]
  },
  {
   "cell_type": "markdown",
   "id": "5b0567a8",
   "metadata": {},
   "source": [
    "### Zadanie 27. Znajdź największą objętość graniastosłupa z podanych możliwych długości poszczególnych boków."
   ]
  },
  {
   "cell_type": "code",
   "execution_count": 48,
   "id": "3da1bd7e",
   "metadata": {},
   "outputs": [
    {
     "data": {
      "text/plain": [
       "360635"
      ]
     },
     "execution_count": 48,
     "metadata": {},
     "output_type": "execute_result"
    }
   ],
   "source": [
    "import random\n",
    "x = [random.randint(0,100) for i in range(5)]\n",
    "y = [random.randint(0,100) for i in range(5)]\n",
    "z = [random.randint(0,100) for i in range(5)]\n",
    "max(x)*max(y)*max(z)"
   ]
  },
  {
   "cell_type": "markdown",
   "id": "f10b366f",
   "metadata": {},
   "source": [
    "### Zadanie 28. Stwórz moduł, który wydrukuje daną rzecz dwa razy."
   ]
  },
  {
   "cell_type": "code",
   "execution_count": 50,
   "id": "495a4891",
   "metadata": {},
   "outputs": [],
   "source": [
    "from zadanie_28 import wydrukuj_dwa_razy"
   ]
  },
  {
   "cell_type": "code",
   "execution_count": 52,
   "id": "269d291b",
   "metadata": {},
   "outputs": [
    {
     "name": "stdout",
     "output_type": "stream",
     "text": [
      "KubaKuba\n"
     ]
    }
   ],
   "source": [
    "wydrukuj_dwa_razy('Kuba')"
   ]
  },
  {
   "cell_type": "markdown",
   "id": "1c1a373d",
   "metadata": {},
   "source": [
    "### Zadanie 29. Do czego w Pythonie służy plik __init__.py?"
   ]
  },
  {
   "cell_type": "code",
   "execution_count": null,
   "id": "e6112884",
   "metadata": {},
   "outputs": [],
   "source": [
    "# pakiet zawierający folder z wieloma modułami\n",
    "# podkreslamy, że folder jest pakietem"
   ]
  },
  {
   "cell_type": "markdown",
   "id": "406b4dbf",
   "metadata": {},
   "source": [
    "### Zadanie 30. Jaką wartość przyjmie poniższe zdanie logiczne?"
   ]
  },
  {
   "cell_type": "code",
   "execution_count": 55,
   "id": "bc312234",
   "metadata": {},
   "outputs": [
    {
     "name": "stdout",
     "output_type": "stream",
     "text": [
      "True\n"
     ]
    },
    {
     "name": "stderr",
     "output_type": "stream",
     "text": [
      "<>:1: SyntaxWarning: \"is not\" with a literal. Did you mean \"!=\"?\n",
      "<>:1: SyntaxWarning: \"is not\" with a literal. Did you mean \"!=\"?\n",
      "C:\\Users\\kubeq\\AppData\\Local\\Temp\\ipykernel_16360\\3077454163.py:1: SyntaxWarning: \"is not\" with a literal. Did you mean \"!=\"?\n",
      "  print(1 is not True in [1,2,3])\n"
     ]
    }
   ],
   "source": [
    "print(1 is not True in [1,2,3])"
   ]
  },
  {
   "cell_type": "markdown",
   "id": "6778eb83",
   "metadata": {},
   "source": [
    "### Zadanie 31. Użyj funkcji filter, aby usunąć z listy elementy, które nie są stringami. Za pomocą funkcji map / list comprehension popraw zapisy tak, żeby wielka litera była tylko na początku imienia i nazwiska."
   ]
  },
  {
   "cell_type": "code",
   "execution_count": 67,
   "id": "007b9ee2",
   "metadata": {},
   "outputs": [
    {
     "name": "stdout",
     "output_type": "stream",
     "text": [
      "['kuBa Reniec', 'Hubert świątEk']\n",
      "['Kuba Reniec', 'Hubert Świątek']\n"
     ]
    }
   ],
   "source": [
    "x = ['kuBa Reniec', ['nie', 'wasza', 'sprawa'], 'Hubert świątEk', 23]\n",
    "x = list(filter(lambda x: type(x) is str, x))\n",
    "print(x)\n",
    "x = [y.lower().title() for y in x]\n",
    "print(x)"
   ]
  },
  {
   "cell_type": "code",
   "execution_count": 66,
   "id": "b34723a4",
   "metadata": {},
   "outputs": [
    {
     "data": {
      "text/plain": [
       "[20, 40, 60, 80]"
      ]
     },
     "execution_count": 66,
     "metadata": {},
     "output_type": "execute_result"
    }
   ],
   "source": [
    "A = [1,2,3,4,5,6,7,8,9]\n",
    "A = list(filter(lambda x: x%2==0, A))\n",
    "A = [x*10 for x in A]\n",
    "A"
   ]
  },
  {
   "cell_type": "markdown",
   "id": "1c86e90f",
   "metadata": {},
   "source": [
    "### Zadanie 32. Do czego w Pythonie służą dekoratory? Podaj przykład."
   ]
  },
  {
   "cell_type": "code",
   "execution_count": 82,
   "id": "cae78331",
   "metadata": {},
   "outputs": [],
   "source": [
    "def dodaj_gwiazdki(funkcja):\n",
    "    def funkcja_udekorowana():\n",
    "        print(\"***\")\n",
    "        funkcja()\n",
    "        print(\"***\")\n",
    "    return funkcja_udekorowana"
   ]
  },
  {
   "cell_type": "code",
   "execution_count": 83,
   "id": "4abcaa7d",
   "metadata": {},
   "outputs": [],
   "source": [
    "@dodaj_gwiazdki\n",
    "def wypisywanie():\n",
    "    print('Hej!')"
   ]
  },
  {
   "cell_type": "code",
   "execution_count": 84,
   "id": "a91d7282",
   "metadata": {},
   "outputs": [
    {
     "name": "stdout",
     "output_type": "stream",
     "text": [
      "***\n",
      "Hej!\n",
      "***\n"
     ]
    }
   ],
   "source": [
    "wypisywanie()"
   ]
  },
  {
   "cell_type": "markdown",
   "id": "a4a4157d",
   "metadata": {},
   "source": [
    "### Zadanie 33. Do czego w Pythonie służy kluczowe yield?"
   ]
  },
  {
   "cell_type": "code",
   "execution_count": 90,
   "id": "b1cad82a",
   "metadata": {},
   "outputs": [],
   "source": [
    "def kolejne_parzyste():\n",
    "    for n in range(2,20,2):\n",
    "        yield n"
   ]
  },
  {
   "cell_type": "code",
   "execution_count": 91,
   "id": "dc828b99",
   "metadata": {},
   "outputs": [],
   "source": [
    "z = kolejne_parzyste()"
   ]
  },
  {
   "cell_type": "code",
   "execution_count": 93,
   "id": "d71a72ca",
   "metadata": {},
   "outputs": [
    {
     "name": "stdout",
     "output_type": "stream",
     "text": [
      "2\n",
      "4\n",
      "6\n",
      "8\n",
      "10\n",
      "12\n",
      "14\n",
      "16\n",
      "18\n"
     ]
    }
   ],
   "source": [
    "for i in range(9):\n",
    "    print(next(z))"
   ]
  },
  {
   "cell_type": "code",
   "execution_count": null,
   "id": "4d989be1",
   "metadata": {},
   "outputs": [],
   "source": [
    "# mamy funkcję, a potem wykonujemy ją raz (next(funkcja))\n",
    "# wypisujemy kolejne elementy generatora"
   ]
  },
  {
   "cell_type": "code",
   "execution_count": 94,
   "id": "ffb475e1",
   "metadata": {},
   "outputs": [
    {
     "name": "stdout",
     "output_type": "stream",
     "text": [
      "5\n",
      "10\n",
      "15\n",
      "20\n",
      "25\n",
      "30\n",
      "35\n",
      "40\n",
      "45\n",
      "50\n"
     ]
    }
   ],
   "source": [
    "x = (n * 5 for n in range(1,11))\n",
    "for _ in range(10):\n",
    "    print(next(x))"
   ]
  },
  {
   "cell_type": "markdown",
   "id": "af2c48fe",
   "metadata": {},
   "source": [
    "### Zadanie 34. Napisz funkcję, która zobrazuje działanie assert."
   ]
  },
  {
   "cell_type": "code",
   "execution_count": 96,
   "id": "4b7e0c74",
   "metadata": {},
   "outputs": [],
   "source": [
    "import pytest"
   ]
  },
  {
   "cell_type": "code",
   "execution_count": 111,
   "id": "8026662f",
   "metadata": {},
   "outputs": [],
   "source": [
    "def dodawania(a,b):\n",
    "    return a+b+1"
   ]
  },
  {
   "cell_type": "code",
   "execution_count": 112,
   "id": "f0a227b4",
   "metadata": {},
   "outputs": [],
   "source": [
    "def test_dodawanie_intow():\n",
    "    assert dodawanie(2,3)==6"
   ]
  },
  {
   "cell_type": "code",
   "execution_count": 113,
   "id": "21eddf88",
   "metadata": {},
   "outputs": [
    {
     "data": {
      "text/plain": [
       "<function __main__.test_dodawanie_intow()>"
      ]
     },
     "execution_count": 113,
     "metadata": {},
     "output_type": "execute_result"
    }
   ],
   "source": [
    "test_dodawanie_intow"
   ]
  },
  {
   "cell_type": "code",
   "execution_count": null,
   "id": "09aea9c4",
   "metadata": {},
   "outputs": [],
   "source": [
    "# dostajemy raport o tworzeniu testow"
   ]
  },
  {
   "cell_type": "markdown",
   "id": "c08df689",
   "metadata": {},
   "source": [
    "### Zadanie 35. Do czego sluzy __init__?"
   ]
  },
  {
   "cell_type": "code",
   "execution_count": 115,
   "id": "c1e91e42",
   "metadata": {},
   "outputs": [],
   "source": [
    "class Pies:\n",
    "    def __init__(self, imie, rasa):\n",
    "        self.imie = imie\n",
    "        self.rasa = rasa"
   ]
  },
  {
   "cell_type": "code",
   "execution_count": 116,
   "id": "28ced8a0",
   "metadata": {},
   "outputs": [],
   "source": [
    "maly_pies=Pies(\"Pikuś\", \"shih tzu\")"
   ]
  },
  {
   "cell_type": "code",
   "execution_count": 117,
   "id": "eab427f7",
   "metadata": {},
   "outputs": [],
   "source": [
    "duzy_pies=Pies(\"Killer\", \"doberman\")"
   ]
  },
  {
   "cell_type": "code",
   "execution_count": 118,
   "id": "9fc34b85",
   "metadata": {},
   "outputs": [
    {
     "name": "stdout",
     "output_type": "stream",
     "text": [
      "Pikuś\n"
     ]
    }
   ],
   "source": [
    "print(maly_pies.imie)"
   ]
  },
  {
   "cell_type": "code",
   "execution_count": 119,
   "id": "81f99520",
   "metadata": {},
   "outputs": [
    {
     "name": "stdout",
     "output_type": "stream",
     "text": [
      "Mruczek\n"
     ]
    }
   ],
   "source": [
    "class Kot: \n",
    "    def __init__(self, imie, kolor):\n",
    "        self.imie = imie\n",
    "        self.kolor = kolor\n",
    "k=Kot('Mruczek','czarny')\n",
    "print(k.imie)"
   ]
  },
  {
   "cell_type": "markdown",
   "id": "83041760",
   "metadata": {},
   "source": [
    "### Zadanie 36. Co stanie sie, gdy wypiszemy print(maly_pies)? (por. z poprzednim pytaniem)"
   ]
  },
  {
   "cell_type": "code",
   "execution_count": 120,
   "id": "bcdc6eb6",
   "metadata": {},
   "outputs": [
    {
     "name": "stdout",
     "output_type": "stream",
     "text": [
      "<__main__.Pies object at 0x0000027575D457B0>\n"
     ]
    }
   ],
   "source": [
    "print(maly_pies)"
   ]
  },
  {
   "cell_type": "code",
   "execution_count": 132,
   "id": "71ecbcea",
   "metadata": {},
   "outputs": [],
   "source": [
    "class Pies:\n",
    "    def __init__(self, imie, rasa):\n",
    "        self.imie = imie\n",
    "        self.rasa = rasa\n",
    "    def __str__(self):\n",
    "        return f\"Pies rasy {self.imie} ma na imie {self.rasa}\"\n",
    "maly_pies=Pies(\"Pikuś\", \"shih tzu\")"
   ]
  },
  {
   "cell_type": "code",
   "execution_count": 133,
   "id": "49504d21",
   "metadata": {},
   "outputs": [
    {
     "name": "stdout",
     "output_type": "stream",
     "text": [
      "Pies rasy Pikuś ma na imie shih tzu\n"
     ]
    }
   ],
   "source": [
    "print(maly_pies)"
   ]
  },
  {
   "cell_type": "code",
   "execution_count": 135,
   "id": "1b22c4d0",
   "metadata": {},
   "outputs": [
    {
     "name": "stdout",
     "output_type": "stream",
     "text": [
      "Kot Mruczek jest rudy.\n"
     ]
    }
   ],
   "source": [
    "class Kot:\n",
    "    def __init__(self, imie, kolor):\n",
    "        self.imie = imie\n",
    "        self.kolor = kolor\n",
    "    def __str__(self):\n",
    "        return f\"Kot {self.imie} jest {self.kolor}.\" \n",
    "k = Kot(\"Mruczek\", \"rudy\")\n",
    "print(k)"
   ]
  },
  {
   "cell_type": "markdown",
   "id": "80468aa8",
   "metadata": {},
   "source": [
    "### Zadanie 37. Co zostanie wyswietlone po wywolaniu kodu?"
   ]
  },
  {
   "cell_type": "code",
   "execution_count": 137,
   "id": "fb13a581",
   "metadata": {},
   "outputs": [
    {
     "name": "stdout",
     "output_type": "stream",
     "text": [
      "Plywam.\n"
     ]
    }
   ],
   "source": [
    "class Ladowe:\n",
    "    def biegam(self):\n",
    "        print(\"Biegam.\")\n",
    "class Morskie:\n",
    "    def plywam(self):\n",
    "        print(\"Plywam.\")\n",
    "class SwinkaMorska(Ladowe, Morskie):\n",
    "    pass\n",
    "swinka=SwinkaMorska()\n",
    "swinka.plywam()\n",
    "# priorytet ma pierwsza klasa"
   ]
  },
  {
   "cell_type": "markdown",
   "id": "c52d2291",
   "metadata": {},
   "source": [
    "### Zadanie 38. Do czego służą dekoratory @staticmethod i @classmethod?"
   ]
  },
  {
   "cell_type": "code",
   "execution_count": 3,
   "id": "1c9afbe7",
   "metadata": {},
   "outputs": [
    {
     "name": "stdout",
     "output_type": "stream",
     "text": [
      "43.96\n",
      "5\n",
      "10\n"
     ]
    }
   ],
   "source": [
    "class Matematyka:\n",
    "    def __init__(self):\n",
    "        self.pi = 3.14\n",
    "    def policz_obwod(self, r):\n",
    "        return 2*self.pi*r\n",
    "    #metoda statyczna\n",
    "    @staticmethod\n",
    "    def dodaj(a,b):\n",
    "        return a+b\n",
    "    # metoda klasowa - nie potrzebuja obiektu klasy, ale wiedza, ze znaja sie w klasie\n",
    "    @classmethod\n",
    "    def dodaj_i_pomnoz(cls,a,b):\n",
    "        return cls.dodaj(a,b)*2\n",
    "m=Matematyka()\n",
    "print(m.policz_obwod(7))\n",
    "print(Matematyka.dodaj(2,3))\n",
    "print(Matematyka.dodaj_i_pomnoz(2,3))"
   ]
  },
  {
   "cell_type": "markdown",
   "id": "36f6d9dc",
   "metadata": {},
   "source": [
    "### Zadanie 39. Zapisz kod, który dla liczb od 1 do n wypisze Fizz (podz przez 3)/ Buzz (podz przez 5), FizzBuzz (podz przez 15), liczbę wpp."
   ]
  },
  {
   "cell_type": "code",
   "execution_count": 4,
   "id": "7715fa3b",
   "metadata": {},
   "outputs": [
    {
     "name": "stdout",
     "output_type": "stream",
     "text": [
      "1\n",
      "2\n",
      "fizz\n",
      "4\n",
      "buzz\n",
      "fizz\n",
      "7\n",
      "8\n",
      "fizz\n",
      "buzz\n",
      "11\n",
      "fizz\n",
      "13\n",
      "14\n",
      "fizzbuzz\n",
      "16\n",
      "17\n",
      "fizz\n",
      "19\n",
      "buzz\n",
      "fizz\n",
      "22\n",
      "23\n",
      "fizz\n",
      "buzz\n",
      "26\n",
      "fizz\n",
      "28\n",
      "29\n",
      "fizzbuzz\n"
     ]
    }
   ],
   "source": [
    "def fizzbuzz(n):\n",
    "    for num in range(1, n+1):\n",
    "        if (num%15==0):\n",
    "            print(\"fizzbuzz\")\n",
    "        elif (num%3==0):\n",
    "            print(\"fizz\")\n",
    "        elif(num%5==0):\n",
    "            print(\"buzz\")\n",
    "        else:\n",
    "            print(num)\n",
    "fizzbuzz(30)"
   ]
  },
  {
   "cell_type": "markdown",
   "id": "b910e533",
   "metadata": {},
   "source": [
    "### Zadanie 40. Wypisz n-ty element ciagu Fibonaciego."
   ]
  },
  {
   "cell_type": "code",
   "execution_count": 142,
   "id": "d83e82cc",
   "metadata": {},
   "outputs": [],
   "source": [
    "def fibonaci(n):\n",
    "    p,d = 1,1\n",
    "    for _ in range(n):\n",
    "        p, d = d, p+d\n",
    "    return p"
   ]
  },
  {
   "cell_type": "code",
   "execution_count": 143,
   "id": "5d439dff",
   "metadata": {},
   "outputs": [
    {
     "data": {
      "text/plain": [
       "8"
      ]
     },
     "execution_count": 143,
     "metadata": {},
     "output_type": "execute_result"
    }
   ],
   "source": [
    "fibonaci(5)"
   ]
  },
  {
   "cell_type": "markdown",
   "id": "1e15c0f4",
   "metadata": {},
   "source": [
    "### Zadanie 41. Napisz funkcje ktora wypisze pliki z danego katalogu."
   ]
  },
  {
   "cell_type": "code",
   "execution_count": 163,
   "id": "d92dba85",
   "metadata": {},
   "outputs": [
    {
     "name": "stdout",
     "output_type": "stream",
     "text": [
      "C:\\Users\\kubeq\\OneDrive\\Pulpit\\SGH\\II semestr\\8. Angielski\\1. Tłumaczenia\\1. Tłumaczenia.pdf\n",
      "C:\\Users\\kubeq\\OneDrive\\Pulpit\\SGH\\II semestr\\8. Angielski\\1. Tłumaczenia\\2. Tłumaczanie.pptx\n",
      "C:\\Users\\kubeq\\OneDrive\\Pulpit\\SGH\\II semestr\\8. Angielski\\2. Luki\\1. Luki z egzaminu z 15 czerwca.pdf\n",
      "C:\\Users\\kubeq\\OneDrive\\Pulpit\\SGH\\II semestr\\8. Angielski\\2. Luki\\2. egzamin_szklany_sufit.pdf\n",
      "C:\\Users\\kubeq\\OneDrive\\Pulpit\\SGH\\II semestr\\8. Angielski\\2. Luki\\3. egzamin_roboty.pdf\n",
      "C:\\Users\\kubeq\\OneDrive\\Pulpit\\SGH\\II semestr\\8. Angielski\\2. Luki\\4. egzamin_i_phony.pdf\n",
      "C:\\Users\\kubeq\\OneDrive\\Pulpit\\SGH\\II semestr\\8. Angielski\\2. Luki\\5. egzaminy_z_poprzednich_lat_odpowiedzi.pdf\n",
      "C:\\Users\\kubeq\\OneDrive\\Pulpit\\SGH\\II semestr\\8. Angielski\\2. Luki\\6. Luki z egzaminu z 15 czerwca.docx\n",
      "C:\\Users\\kubeq\\OneDrive\\Pulpit\\SGH\\II semestr\\8. Angielski\\3. Kolokwia\\1. Kolokwia.pdf\n",
      "C:\\Users\\kubeq\\OneDrive\\Pulpit\\SGH\\II semestr\\8. Angielski\\4. Ustna odpowiedź\\1. Lista pytań.pdf\n",
      "C:\\Users\\kubeq\\OneDrive\\Pulpit\\SGH\\II semestr\\8. Angielski\\4. Ustna odpowiedź\\2. Opracowania pytań (moja grupa_.pdf\n",
      "C:\\Users\\kubeq\\OneDrive\\Pulpit\\SGH\\II semestr\\8. Angielski\\4. Ustna odpowiedź\\3. Opracowania pytań (inna grupa).pdf\n",
      "C:\\Users\\kubeq\\OneDrive\\Pulpit\\SGH\\II semestr\\8. Angielski\\4. Ustna odpowiedź\\4. Moje opracowanie pytań na ustny.pdf\n",
      "C:\\Users\\kubeq\\OneDrive\\Pulpit\\SGH\\II semestr\\8. Angielski\\4. Ustna odpowiedź\\5. Pytania z ustnego egzaminu.pdf\n",
      "C:\\Users\\kubeq\\OneDrive\\Pulpit\\SGH\\II semestr\\8. Angielski\\4. Ustna odpowiedź\\6. Moje opracowanie pytań na ustny.pptx\n",
      "C:\\Users\\kubeq\\OneDrive\\Pulpit\\SGH\\II semestr\\8. Angielski\\5. Podręcznik ze słownictwem; słownictwo; kserówki\\1. Business English Handbook - Advanced.pdf\n",
      "C:\\Users\\kubeq\\OneDrive\\Pulpit\\SGH\\II semestr\\8. Angielski\\5. Podręcznik ze słownictwem; słownictwo; kserówki\\2. Wyrażenia z gazety.pdf\n",
      "C:\\Users\\kubeq\\OneDrive\\Pulpit\\SGH\\II semestr\\8. Angielski\\5. Podręcznik ze słownictwem; słownictwo; kserówki\\3. Słówka (dosyć mało).xlsx\n",
      "C:\\Users\\kubeq\\OneDrive\\Pulpit\\SGH\\II semestr\\8. Angielski\\5. Podręcznik ze słownictwem; słownictwo; kserówki\\4. Kserówki.pdf\n",
      "C:\\Users\\kubeq\\OneDrive\\Pulpit\\SGH\\II semestr\\8. Angielski\\~$Pytania_na_ustny.pptx\n",
      "C:\\Users\\kubeq\\OneDrive\\Pulpit\\SGH\\II semestr\\8. Angielski\\~$tania na ustny.docx\n",
      "C:\\Users\\kubeq\\OneDrive\\Pulpit\\SGH\\II semestr\\8. Angielski\\~$ła to największa podwyżka płac w ciągu 12 miesięcy w jakiejkolwiek branży.docx\n"
     ]
    }
   ],
   "source": [
    "# os.listdir - wszystko co wewnatrz katalogu\n",
    "# os.path.join\n",
    "# os.path.isdir\n",
    "import os\n",
    "def wypisz(sciezka):\n",
    "    for element in os.listdir(sciezka):\n",
    "        sciezka_do_elementu = os.path.join(sciezka, element)\n",
    "        if os.path.isdir(sciezka_do_elementu):\n",
    "            wypisz(sciezka_do_elementu)\n",
    "        else:\n",
    "            print(sciezka_do_elementu)\n",
    "wypisz(r\"C:\\Users\\kubeq\\OneDrive\\Pulpit\\SGH\\II semestr\\8. Angielski\")"
   ]
  },
  {
   "cell_type": "markdown",
   "id": "8a8c8fb1",
   "metadata": {},
   "source": [
    "### Zadanie 42. Za pomoca wyszukiwania binarnego sprawdz czy 341 znajduje sie na liscie"
   ]
  },
  {
   "cell_type": "code",
   "execution_count": 145,
   "id": "2d1d4b96",
   "metadata": {},
   "outputs": [],
   "source": [
    "P = [-10, 0, 10, 200, 340, 341, 400, 403]"
   ]
  },
  {
   "cell_type": "code",
   "execution_count": 149,
   "id": "4329cb7e",
   "metadata": {},
   "outputs": [
    {
     "name": "stdout",
     "output_type": "stream",
     "text": [
      "nie\n"
     ]
    }
   ],
   "source": [
    "szukana = 342\n",
    "left = 0\n",
    "right = len(P)-1\n",
    "while left<=right:\n",
    "    srodkowy = (left + right)//2\n",
    "    if P[srodkowy]==szukana:\n",
    "        print('tak')\n",
    "        break\n",
    "    elif P[srodkowy]>szukana:\n",
    "        right = srodkowy - 1\n",
    "    else:\n",
    "        left = srodkowy + 1\n",
    "else:\n",
    "    print('nie')"
   ]
  },
  {
   "cell_type": "markdown",
   "id": "5685883a",
   "metadata": {},
   "source": [
    "### Zadanie 43. Uszereguj zlozonosci od najlepszej do najgorszej."
   ]
  },
  {
   "cell_type": "code",
   "execution_count": null,
   "id": "eec4022d",
   "metadata": {},
   "outputs": [],
   "source": [
    "# o(1)\n",
    "# o(log(n))\n",
    "# o(n)\n",
    "# o(n*ln(n))\n",
    "# o(n**2)\n",
    "# o(2**n)"
   ]
  },
  {
   "cell_type": "markdown",
   "id": "919f29cd",
   "metadata": {},
   "source": [
    "### Zadanie 44. Co to znaczy, że Python jest dynamicznie typowalny?"
   ]
  },
  {
   "cell_type": "code",
   "execution_count": null,
   "id": "c64b0d2e",
   "metadata": {},
   "outputs": [],
   "source": [
    "# nie trzeba deklarowac typow zmiennych"
   ]
  },
  {
   "cell_type": "markdown",
   "id": "1155dc96",
   "metadata": {},
   "source": [
    "### Zadanie 45. W jaki sposob zadbasz, aby twoj kod byl czytelny?"
   ]
  },
  {
   "cell_type": "code",
   "execution_count": null,
   "id": "cd1fb75b",
   "metadata": {},
   "outputs": [],
   "source": [
    "# PEP8 - dokument z zasadami\n",
    "# klasy z duzej\n",
    "# zmienne i funkcje z malej"
   ]
  },
  {
   "cell_type": "markdown",
   "id": "361469f2",
   "metadata": {},
   "source": [
    "### Zadanie 46. W jaki sposob importuje sie moduly?"
   ]
  },
  {
   "cell_type": "code",
   "execution_count": null,
   "id": "b30e16f4",
   "metadata": {},
   "outputs": [],
   "source": [
    "# pip install"
   ]
  },
  {
   "cell_type": "markdown",
   "id": "8e0d3934",
   "metadata": {},
   "source": [
    "### Zadanie 47. Do czego sluza funkcje dir i help?"
   ]
  },
  {
   "cell_type": "code",
   "execution_count": 159,
   "id": "9cb49ceb",
   "metadata": {},
   "outputs": [
    {
     "name": "stdout",
     "output_type": "stream",
     "text": [
      "Help on method_descriptor:\n",
      "\n",
      "count(self, value, /)\n",
      "    Return number of occurrences of value.\n",
      "\n"
     ]
    }
   ],
   "source": [
    "help(list.count)"
   ]
  },
  {
   "cell_type": "markdown",
   "id": "2b050dca",
   "metadata": {},
   "source": [
    "### Zadanie 48. Jakie są wady i zalety Pythona?"
   ]
  },
  {
   "cell_type": "code",
   "execution_count": null,
   "id": "bd3df5bc",
   "metadata": {},
   "outputs": [],
   "source": [
    "# prosta składnia\n",
    "# brak nawiasow klamrowych\n",
    "# kod wykonuje sie linijka po linijce - pierwsze linijki przed bledem sie wykonaja\n",
    "# nie trzeba deklarowac typow zmiennych\n",
    "# jezyk interpretowany, a nie kompilowany"
   ]
  },
  {
   "cell_type": "markdown",
   "id": "9cd37fca",
   "metadata": {},
   "source": [
    "### Zadanie 49. Skąd czerpiesz wiedzę o Pythonie?"
   ]
  },
  {
   "cell_type": "code",
   "execution_count": null,
   "id": "650b7117",
   "metadata": {},
   "outputs": [],
   "source": [
    "# dokumentacja pythona\n",
    "# stack overflow\n",
    "# meetup - wydarzenia zwiazane z Pythonem"
   ]
  },
  {
   "cell_type": "markdown",
   "id": "2b6e6006",
   "metadata": {},
   "source": [
    "### Zadanie 50. Co się stanie po uruchomieniu kodu?"
   ]
  },
  {
   "cell_type": "code",
   "execution_count": 151,
   "id": "2bcc1ca7",
   "metadata": {},
   "outputs": [
    {
     "name": "stdout",
     "output_type": "stream",
     "text": [
      "The Zen of Python, by Tim Peters\n",
      "\n",
      "Beautiful is better than ugly.\n",
      "Explicit is better than implicit.\n",
      "Simple is better than complex.\n",
      "Complex is better than complicated.\n",
      "Flat is better than nested.\n",
      "Sparse is better than dense.\n",
      "Readability counts.\n",
      "Special cases aren't special enough to break the rules.\n",
      "Although practicality beats purity.\n",
      "Errors should never pass silently.\n",
      "Unless explicitly silenced.\n",
      "In the face of ambiguity, refuse the temptation to guess.\n",
      "There should be one-- and preferably only one --obvious way to do it.\n",
      "Although that way may not be obvious at first unless you're Dutch.\n",
      "Now is better than never.\n",
      "Although never is often better than *right* now.\n",
      "If the implementation is hard to explain, it's a bad idea.\n",
      "If the implementation is easy to explain, it may be a good idea.\n",
      "Namespaces are one honking great idea -- let's do more of those!\n"
     ]
    }
   ],
   "source": [
    "import this"
   ]
  }
 ],
 "metadata": {
  "kernelspec": {
   "display_name": "Python 3 (ipykernel)",
   "language": "python",
   "name": "python3"
  },
  "language_info": {
   "codemirror_mode": {
    "name": "ipython",
    "version": 3
   },
   "file_extension": ".py",
   "mimetype": "text/x-python",
   "name": "python",
   "nbconvert_exporter": "python",
   "pygments_lexer": "ipython3",
   "version": "3.10.0"
  }
 },
 "nbformat": 4,
 "nbformat_minor": 5
}
