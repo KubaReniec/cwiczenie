{
 "cells": [
  {
   "cell_type": "markdown",
   "id": "a06dedfe",
   "metadata": {},
   "source": [
    "# Ćwiczenia z pandas"
   ]
  },
  {
   "cell_type": "markdown",
   "id": "299fca2c",
   "metadata": {},
   "source": [
    "### Zadanie 1. Utwórz obiekt typu series na podstawie listy."
   ]
  },
  {
   "cell_type": "code",
   "execution_count": 4,
   "id": "19515263",
   "metadata": {},
   "outputs": [
    {
     "name": "stdout",
     "output_type": "stream",
     "text": [
      "0    PLW\n",
      "1    CDR\n",
      "2    11B\n",
      "3    TEN\n",
      "dtype: object\n"
     ]
    }
   ],
   "source": [
    "import pandas as pd\n",
    "stocks = ['PLW', 'CDR', '11B', 'TEN']\n",
    "print(pd.Series(stocks))"
   ]
  },
  {
   "cell_type": "markdown",
   "id": "a3554e69",
   "metadata": {},
   "source": [
    "### Zadanie 2. Utwórz obiekt typu series na podstawie słownika."
   ]
  },
  {
   "cell_type": "code",
   "execution_count": 5,
   "id": "9921d1eb",
   "metadata": {},
   "outputs": [
    {
     "name": "stdout",
     "output_type": "stream",
     "text": [
      "PLW    387.0\n",
      "CDR    339.5\n",
      "TEN    349.5\n",
      "11B    391.0\n",
      "dtype: float64\n"
     ]
    }
   ],
   "source": [
    "stocks = {'PLW': 387.00, 'CDR': 339.5, 'TEN': 349.5, '11B': 391.0}\n",
    "print(pd.Series(stocks))"
   ]
  },
  {
   "cell_type": "markdown",
   "id": "19cea49d",
   "metadata": {},
   "source": [
    "### Zadanie 3. Przekształć obiekt typu series na listę."
   ]
  },
  {
   "cell_type": "code",
   "execution_count": 99,
   "id": "ae8d331c",
   "metadata": {},
   "outputs": [
    {
     "data": {
      "text/plain": [
       "[387.0, 339.5, 349.5, 391.0]"
      ]
     },
     "execution_count": 99,
     "metadata": {},
     "output_type": "execute_result"
    }
   ],
   "source": [
    "stocks = {'PLW': 387.00, 'CDR': 339.5, 'TEN': 349.5, '11B': 391.0}\n",
    "quotations = pd.Series(data=stocks)\n",
    "quotations = quotations.to_list()\n",
    "quotations"
   ]
  },
  {
   "cell_type": "markdown",
   "id": "24ef6823",
   "metadata": {},
   "source": [
    "### Zadanie 4. Utwórz obiekt typu dataframe na podstawie obiektu typu series."
   ]
  },
  {
   "cell_type": "code",
   "execution_count": 8,
   "id": "3eb02a51",
   "metadata": {},
   "outputs": [
    {
     "name": "stdout",
     "output_type": "stream",
     "text": [
      "     price\n",
      "PLW  387.0\n",
      "CDR  339.5\n",
      "TEN  349.5\n",
      "11B  391.0\n"
     ]
    }
   ],
   "source": [
    "stocks = {'PLW': 387.00, 'CDR': 339.5, 'TEN': 349.5, '11B': 391.0}\n",
    "quotations = pd.Series(data=stocks)\n",
    "quotations = pd.DataFrame(quotations, columns=['price'])\n",
    "print(quotations)"
   ]
  },
  {
   "cell_type": "markdown",
   "id": "1c1170fe",
   "metadata": {},
   "source": [
    "### Zadanie 5. Utwórz obiekt typu series z zadanymi indeksami."
   ]
  },
  {
   "cell_type": "code",
   "execution_count": 12,
   "id": "675df32b",
   "metadata": {},
   "outputs": [
    {
     "name": "stdout",
     "output_type": "stream",
     "text": [
      "101    10.0\n",
      "102    20.0\n",
      "103    30.0\n",
      "104    40.0\n",
      "105    50.0\n",
      "106    60.0\n",
      "107    70.0\n",
      "108    80.0\n",
      "109    90.0\n",
      "dtype: float64\n"
     ]
    }
   ],
   "source": [
    "import numpy as np\n",
    "s = pd.Series(data=range(10, 100, 10), index=range(101, 110), dtype='float')\n",
    "print(s)"
   ]
  },
  {
   "cell_type": "markdown",
   "id": "6aeeaf4f",
   "metadata": {},
   "source": [
    "### Zadanie 6. Zmień typ danych na int."
   ]
  },
  {
   "cell_type": "code",
   "execution_count": 15,
   "id": "e8de3727",
   "metadata": {},
   "outputs": [
    {
     "name": "stdout",
     "output_type": "stream",
     "text": [
      "a    1\n",
      "b    2\n",
      "c    3\n",
      "d    4\n",
      "dtype: int32\n"
     ]
    }
   ],
   "source": [
    "series = pd.Series(['001', '002', '003', '004'], list('abcd'))\n",
    "series = series.astype(int)\n",
    "print(series)"
   ]
  },
  {
   "cell_type": "markdown",
   "id": "e0838bbe",
   "metadata": {},
   "source": [
    "### Zadanie 7. Dodaj elementy do obiektu typu Series."
   ]
  },
  {
   "cell_type": "code",
   "execution_count": 19,
   "id": "715e450f",
   "metadata": {},
   "outputs": [
    {
     "name": "stdout",
     "output_type": "stream",
     "text": [
      "PLW    387.0\n",
      "CDR    339.5\n",
      "TEN    349.5\n",
      "11B    391.0\n",
      "BBT     25.5\n",
      "F51     19.2\n",
      "dtype: float64\n"
     ]
    },
    {
     "name": "stderr",
     "output_type": "stream",
     "text": [
      "C:\\Users\\kubeq\\AppData\\Local\\Temp\\ipykernel_12064\\3540210119.py:3: FutureWarning: The series.append method is deprecated and will be removed from pandas in a future version. Use pandas.concat instead.\n",
      "  quotations = quotations.append(pd.Series({'BBT':25.5, 'F51':19.2}))\n"
     ]
    }
   ],
   "source": [
    "stocks = {'PLW': 387.00, 'CDR': 339.5, 'TEN': 349.5, '11B': 391.0}\n",
    "quotations = pd.Series(data=stocks)\n",
    "quotations = quotations.append(pd.Series({'BBT':25.5, 'F51':19.2}))\n",
    "print(quotations)"
   ]
  },
  {
   "cell_type": "markdown",
   "id": "afefa8e7",
   "metadata": {},
   "source": [
    "### Zadanie 8. Zresetuj indeks w obiekcie typu dataframe."
   ]
  },
  {
   "cell_type": "code",
   "execution_count": 25,
   "id": "b91a5937",
   "metadata": {},
   "outputs": [
    {
     "name": "stdout",
     "output_type": "stream",
     "text": [
      "  ticker  price\n",
      "0    PLW  387.0\n",
      "1    CDR  339.5\n",
      "2    TEN  349.5\n",
      "3    11B  391.0\n",
      "4    BBT   25.5\n",
      "5    F51   19.2\n"
     ]
    }
   ],
   "source": [
    "stocks = {'PLW': 387.00, 'CDR': 339.5, 'TEN': 349.5, '11B': 391.0, 'BBT': 25.5, 'F51': 19.2}\n",
    "quotations = pd.Series(data=stocks)\n",
    "quotations = pd.DataFrame(quotations).reset_index()\n",
    "quotations.columns = ['ticker', 'price']\n",
    "print(quotations)"
   ]
  },
  {
   "cell_type": "markdown",
   "id": "c261d14b",
   "metadata": {},
   "source": [
    "### Zadanie 9. Utwórz obiekt typu DataFrame."
   ]
  },
  {
   "cell_type": "code",
   "execution_count": 34,
   "id": "a68cfeb9",
   "metadata": {},
   "outputs": [
    {
     "data": {
      "text/html": [
       "<div>\n",
       "<style scoped>\n",
       "    .dataframe tbody tr th:only-of-type {\n",
       "        vertical-align: middle;\n",
       "    }\n",
       "\n",
       "    .dataframe tbody tr th {\n",
       "        vertical-align: top;\n",
       "    }\n",
       "\n",
       "    .dataframe thead th {\n",
       "        text-align: right;\n",
       "    }\n",
       "</style>\n",
       "<table border=\"1\" class=\"dataframe\">\n",
       "  <thead>\n",
       "    <tr style=\"text-align: right;\">\n",
       "      <th></th>\n",
       "      <th>company</th>\n",
       "      <th>price</th>\n",
       "      <th>ticker</th>\n",
       "    </tr>\n",
       "  </thead>\n",
       "  <tbody>\n",
       "    <tr>\n",
       "      <th>0</th>\n",
       "      <td>Amazon</td>\n",
       "      <td>2375.0</td>\n",
       "      <td>AMZN.US</td>\n",
       "    </tr>\n",
       "    <tr>\n",
       "      <th>1</th>\n",
       "      <td>Microsoft</td>\n",
       "      <td>178.6</td>\n",
       "      <td>MSFT.US</td>\n",
       "    </tr>\n",
       "    <tr>\n",
       "      <th>2</th>\n",
       "      <td>Facebook</td>\n",
       "      <td>179.2</td>\n",
       "      <td>FB.US</td>\n",
       "    </tr>\n",
       "  </tbody>\n",
       "</table>\n",
       "</div>"
      ],
      "text/plain": [
       "     company   price   ticker\n",
       "0     Amazon  2375.0  AMZN.US\n",
       "1  Microsoft   178.6  MSFT.US\n",
       "2   Facebook   179.2    FB.US"
      ]
     },
     "execution_count": 34,
     "metadata": {},
     "output_type": "execute_result"
    }
   ],
   "source": [
    "companies = pd.DataFrame({'company': ['Amazon', 'Microsoft', 'Facebook'], \n",
    "                         'price': [2375.0, 178.6, 179.2], \n",
    "                         'ticker': ['AMZN.US','MSFT.US','FB.US']})\n",
    "companies"
   ]
  },
  {
   "cell_type": "markdown",
   "id": "609091c6",
   "metadata": {},
   "source": [
    "### Zadanie 10. Przekształć kolumnę company na indeks."
   ]
  },
  {
   "cell_type": "code",
   "execution_count": 35,
   "id": "c7aee2d9",
   "metadata": {},
   "outputs": [
    {
     "name": "stdout",
     "output_type": "stream",
     "text": [
      "            price   ticker\n",
      "company                   \n",
      "Amazon     2375.0  AMZN.US\n",
      "Microsoft   178.6  MSFT.US\n",
      "Facebook    179.2    FB.US\n"
     ]
    }
   ],
   "source": [
    "data_dict = {\n",
    "    'company': ['Amazon', 'Microsoft', 'Facebook'],\n",
    "    'price': [2375.00, 178.6, 179.2],\n",
    "    'ticker': ['AMZN.US', 'MSFT.US', 'FB.US']\n",
    "}\n",
    "companies = pd.DataFrame(data=data_dict)\n",
    "companies = companies.set_index('company')\n",
    "print(companies)"
   ]
  },
  {
   "cell_type": "markdown",
   "id": "2ae89cb8",
   "metadata": {},
   "source": [
    "### Zadanie 11. Zbuduj obiekt zawierający daty dla wszystkich dni od stycznia 2020."
   ]
  },
  {
   "cell_type": "code",
   "execution_count": 36,
   "id": "b5fd4958",
   "metadata": {},
   "outputs": [
    {
     "name": "stdout",
     "output_type": "stream",
     "text": [
      "DatetimeIndex(['2020-01-01', '2020-01-02', '2020-01-03', '2020-01-04',\n",
      "               '2020-01-05', '2020-01-06', '2020-01-07', '2020-01-08',\n",
      "               '2020-01-09', '2020-01-10', '2020-01-11', '2020-01-12',\n",
      "               '2020-01-13', '2020-01-14', '2020-01-15', '2020-01-16',\n",
      "               '2020-01-17', '2020-01-18', '2020-01-19', '2020-01-20',\n",
      "               '2020-01-21', '2020-01-22', '2020-01-23', '2020-01-24',\n",
      "               '2020-01-25', '2020-01-26', '2020-01-27', '2020-01-28',\n",
      "               '2020-01-29', '2020-01-30', '2020-01-31'],\n",
      "              dtype='datetime64[ns]', freq='D')\n"
     ]
    }
   ],
   "source": [
    "date_range = pd.date_range(start='2020-01-01', periods=31)\n",
    "print(date_range)"
   ]
  },
  {
   "cell_type": "markdown",
   "id": "d87f06c8",
   "metadata": {},
   "source": [
    "### Zadanie 12. Zbuduj obiekt zawierający daty dla wszystkich poniedziałków od stycznia 2020."
   ]
  },
  {
   "cell_type": "code",
   "execution_count": null,
   "id": "23ffafd0",
   "metadata": {},
   "outputs": [],
   "source": [
    "import pandas as pd\n",
    "date_range = pd.date_range(start='2020-01-01', end='2020-12-31', freq='W-MON')\n",
    "print(date_range)"
   ]
  },
  {
   "cell_type": "markdown",
   "id": "e53eda79",
   "metadata": {},
   "source": [
    "### Zadanie 13. Zbuduj obiekt zawierający godziny określonego dnia."
   ]
  },
  {
   "cell_type": "code",
   "execution_count": 38,
   "id": "49423ae8",
   "metadata": {},
   "outputs": [
    {
     "name": "stdout",
     "output_type": "stream",
     "text": [
      "DatetimeIndex(['2021-01-01 00:00:00', '2021-01-01 01:00:00',\n",
      "               '2021-01-01 02:00:00', '2021-01-01 03:00:00',\n",
      "               '2021-01-01 04:00:00', '2021-01-01 05:00:00',\n",
      "               '2021-01-01 06:00:00', '2021-01-01 07:00:00',\n",
      "               '2021-01-01 08:00:00', '2021-01-01 09:00:00',\n",
      "               '2021-01-01 10:00:00', '2021-01-01 11:00:00',\n",
      "               '2021-01-01 12:00:00', '2021-01-01 13:00:00',\n",
      "               '2021-01-01 14:00:00', '2021-01-01 15:00:00',\n",
      "               '2021-01-01 16:00:00', '2021-01-01 17:00:00',\n",
      "               '2021-01-01 18:00:00', '2021-01-01 19:00:00',\n",
      "               '2021-01-01 20:00:00', '2021-01-01 21:00:00',\n",
      "               '2021-01-01 22:00:00', '2021-01-01 23:00:00'],\n",
      "              dtype='datetime64[ns]', freq='H')\n"
     ]
    }
   ],
   "source": [
    "date_range = pd.date_range(start='2021-01-01', periods=24, freq='H')\n",
    "print(date_range)"
   ]
  },
  {
   "cell_type": "markdown",
   "id": "5f4abc02",
   "metadata": {},
   "source": [
    "### Zadanie 14. Zbuduj obiekt DataFrame z datami i numerami dnia w ciągu roku."
   ]
  },
  {
   "cell_type": "code",
   "execution_count": 61,
   "id": "836fb25a",
   "metadata": {},
   "outputs": [
    {
     "name": "stdout",
     "output_type": "stream",
     "text": [
      "         day  day_of_year\n",
      "0 2021-03-01           60\n",
      "1 2021-03-02           61\n",
      "2 2021-03-03           62\n",
      "3 2021-03-04           63\n",
      "4 2021-03-05           64\n"
     ]
    }
   ],
   "source": [
    "day = pd.date_range(start = '2021-03-01', end = '2021-03-31')\n",
    "df = pd.DataFrame({'day':day})\n",
    "df['day_of_year'] = df['day'].dt.dayofyear\n",
    "print(df[:5])"
   ]
  },
  {
   "cell_type": "markdown",
   "id": "3899b949",
   "metadata": {},
   "source": [
    "### Zadanie 15. Zbuduj obiekt DataFrame jako indeks ustawiając daty."
   ]
  },
  {
   "cell_type": "code",
   "execution_count": 43,
   "id": "0101b8dd",
   "metadata": {},
   "outputs": [
    {
     "name": "stdout",
     "output_type": "stream",
     "text": [
      "              normal   uniform  binomial\n",
      "2020-01-01  0.496714  0.167483         0\n",
      "2020-01-02 -0.138264  0.104568         0\n",
      "2020-01-03  0.647689  0.636430         0\n",
      "2020-01-04  1.523030  0.706476         0\n",
      "2020-01-05 -0.234153  0.031586         1\n",
      "...              ...       ...       ...\n",
      "2022-09-22 -0.281100  0.280683         1\n",
      "2022-09-23  1.797687  0.206993         0\n",
      "2022-09-24  0.640843  0.516573         0\n",
      "2022-09-25 -0.571179  0.005506         1\n",
      "2022-09-26  0.572583  0.007664         0\n",
      "\n",
      "[1000 rows x 3 columns]\n"
     ]
    }
   ],
   "source": [
    "np.random.seed(42)\n",
    "data_dict = {\n",
    "    'normal': np.random.normal(loc=0, scale=1, size=1000),\n",
    "    'uniform': np.random.uniform(low=0, high=1, size=1000),\n",
    "    'binomial': np.random.binomial(n=1, p=0.2, size=1000)\n",
    "}\n",
    "indeks = pd.date_range(start = '2020-01-01', periods=1000)\n",
    "df = pd.DataFrame(data_dict, indeks)\n",
    "print(df)"
   ]
  },
  {
   "cell_type": "markdown",
   "id": "6f951002",
   "metadata": {},
   "source": [
    "### Zadanie 16. Wydrukuj pierwsze 10 i ostatnie 5 wierszy obiektu typu DataFrame."
   ]
  },
  {
   "cell_type": "code",
   "execution_count": 49,
   "id": "a061dfb1",
   "metadata": {},
   "outputs": [
    {
     "name": "stdout",
     "output_type": "stream",
     "text": [
      "              normal   uniform  binomial\n",
      "2020-01-01  0.496714  0.167483         0\n",
      "2020-01-02 -0.138264  0.104568         0\n",
      "2020-01-03  0.647689  0.636430         0\n",
      "2020-01-04  1.523030  0.706476         0\n",
      "2020-01-05 -0.234153  0.031586         1\n",
      "2020-01-06 -0.234137  0.936212         0\n",
      "2020-01-07  1.579213  0.051971         0\n",
      "2020-01-08  0.767435  0.541296         0\n",
      "2020-01-09 -0.469474  0.709061         1\n",
      "2020-01-10  0.542560  0.870969         0\n",
      "\n",
      "              normal   uniform  binomial\n",
      "2022-09-22 -0.281100  0.280683         1\n",
      "2022-09-23  1.797687  0.206993         0\n",
      "2022-09-24  0.640843  0.516573         0\n",
      "2022-09-25 -0.571179  0.005506         1\n",
      "2022-09-26  0.572583  0.007664         0\n"
     ]
    }
   ],
   "source": [
    "print(df[:10])\n",
    "print()\n",
    "print(df[-5:])"
   ]
  },
  {
   "cell_type": "markdown",
   "id": "271d8ab8",
   "metadata": {},
   "source": [
    "### Zadanie 17. Wydrukuj statystyki opisowe zmiennych z obiektu typu DataFrame."
   ]
  },
  {
   "cell_type": "code",
   "execution_count": 50,
   "id": "f9518978",
   "metadata": {},
   "outputs": [
    {
     "name": "stdout",
     "output_type": "stream",
     "text": [
      "<class 'pandas.core.frame.DataFrame'>\n",
      "DatetimeIndex: 1000 entries, 2020-01-01 to 2022-09-26\n",
      "Freq: D\n",
      "Data columns (total 3 columns):\n",
      " #   Column    Non-Null Count  Dtype  \n",
      "---  ------    --------------  -----  \n",
      " 0   normal    1000 non-null   float64\n",
      " 1   uniform   1000 non-null   float64\n",
      " 2   binomial  1000 non-null   int32  \n",
      "dtypes: float64(2), int32(1)\n",
      "memory usage: 27.3 KB\n",
      "None\n",
      "\n",
      "            normal      uniform    binomial\n",
      "count  1000.000000  1000.000000  1000.00000\n",
      "mean      0.019332     0.503649     0.19200\n",
      "std       0.979216     0.288357     0.39407\n",
      "min      -3.241267     0.003218     0.00000\n",
      "25%      -0.647590     0.247199     0.00000\n",
      "50%       0.025301     0.516126     0.00000\n",
      "75%       0.647944     0.746319     0.00000\n",
      "max       3.852731     0.999414     1.00000\n"
     ]
    }
   ],
   "source": [
    "print(df.info())\n",
    "print()\n",
    "print(df.describe())"
   ]
  },
  {
   "cell_type": "markdown",
   "id": "53a21823",
   "metadata": {},
   "source": [
    "### Zadanie 18. Znajdź rozkład zmiennej z obiektu typu DataFrame."
   ]
  },
  {
   "cell_type": "code",
   "execution_count": 51,
   "id": "551d6ed9",
   "metadata": {},
   "outputs": [
    {
     "name": "stdout",
     "output_type": "stream",
     "text": [
      "0    808\n",
      "1    192\n",
      "Name: binomial, dtype: int64\n"
     ]
    }
   ],
   "source": [
    "print(df['binomial'].value_counts())"
   ]
  },
  {
   "cell_type": "markdown",
   "id": "bb7424e1",
   "metadata": {},
   "source": [
    "### Zadanie 19. Zapisz 50 pierwszych wierszy do pliku csv."
   ]
  },
  {
   "cell_type": "code",
   "execution_count": 56,
   "id": "c166ad87",
   "metadata": {},
   "outputs": [],
   "source": [
    "df[:50].to_csv('dataframe50.csv')"
   ]
  },
  {
   "cell_type": "markdown",
   "id": "838c7825",
   "metadata": {},
   "source": [
    "### Zadanie 20. Wczytaj zapisany plik pamiętaj o indeksie."
   ]
  },
  {
   "cell_type": "code",
   "execution_count": 4,
   "id": "90cca112",
   "metadata": {},
   "outputs": [
    {
     "data": {
      "text/html": [
       "<div>\n",
       "<style scoped>\n",
       "    .dataframe tbody tr th:only-of-type {\n",
       "        vertical-align: middle;\n",
       "    }\n",
       "\n",
       "    .dataframe tbody tr th {\n",
       "        vertical-align: top;\n",
       "    }\n",
       "\n",
       "    .dataframe thead th {\n",
       "        text-align: right;\n",
       "    }\n",
       "</style>\n",
       "<table border=\"1\" class=\"dataframe\">\n",
       "  <thead>\n",
       "    <tr style=\"text-align: right;\">\n",
       "      <th></th>\n",
       "      <th>normal</th>\n",
       "      <th>uniform</th>\n",
       "      <th>binomial</th>\n",
       "    </tr>\n",
       "  </thead>\n",
       "  <tbody>\n",
       "    <tr>\n",
       "      <th>2020-01-01</th>\n",
       "      <td>0.496714</td>\n",
       "      <td>0.167483</td>\n",
       "      <td>0</td>\n",
       "    </tr>\n",
       "    <tr>\n",
       "      <th>2020-01-02</th>\n",
       "      <td>-0.138264</td>\n",
       "      <td>0.104568</td>\n",
       "      <td>0</td>\n",
       "    </tr>\n",
       "    <tr>\n",
       "      <th>2020-01-03</th>\n",
       "      <td>0.647689</td>\n",
       "      <td>0.636430</td>\n",
       "      <td>0</td>\n",
       "    </tr>\n",
       "    <tr>\n",
       "      <th>2020-01-04</th>\n",
       "      <td>1.523030</td>\n",
       "      <td>0.706476</td>\n",
       "      <td>0</td>\n",
       "    </tr>\n",
       "    <tr>\n",
       "      <th>2020-01-05</th>\n",
       "      <td>-0.234153</td>\n",
       "      <td>0.031586</td>\n",
       "      <td>1</td>\n",
       "    </tr>\n",
       "  </tbody>\n",
       "</table>\n",
       "</div>"
      ],
      "text/plain": [
       "              normal   uniform  binomial\n",
       "2020-01-01  0.496714  0.167483         0\n",
       "2020-01-02 -0.138264  0.104568         0\n",
       "2020-01-03  0.647689  0.636430         0\n",
       "2020-01-04  1.523030  0.706476         0\n",
       "2020-01-05 -0.234153  0.031586         1"
      ]
     },
     "execution_count": 4,
     "metadata": {},
     "output_type": "execute_result"
    }
   ],
   "source": [
    "df_new = pd.read_csv('dataframe50.csv', index_col=0)\n",
    "df_new[:5]"
   ]
  },
  {
   "cell_type": "markdown",
   "id": "205e4b11",
   "metadata": {},
   "source": [
    "### Zadanie 21. Wczytaj plik."
   ]
  },
  {
   "cell_type": "code",
   "execution_count": null,
   "id": "d7652dcd",
   "metadata": {},
   "outputs": [],
   "source": [
    "google = pd.read_csv(\"google.csv\")\n",
    "print(google)"
   ]
  },
  {
   "cell_type": "markdown",
   "id": "8f360ec8",
   "metadata": {},
   "source": [
    "### Zadanie 22. Wypisz statystyki opisowe zmiennych z wczytanego pliku."
   ]
  },
  {
   "cell_type": "code",
   "execution_count": null,
   "id": "09ee18e3",
   "metadata": {},
   "outputs": [],
   "source": [
    "print(google.info())\n",
    "print()\n",
    "print(google.describe())"
   ]
  },
  {
   "cell_type": "markdown",
   "id": "de7deb9a",
   "metadata": {},
   "source": [
    "### Zadanie 23. Zamień indeks na kolumnę."
   ]
  },
  {
   "cell_type": "code",
   "execution_count": null,
   "id": "f49b4ae4",
   "metadata": {},
   "outputs": [],
   "source": [
    "google = google.reset_index()\n",
    "print(google)"
   ]
  },
  {
   "cell_type": "markdown",
   "id": "b200b389",
   "metadata": {},
   "source": [
    "### Zadanie 24. Dodaj kolumnę z miesiącem i rokiem."
   ]
  },
  {
   "cell_type": "code",
   "execution_count": null,
   "id": "91a669c2",
   "metadata": {},
   "outputs": [],
   "source": [
    "google['Date'] = pd.to_datetime(google['Date'])\n",
    "google['Year'] = google['Date'].dt.year\n",
    "google['Month'] = google['Date'].dt.month"
   ]
  },
  {
   "cell_type": "markdown",
   "id": "ea484e92",
   "metadata": {},
   "source": [
    "### Zadanie 25. Znajdź średnią cenę zamknięcia dla poszczególnych miesięcy."
   ]
  },
  {
   "cell_type": "code",
   "execution_count": null,
   "id": "692bb087",
   "metadata": {},
   "outputs": [],
   "source": [
    "print(google.groupby('Month')['Close'].mean())"
   ]
  },
  {
   "cell_type": "markdown",
   "id": "f4ab612c",
   "metadata": {},
   "source": [
    "### Zadanie 26. Znajdź wiersz z minimalną ceną zmaknięcia."
   ]
  },
  {
   "cell_type": "code",
   "execution_count": null,
   "id": "b24f2695",
   "metadata": {},
   "outputs": [],
   "source": [
    "idx_min = google['Close'].argmin()\n",
    "print(google.iloc[[idx_min]])"
   ]
  },
  {
   "cell_type": "markdown",
   "id": "19e80f70",
   "metadata": {},
   "source": [
    "### Zadanie 27. Wyodrębnij określone kolumny z obiektu typu DataFrame."
   ]
  },
  {
   "cell_type": "code",
   "execution_count": null,
   "id": "085ad84f",
   "metadata": {},
   "outputs": [],
   "source": [
    "print(google[['Date','Open','Close','Volume']])"
   ]
  },
  {
   "cell_type": "markdown",
   "id": "ee8df6f6",
   "metadata": {},
   "source": [
    "### Zadanie 28. Ustaw określony indeks kolumny."
   ]
  },
  {
   "cell_type": "code",
   "execution_count": null,
   "id": "528e45f3",
   "metadata": {},
   "outputs": [],
   "source": [
    "google = google.set_index('Date')"
   ]
  },
  {
   "cell_type": "markdown",
   "id": "b56331e5",
   "metadata": {},
   "source": [
    "### Zadanie 29. Usuń określone kolumny z obiketu typu DataFrame."
   ]
  },
  {
   "cell_type": "code",
   "execution_count": null,
   "id": "a65dd180",
   "metadata": {},
   "outputs": [],
   "source": [
    "google = google.drop(columns=['Year', 'Month'])"
   ]
  },
  {
   "cell_type": "markdown",
   "id": "e12cd3c3",
   "metadata": {},
   "source": [
    "### Zadanie 30. Zmień nazwy kolumn."
   ]
  },
  {
   "cell_type": "code",
   "execution_count": null,
   "id": "ed247d59",
   "metadata": {},
   "outputs": [],
   "source": [
    "google.columns = ['O', 'H', 'L', 'C', 'V']"
   ]
  },
  {
   "cell_type": "markdown",
   "id": "9d713fd1",
   "metadata": {},
   "source": [
    "### Zadanie 31. Wczytaj plik i wyświetl 5 pierwszych wierszy."
   ]
  },
  {
   "cell_type": "code",
   "execution_count": 64,
   "id": "4063e012",
   "metadata": {},
   "outputs": [
    {
     "data": {
      "text/html": [
       "<div>\n",
       "<style scoped>\n",
       "    .dataframe tbody tr th:only-of-type {\n",
       "        vertical-align: middle;\n",
       "    }\n",
       "\n",
       "    .dataframe tbody tr th {\n",
       "        vertical-align: top;\n",
       "    }\n",
       "\n",
       "    .dataframe thead th {\n",
       "        text-align: right;\n",
       "    }\n",
       "</style>\n",
       "<table border=\"1\" class=\"dataframe\">\n",
       "  <thead>\n",
       "    <tr style=\"text-align: right;\">\n",
       "      <th></th>\n",
       "      <th>customerID</th>\n",
       "      <th>gender</th>\n",
       "      <th>SeniorCitizen</th>\n",
       "      <th>Partner</th>\n",
       "      <th>Dependents</th>\n",
       "      <th>tenure</th>\n",
       "      <th>PhoneService</th>\n",
       "      <th>MultipleLines</th>\n",
       "      <th>InternetService</th>\n",
       "      <th>OnlineSecurity</th>\n",
       "      <th>...</th>\n",
       "      <th>DeviceProtection</th>\n",
       "      <th>TechSupport</th>\n",
       "      <th>StreamingTV</th>\n",
       "      <th>StreamingMovies</th>\n",
       "      <th>Contract</th>\n",
       "      <th>PaperlessBilling</th>\n",
       "      <th>PaymentMethod</th>\n",
       "      <th>MonthlyCharges</th>\n",
       "      <th>TotalCharges</th>\n",
       "      <th>Churn</th>\n",
       "    </tr>\n",
       "  </thead>\n",
       "  <tbody>\n",
       "    <tr>\n",
       "      <th>0</th>\n",
       "      <td>7590-VHVEG</td>\n",
       "      <td>Female</td>\n",
       "      <td>0</td>\n",
       "      <td>Yes</td>\n",
       "      <td>No</td>\n",
       "      <td>1</td>\n",
       "      <td>No</td>\n",
       "      <td>No phone service</td>\n",
       "      <td>DSL</td>\n",
       "      <td>No</td>\n",
       "      <td>...</td>\n",
       "      <td>No</td>\n",
       "      <td>No</td>\n",
       "      <td>No</td>\n",
       "      <td>No</td>\n",
       "      <td>Month-to-month</td>\n",
       "      <td>Yes</td>\n",
       "      <td>Electronic check</td>\n",
       "      <td>29.85</td>\n",
       "      <td>29.85</td>\n",
       "      <td>No</td>\n",
       "    </tr>\n",
       "    <tr>\n",
       "      <th>1</th>\n",
       "      <td>5575-GNVDE</td>\n",
       "      <td>Male</td>\n",
       "      <td>0</td>\n",
       "      <td>No</td>\n",
       "      <td>No</td>\n",
       "      <td>34</td>\n",
       "      <td>Yes</td>\n",
       "      <td>No</td>\n",
       "      <td>DSL</td>\n",
       "      <td>Yes</td>\n",
       "      <td>...</td>\n",
       "      <td>Yes</td>\n",
       "      <td>No</td>\n",
       "      <td>No</td>\n",
       "      <td>No</td>\n",
       "      <td>One year</td>\n",
       "      <td>No</td>\n",
       "      <td>Mailed check</td>\n",
       "      <td>56.95</td>\n",
       "      <td>1889.5</td>\n",
       "      <td>No</td>\n",
       "    </tr>\n",
       "    <tr>\n",
       "      <th>2</th>\n",
       "      <td>3668-QPYBK</td>\n",
       "      <td>Male</td>\n",
       "      <td>0</td>\n",
       "      <td>No</td>\n",
       "      <td>No</td>\n",
       "      <td>2</td>\n",
       "      <td>Yes</td>\n",
       "      <td>No</td>\n",
       "      <td>DSL</td>\n",
       "      <td>Yes</td>\n",
       "      <td>...</td>\n",
       "      <td>No</td>\n",
       "      <td>No</td>\n",
       "      <td>No</td>\n",
       "      <td>No</td>\n",
       "      <td>Month-to-month</td>\n",
       "      <td>Yes</td>\n",
       "      <td>Mailed check</td>\n",
       "      <td>53.85</td>\n",
       "      <td>108.15</td>\n",
       "      <td>Yes</td>\n",
       "    </tr>\n",
       "    <tr>\n",
       "      <th>3</th>\n",
       "      <td>7795-CFOCW</td>\n",
       "      <td>Male</td>\n",
       "      <td>0</td>\n",
       "      <td>No</td>\n",
       "      <td>No</td>\n",
       "      <td>45</td>\n",
       "      <td>No</td>\n",
       "      <td>No phone service</td>\n",
       "      <td>DSL</td>\n",
       "      <td>Yes</td>\n",
       "      <td>...</td>\n",
       "      <td>Yes</td>\n",
       "      <td>Yes</td>\n",
       "      <td>No</td>\n",
       "      <td>No</td>\n",
       "      <td>One year</td>\n",
       "      <td>No</td>\n",
       "      <td>Bank transfer (automatic)</td>\n",
       "      <td>42.30</td>\n",
       "      <td>1840.75</td>\n",
       "      <td>No</td>\n",
       "    </tr>\n",
       "    <tr>\n",
       "      <th>4</th>\n",
       "      <td>9237-HQITU</td>\n",
       "      <td>Female</td>\n",
       "      <td>0</td>\n",
       "      <td>No</td>\n",
       "      <td>No</td>\n",
       "      <td>2</td>\n",
       "      <td>Yes</td>\n",
       "      <td>No</td>\n",
       "      <td>Fiber optic</td>\n",
       "      <td>No</td>\n",
       "      <td>...</td>\n",
       "      <td>No</td>\n",
       "      <td>No</td>\n",
       "      <td>No</td>\n",
       "      <td>No</td>\n",
       "      <td>Month-to-month</td>\n",
       "      <td>Yes</td>\n",
       "      <td>Electronic check</td>\n",
       "      <td>70.70</td>\n",
       "      <td>151.65</td>\n",
       "      <td>Yes</td>\n",
       "    </tr>\n",
       "  </tbody>\n",
       "</table>\n",
       "<p>5 rows × 21 columns</p>\n",
       "</div>"
      ],
      "text/plain": [
       "   customerID  gender  SeniorCitizen Partner Dependents  tenure PhoneService  \\\n",
       "0  7590-VHVEG  Female              0     Yes         No       1           No   \n",
       "1  5575-GNVDE    Male              0      No         No      34          Yes   \n",
       "2  3668-QPYBK    Male              0      No         No       2          Yes   \n",
       "3  7795-CFOCW    Male              0      No         No      45           No   \n",
       "4  9237-HQITU  Female              0      No         No       2          Yes   \n",
       "\n",
       "      MultipleLines InternetService OnlineSecurity  ... DeviceProtection  \\\n",
       "0  No phone service             DSL             No  ...               No   \n",
       "1                No             DSL            Yes  ...              Yes   \n",
       "2                No             DSL            Yes  ...               No   \n",
       "3  No phone service             DSL            Yes  ...              Yes   \n",
       "4                No     Fiber optic             No  ...               No   \n",
       "\n",
       "  TechSupport StreamingTV StreamingMovies        Contract PaperlessBilling  \\\n",
       "0          No          No              No  Month-to-month              Yes   \n",
       "1          No          No              No        One year               No   \n",
       "2          No          No              No  Month-to-month              Yes   \n",
       "3         Yes          No              No        One year               No   \n",
       "4          No          No              No  Month-to-month              Yes   \n",
       "\n",
       "               PaymentMethod MonthlyCharges  TotalCharges Churn  \n",
       "0           Electronic check          29.85         29.85    No  \n",
       "1               Mailed check          56.95        1889.5    No  \n",
       "2               Mailed check          53.85        108.15   Yes  \n",
       "3  Bank transfer (automatic)          42.30       1840.75    No  \n",
       "4           Electronic check          70.70        151.65   Yes  \n",
       "\n",
       "[5 rows x 21 columns]"
      ]
     },
     "execution_count": 64,
     "metadata": {},
     "output_type": "execute_result"
    }
   ],
   "source": [
    "url = 'https://ml-repository-krakers.s3-eu-west-1.amazonaws.com/kaggle+/churn_modelling/Telco-Customer-Churn.csv'\n",
    "df = pd.read_csv(url)\n",
    "df[:5]"
   ]
  },
  {
   "cell_type": "markdown",
   "id": "f12689b8",
   "metadata": {},
   "source": [
    "### Zadanie 32. Wyświetl liczbę brakujacych danych z każdej z kolumn."
   ]
  },
  {
   "cell_type": "code",
   "execution_count": 65,
   "id": "17b0dcd4",
   "metadata": {},
   "outputs": [
    {
     "name": "stdout",
     "output_type": "stream",
     "text": [
      "customerID          0\n",
      "gender              0\n",
      "SeniorCitizen       0\n",
      "Partner             0\n",
      "Dependents          0\n",
      "tenure              0\n",
      "PhoneService        0\n",
      "MultipleLines       0\n",
      "InternetService     0\n",
      "OnlineSecurity      0\n",
      "OnlineBackup        0\n",
      "DeviceProtection    0\n",
      "TechSupport         0\n",
      "StreamingTV         0\n",
      "StreamingMovies     0\n",
      "Contract            0\n",
      "PaperlessBilling    0\n",
      "PaymentMethod       0\n",
      "MonthlyCharges      0\n",
      "TotalCharges        0\n",
      "Churn               0\n",
      "dtype: int64\n"
     ]
    }
   ],
   "source": [
    "print(df.isnull().sum())"
   ]
  },
  {
   "cell_type": "markdown",
   "id": "2edfe143",
   "metadata": {},
   "source": [
    "### Zadanie 33. Usuń spacje, zastąp je wartością mediany."
   ]
  },
  {
   "cell_type": "code",
   "execution_count": 68,
   "id": "6981e555",
   "metadata": {},
   "outputs": [
    {
     "name": "stdout",
     "output_type": "stream",
     "text": [
      "1397.475    11\n",
      "20.200      11\n",
      "19.750       9\n",
      "20.050       8\n",
      "19.900       8\n",
      "            ..\n",
      "6849.400     1\n",
      "692.350      1\n",
      "130.150      1\n",
      "3211.900     1\n",
      "6844.500     1\n",
      "Name: TotalCharges, Length: 6531, dtype: int64\n"
     ]
    }
   ],
   "source": [
    "TotalChargesMedian = df['TotalCharges'][df['TotalCharges'] != ' '].median()\n",
    "df.loc[df['TotalCharges'] == ' ', 'TotalCharges'] = TotalChargesMedian\n",
    "df['TotalCharges'] = df['TotalCharges'].astype('float')\n",
    "print(df['TotalCharges'].value_counts())"
   ]
  },
  {
   "cell_type": "markdown",
   "id": "3a8569b2",
   "metadata": {},
   "source": [
    "### Zadanie 34. Przypisz zmiennym określone typy."
   ]
  },
  {
   "cell_type": "code",
   "execution_count": 71,
   "id": "50a5757a",
   "metadata": {},
   "outputs": [
    {
     "name": "stdout",
     "output_type": "stream",
     "text": [
      "<class 'pandas.core.frame.DataFrame'>\n",
      "RangeIndex: 7043 entries, 0 to 7042\n",
      "Data columns (total 21 columns):\n",
      " #   Column            Non-Null Count  Dtype   \n",
      "---  ------            --------------  -----   \n",
      " 0   customerID        7043 non-null   object  \n",
      " 1   gender            7043 non-null   category\n",
      " 2   SeniorCitizen     7043 non-null   category\n",
      " 3   Partner           7043 non-null   category\n",
      " 4   Dependents        7043 non-null   category\n",
      " 5   tenure            7043 non-null   float64 \n",
      " 6   PhoneService      7043 non-null   category\n",
      " 7   MultipleLines     7043 non-null   category\n",
      " 8   InternetService   7043 non-null   category\n",
      " 9   OnlineSecurity    7043 non-null   category\n",
      " 10  OnlineBackup      7043 non-null   category\n",
      " 11  DeviceProtection  7043 non-null   category\n",
      " 12  TechSupport       7043 non-null   category\n",
      " 13  StreamingTV       7043 non-null   category\n",
      " 14  StreamingMovies   7043 non-null   category\n",
      " 15  Contract          7043 non-null   category\n",
      " 16  PaperlessBilling  7043 non-null   category\n",
      " 17  PaymentMethod     7043 non-null   category\n",
      " 18  MonthlyCharges    7043 non-null   float64 \n",
      " 19  TotalCharges      7043 non-null   float64 \n",
      " 20  Churn             7043 non-null   category\n",
      "dtypes: category(17), float64(3), object(1)\n",
      "memory usage: 339.4+ KB\n"
     ]
    }
   ],
   "source": [
    "categorical = ['gender', 'SeniorCitizen', 'Partner', 'Dependents', 'PhoneService', 'MultipleLines', \n",
    "               'InternetService', 'OnlineSecurity', 'OnlineBackup', 'DeviceProtection', 'TechSupport',\n",
    "               'StreamingTV', 'Contract', 'StreamingMovies', 'PaperlessBilling', 'PaymentMethod', 'Churn'] \n",
    " \n",
    "numerical = ['tenure', 'MonthlyCharges']\n",
    " \n",
    "for col in categorical:\n",
    "    df[col] = pd.Categorical(df[col]) \n",
    "for col in numerical:\n",
    "    df[col] = df[col].astype(float)\n",
    "df.info()  "
   ]
  },
  {
   "cell_type": "markdown",
   "id": "103e135d",
   "metadata": {},
   "source": [
    "### Zadanie 35. Wyświetl charakterystyki opisowe zmiennych kateogrycznych."
   ]
  },
  {
   "cell_type": "code",
   "execution_count": 76,
   "id": "3033719c",
   "metadata": {},
   "outputs": [
    {
     "data": {
      "text/html": [
       "<div>\n",
       "<style scoped>\n",
       "    .dataframe tbody tr th:only-of-type {\n",
       "        vertical-align: middle;\n",
       "    }\n",
       "\n",
       "    .dataframe tbody tr th {\n",
       "        vertical-align: top;\n",
       "    }\n",
       "\n",
       "    .dataframe thead th {\n",
       "        text-align: right;\n",
       "    }\n",
       "</style>\n",
       "<table border=\"1\" class=\"dataframe\">\n",
       "  <thead>\n",
       "    <tr style=\"text-align: right;\">\n",
       "      <th></th>\n",
       "      <th>gender</th>\n",
       "      <th>SeniorCitizen</th>\n",
       "      <th>Partner</th>\n",
       "      <th>Dependents</th>\n",
       "      <th>PhoneService</th>\n",
       "      <th>MultipleLines</th>\n",
       "      <th>InternetService</th>\n",
       "      <th>OnlineSecurity</th>\n",
       "      <th>OnlineBackup</th>\n",
       "      <th>DeviceProtection</th>\n",
       "      <th>TechSupport</th>\n",
       "      <th>StreamingTV</th>\n",
       "      <th>StreamingMovies</th>\n",
       "      <th>Contract</th>\n",
       "      <th>PaperlessBilling</th>\n",
       "      <th>PaymentMethod</th>\n",
       "      <th>Churn</th>\n",
       "    </tr>\n",
       "  </thead>\n",
       "  <tbody>\n",
       "    <tr>\n",
       "      <th>count</th>\n",
       "      <td>7043</td>\n",
       "      <td>7043</td>\n",
       "      <td>7043</td>\n",
       "      <td>7043</td>\n",
       "      <td>7043</td>\n",
       "      <td>7043</td>\n",
       "      <td>7043</td>\n",
       "      <td>7043</td>\n",
       "      <td>7043</td>\n",
       "      <td>7043</td>\n",
       "      <td>7043</td>\n",
       "      <td>7043</td>\n",
       "      <td>7043</td>\n",
       "      <td>7043</td>\n",
       "      <td>7043</td>\n",
       "      <td>7043</td>\n",
       "      <td>7043</td>\n",
       "    </tr>\n",
       "    <tr>\n",
       "      <th>unique</th>\n",
       "      <td>2</td>\n",
       "      <td>2</td>\n",
       "      <td>2</td>\n",
       "      <td>2</td>\n",
       "      <td>2</td>\n",
       "      <td>3</td>\n",
       "      <td>3</td>\n",
       "      <td>3</td>\n",
       "      <td>3</td>\n",
       "      <td>3</td>\n",
       "      <td>3</td>\n",
       "      <td>3</td>\n",
       "      <td>3</td>\n",
       "      <td>3</td>\n",
       "      <td>2</td>\n",
       "      <td>4</td>\n",
       "      <td>2</td>\n",
       "    </tr>\n",
       "    <tr>\n",
       "      <th>top</th>\n",
       "      <td>Male</td>\n",
       "      <td>0</td>\n",
       "      <td>No</td>\n",
       "      <td>No</td>\n",
       "      <td>Yes</td>\n",
       "      <td>No</td>\n",
       "      <td>Fiber optic</td>\n",
       "      <td>No</td>\n",
       "      <td>No</td>\n",
       "      <td>No</td>\n",
       "      <td>No</td>\n",
       "      <td>No</td>\n",
       "      <td>No</td>\n",
       "      <td>Month-to-month</td>\n",
       "      <td>Yes</td>\n",
       "      <td>Electronic check</td>\n",
       "      <td>No</td>\n",
       "    </tr>\n",
       "    <tr>\n",
       "      <th>freq</th>\n",
       "      <td>3555</td>\n",
       "      <td>5901</td>\n",
       "      <td>3641</td>\n",
       "      <td>4933</td>\n",
       "      <td>6361</td>\n",
       "      <td>3390</td>\n",
       "      <td>3096</td>\n",
       "      <td>3498</td>\n",
       "      <td>3088</td>\n",
       "      <td>3095</td>\n",
       "      <td>3473</td>\n",
       "      <td>2810</td>\n",
       "      <td>2785</td>\n",
       "      <td>3875</td>\n",
       "      <td>4171</td>\n",
       "      <td>2365</td>\n",
       "      <td>5174</td>\n",
       "    </tr>\n",
       "  </tbody>\n",
       "</table>\n",
       "</div>"
      ],
      "text/plain": [
       "       gender  SeniorCitizen Partner Dependents PhoneService MultipleLines  \\\n",
       "count    7043           7043    7043       7043         7043          7043   \n",
       "unique      2              2       2          2            2             3   \n",
       "top      Male              0      No         No          Yes            No   \n",
       "freq     3555           5901    3641       4933         6361          3390   \n",
       "\n",
       "       InternetService OnlineSecurity OnlineBackup DeviceProtection  \\\n",
       "count             7043           7043         7043             7043   \n",
       "unique               3              3            3                3   \n",
       "top        Fiber optic             No           No               No   \n",
       "freq              3096           3498         3088             3095   \n",
       "\n",
       "       TechSupport StreamingTV StreamingMovies        Contract  \\\n",
       "count         7043        7043            7043            7043   \n",
       "unique           3           3               3               3   \n",
       "top             No          No              No  Month-to-month   \n",
       "freq          3473        2810            2785            3875   \n",
       "\n",
       "       PaperlessBilling     PaymentMethod Churn  \n",
       "count              7043              7043  7043  \n",
       "unique                2                 4     2  \n",
       "top                 Yes  Electronic check    No  \n",
       "freq               4171              2365  5174  "
      ]
     },
     "execution_count": 76,
     "metadata": {},
     "output_type": "execute_result"
    }
   ],
   "source": [
    "df.describe(include=['category'])"
   ]
  },
  {
   "cell_type": "markdown",
   "id": "4dd00576",
   "metadata": {},
   "source": [
    "### Zadanie 36. Wyświetl rozkład wybranej zmiennej."
   ]
  },
  {
   "cell_type": "code",
   "execution_count": 77,
   "id": "faa9b54a",
   "metadata": {},
   "outputs": [
    {
     "name": "stdout",
     "output_type": "stream",
     "text": [
      "No     5174\n",
      "Yes    1869\n",
      "Name: Churn, dtype: int64\n"
     ]
    }
   ],
   "source": [
    "print(df['Churn'].value_counts())"
   ]
  },
  {
   "cell_type": "markdown",
   "id": "6c1d3bbd",
   "metadata": {},
   "source": [
    "### Zadanie 37. Wyświetl średnie dla podgrup."
   ]
  },
  {
   "cell_type": "code",
   "execution_count": 82,
   "id": "89da8d3c",
   "metadata": {},
   "outputs": [
    {
     "name": "stdout",
     "output_type": "stream",
     "text": [
      "Churn  PaymentMethod            \n",
      "No     Bank transfer (automatic)    65.049417\n",
      "       Credit card (automatic)      64.562209\n",
      "       Electronic check             74.232032\n",
      "       Mailed check                 41.403911\n",
      "Yes    Bank transfer (automatic)    77.875581\n",
      "       Credit card (automatic)      77.356034\n",
      "       Electronic check             78.700980\n",
      "       Mailed check                 54.557143\n",
      "Name: MonthlyCharges, dtype: float64\n"
     ]
    }
   ],
   "source": [
    "print(df.groupby(['Churn','PaymentMethod'])['MonthlyCharges'].mean())"
   ]
  },
  {
   "cell_type": "markdown",
   "id": "4854574c",
   "metadata": {},
   "source": [
    "### Zadanie 38. Zmień Yes na 1 oraz No na 0"
   ]
  },
  {
   "cell_type": "code",
   "execution_count": null,
   "id": "3ebb9b24",
   "metadata": {},
   "outputs": [],
   "source": [
    "df['Churn'] = df['Churn'].map({'Yes': 1, 'No': 0})"
   ]
  },
  {
   "cell_type": "markdown",
   "id": "7c7e3840",
   "metadata": {},
   "source": [
    "### Zadanie 39. Wyświetl macierz korelacji."
   ]
  },
  {
   "cell_type": "code",
   "execution_count": 83,
   "id": "28fcd425",
   "metadata": {},
   "outputs": [
    {
     "name": "stdout",
     "output_type": "stream",
     "text": [
      "                  tenure  MonthlyCharges  TotalCharges\n",
      "tenure          1.000000        0.247900      0.825464\n",
      "MonthlyCharges  0.247900        1.000000      0.650864\n",
      "TotalCharges    0.825464        0.650864      1.000000\n"
     ]
    }
   ],
   "source": [
    "print(df.corr())"
   ]
  },
  {
   "cell_type": "markdown",
   "id": "06720e29",
   "metadata": {},
   "source": [
    "### Zadanie 40. Pobierz próbkę 10 wierszy i zapisz do pliku csv."
   ]
  },
  {
   "cell_type": "code",
   "execution_count": null,
   "id": "ecdc8164",
   "metadata": {},
   "outputs": [],
   "source": [
    "df.sample(10).to_csv('sample_10.csv')"
   ]
  },
  {
   "cell_type": "markdown",
   "id": "7109ac2e",
   "metadata": {},
   "source": [
    "### Zadanie 41. Z dwóch obiektów typu series utwórz obiekt typu DataFrame."
   ]
  },
  {
   "cell_type": "code",
   "execution_count": 84,
   "id": "c0cdb0dc",
   "metadata": {},
   "outputs": [
    {
     "name": "stdout",
     "output_type": "stream",
     "text": [
      "        col1      col2\n",
      "0   0.374540 -1.012831\n",
      "1   0.950714  0.314247\n",
      "2   0.731994 -0.908024\n",
      "3   0.598658 -1.412304\n",
      "4   0.156019  1.465649\n",
      "5   0.155995 -0.225776\n",
      "6   0.058084  0.067528\n",
      "7   0.866176 -1.424748\n",
      "8   0.601115 -0.544383\n",
      "9   0.708073  0.110923\n",
      "10  0.020584 -1.150994\n",
      "11  0.969910  0.375698\n",
      "12  0.832443 -0.600639\n",
      "13  0.212339 -0.291694\n",
      "14  0.181825 -0.601707\n",
      "15  0.183405  1.852278\n",
      "16  0.304242 -0.013497\n",
      "17  0.524756 -1.057711\n",
      "18  0.431945  0.822545\n",
      "19  0.291229 -1.220844\n"
     ]
    }
   ],
   "source": [
    "np.random.seed(42)\n",
    "s1 = pd.Series(np.random.rand(20))\n",
    "s2 = pd.Series(np.random.randn(20))\n",
    "df = pd.DataFrame({'col1':s1, 'col2':s2})\n",
    "print(df)"
   ]
  },
  {
   "cell_type": "markdown",
   "id": "03124d06",
   "metadata": {},
   "source": [
    "### Zadanie 42. Wyodrębnij określone wiersze z obiektu typu DataFrame."
   ]
  },
  {
   "cell_type": "code",
   "execution_count": 86,
   "id": "1d47dbb1",
   "metadata": {},
   "outputs": [
    {
     "name": "stdout",
     "output_type": "stream",
     "text": [
      "        col1      col2\n",
      "1   0.950714  0.314247\n",
      "6   0.058084  0.067528\n",
      "9   0.708073  0.110923\n",
      "11  0.969910  0.375698\n",
      "18  0.431945  0.822545\n"
     ]
    }
   ],
   "source": [
    "print(df[(df['col2'] >= 0.0) & (df['col2'] <= 1.0)])"
   ]
  },
  {
   "cell_type": "markdown",
   "id": "5ce17fcc",
   "metadata": {},
   "source": [
    "### Zadanie 43. Stwórz nową kolumnę."
   ]
  },
  {
   "cell_type": "code",
   "execution_count": 87,
   "id": "94e1a7ad",
   "metadata": {},
   "outputs": [
    {
     "name": "stdout",
     "output_type": "stream",
     "text": [
      "        col1      col2  col3\n",
      "0   0.374540 -1.012831    -1\n",
      "1   0.950714  0.314247     1\n",
      "2   0.731994 -0.908024    -1\n",
      "3   0.598658 -1.412304    -1\n",
      "4   0.156019  1.465649     1\n",
      "5   0.155995 -0.225776    -1\n",
      "6   0.058084  0.067528     1\n",
      "7   0.866176 -1.424748    -1\n",
      "8   0.601115 -0.544383    -1\n",
      "9   0.708073  0.110923     1\n",
      "10  0.020584 -1.150994    -1\n",
      "11  0.969910  0.375698     1\n",
      "12  0.832443 -0.600639    -1\n",
      "13  0.212339 -0.291694    -1\n",
      "14  0.181825 -0.601707    -1\n",
      "15  0.183405  1.852278     1\n",
      "16  0.304242 -0.013497    -1\n",
      "17  0.524756 -1.057711    -1\n",
      "18  0.431945  0.822545     1\n",
      "19  0.291229 -1.220844    -1\n"
     ]
    }
   ],
   "source": [
    "df['col3'] = df['col2'].map(lambda x: 1 if x >= 0 else -1)\n",
    "print(df)"
   ]
  },
  {
   "cell_type": "markdown",
   "id": "d9fbd7d3",
   "metadata": {},
   "source": [
    "### Zadanie 44. Stwórz nową kolumnę (obetnij wartości z góry i z dołu)."
   ]
  },
  {
   "cell_type": "code",
   "execution_count": 89,
   "id": "084d7419",
   "metadata": {},
   "outputs": [],
   "source": [
    "df['col4'] = df['col2'].map(lambda x: 1 if x>1 else x).map(lambda x: -1 if x<-1 else x)"
   ]
  },
  {
   "cell_type": "markdown",
   "id": "f2217701",
   "metadata": {},
   "source": [
    "### Zadanie 45. Wyświetl najwyższe i najniższe wartości w danej kolumnie."
   ]
  },
  {
   "cell_type": "code",
   "execution_count": 90,
   "id": "165b78d4",
   "metadata": {},
   "outputs": [
    {
     "name": "stdout",
     "output_type": "stream",
     "text": [
      "15    1.852278\n",
      "4     1.465649\n",
      "18    0.822545\n",
      "11    0.375698\n",
      "1     0.314247\n",
      "Name: col2, dtype: float64\n",
      "\n",
      "7    -1.424748\n",
      "3    -1.412304\n",
      "19   -1.220844\n",
      "10   -1.150994\n",
      "17   -1.057711\n",
      "Name: col2, dtype: float64\n"
     ]
    }
   ],
   "source": [
    "print(df['col2'].nlargest(5))\n",
    "print()\n",
    "print(df['col2'].nsmallest(5))"
   ]
  },
  {
   "cell_type": "markdown",
   "id": "b008ea3d",
   "metadata": {},
   "source": [
    "### Zadanie 46. Wyświetl skumulowane sumy dla każdej z kolumn."
   ]
  },
  {
   "cell_type": "code",
   "execution_count": 91,
   "id": "495124b7",
   "metadata": {},
   "outputs": [
    {
     "name": "stdout",
     "output_type": "stream",
     "text": [
      "        col1      col2  col3      col4\n",
      "0   0.374540 -1.012831    -1 -1.000000\n",
      "1   1.325254 -0.698584     0 -0.685753\n",
      "2   2.057248 -1.606608    -1 -1.593777\n",
      "3   2.655907 -3.018912    -2 -2.593777\n",
      "4   2.811925 -1.553263    -1 -1.593777\n",
      "5   2.967920 -1.779039    -2 -1.819553\n",
      "6   3.026004 -1.711511    -1 -1.752025\n",
      "7   3.892180 -3.136259    -2 -2.752025\n",
      "8   4.493295 -3.680642    -3 -3.296408\n",
      "9   5.201367 -3.569719    -2 -3.185485\n",
      "10  5.221952 -4.720713    -3 -4.185485\n",
      "11  6.191862 -4.345015    -2 -3.809787\n",
      "12  7.024304 -4.945653    -3 -4.410426\n",
      "13  7.236643 -5.237347    -4 -4.702119\n",
      "14  7.418468 -5.839054    -5 -5.303826\n",
      "15  7.601873 -3.986776    -4 -4.303826\n",
      "16  7.906115 -4.000273    -5 -4.317323\n",
      "17  8.430872 -5.057984    -6 -5.317323\n",
      "18  8.862817 -4.235439    -5 -4.494778\n",
      "19  9.154046 -5.456283    -6 -5.494778\n"
     ]
    }
   ],
   "source": [
    "print(df.cumsum())"
   ]
  },
  {
   "cell_type": "markdown",
   "id": "d214f3c4",
   "metadata": {},
   "source": [
    "### Zadanie 47. Wyświetl medianę dla wartości w danej kolumnie."
   ]
  },
  {
   "cell_type": "code",
   "execution_count": null,
   "id": "9cfccf8a",
   "metadata": {},
   "outputs": [],
   "source": [
    "print(df['col2'].median())"
   ]
  },
  {
   "cell_type": "markdown",
   "id": "14ca20eb",
   "metadata": {},
   "source": [
    "### Zadanie 48. Wyświetl określone wiersze."
   ]
  },
  {
   "cell_type": "code",
   "execution_count": 92,
   "id": "9c921769",
   "metadata": {},
   "outputs": [
    {
     "name": "stdout",
     "output_type": "stream",
     "text": [
      "        col1      col2  col3      col4\n",
      "1   0.950714  0.314247     1  0.314247\n",
      "4   0.156019  1.465649     1  1.000000\n",
      "6   0.058084  0.067528     1  0.067528\n",
      "9   0.708073  0.110923     1  0.110923\n",
      "11  0.969910  0.375698     1  0.375698\n",
      "15  0.183405  1.852278     1  1.000000\n",
      "18  0.431945  0.822545     1  0.822545\n"
     ]
    }
   ],
   "source": [
    "print(df[df['col2'] > 0.0])"
   ]
  },
  {
   "cell_type": "markdown",
   "id": "12bfbbd3",
   "metadata": {},
   "source": [
    "### Zadanie 49. Przekotwertuj obiekt typu DataFrame na słownik."
   ]
  },
  {
   "cell_type": "code",
   "execution_count": 96,
   "id": "c1d27deb",
   "metadata": {},
   "outputs": [
    {
     "data": {
      "text/plain": [
       "{'col1': {0: 0.3745401188473625,\n",
       "  1: 0.9507143064099162,\n",
       "  2: 0.7319939418114051,\n",
       "  3: 0.5986584841970366,\n",
       "  4: 0.15601864044243652},\n",
       " 'col2': {0: -1.0128311203344238,\n",
       "  1: 0.3142473325952739,\n",
       "  2: -0.9080240755212109,\n",
       "  3: -1.4123037013352915,\n",
       "  4: 1.465648768921554},\n",
       " 'col3': {0: -1, 1: 1, 2: -1, 3: -1, 4: 1},\n",
       " 'col4': {0: -1.0,\n",
       "  1: 0.3142473325952739,\n",
       "  2: -0.9080240755212109,\n",
       "  3: -1.0,\n",
       "  4: 1.0}}"
      ]
     },
     "execution_count": 96,
     "metadata": {},
     "output_type": "execute_result"
    }
   ],
   "source": [
    "df[:5].to_dict()"
   ]
  },
  {
   "cell_type": "markdown",
   "id": "f9dbbd63",
   "metadata": {},
   "source": [
    "### Zadanie 50. Przekotwertuj obiekt typu DataFrame na obiekt typu html."
   ]
  },
  {
   "cell_type": "code",
   "execution_count": 98,
   "id": "77fd7a47",
   "metadata": {},
   "outputs": [],
   "source": [
    "x = df[:5].to_html()"
   ]
  },
  {
   "cell_type": "markdown",
   "id": "7b1d936b",
   "metadata": {},
   "source": [
    "### Zadanie 51. Wyodrębnij określone wiersze."
   ]
  },
  {
   "cell_type": "code",
   "execution_count": 102,
   "id": "ad94e8c3",
   "metadata": {},
   "outputs": [
    {
     "name": "stdout",
     "output_type": "stream",
     "text": [
      "          A         B         C         D\n",
      "8  0.065052  0.948886  0.965632  0.808397\n"
     ]
    }
   ],
   "source": [
    "np.random.seed(42)\n",
    "df = pd.DataFrame(np.random.rand(10, 4), columns=list('ABCD'))\n",
    "print(df[df['C']>0.8])"
   ]
  },
  {
   "cell_type": "markdown",
   "id": "b2700cf8",
   "metadata": {},
   "source": [
    "### Zadanie 52. Wyodrębnij określone wiersze (2 warunki)."
   ]
  },
  {
   "cell_type": "code",
   "execution_count": 105,
   "id": "7db371e1",
   "metadata": {},
   "outputs": [
    {
     "name": "stdout",
     "output_type": "stream",
     "text": [
      "          A         B         C         D\n",
      "0  0.374540  0.950714  0.731994  0.598658\n",
      "4  0.304242  0.524756  0.431945  0.291229\n",
      "7  0.592415  0.046450  0.607545  0.170524\n",
      "9  0.304614  0.097672  0.684233  0.440152\n"
     ]
    }
   ],
   "source": [
    "print(df[(df['C']>0.3) & (df['D']<0.7)])"
   ]
  },
  {
   "cell_type": "markdown",
   "id": "c8817d65",
   "metadata": {},
   "source": [
    "### Zadanie 53. Iteracyjnie wypisz 5 pierwszych wierszy."
   ]
  },
  {
   "cell_type": "code",
   "execution_count": 106,
   "id": "09155e16",
   "metadata": {},
   "outputs": [
    {
     "name": "stdout",
     "output_type": "stream",
     "text": [
      "A    0.374540\n",
      "B    0.950714\n",
      "C    0.731994\n",
      "D    0.598658\n",
      "Name: 0, dtype: float64\n",
      "A    0.156019\n",
      "B    0.155995\n",
      "C    0.058084\n",
      "D    0.866176\n",
      "Name: 1, dtype: float64\n",
      "A    0.601115\n",
      "B    0.708073\n",
      "C    0.020584\n",
      "D    0.969910\n",
      "Name: 2, dtype: float64\n",
      "A    0.832443\n",
      "B    0.212339\n",
      "C    0.181825\n",
      "D    0.183405\n",
      "Name: 3, dtype: float64\n",
      "A    0.304242\n",
      "B    0.524756\n",
      "C    0.431945\n",
      "D    0.291229\n",
      "Name: 4, dtype: float64\n"
     ]
    }
   ],
   "source": [
    "for index, row in df[:5].iterrows():\n",
    "    print(row)"
   ]
  },
  {
   "cell_type": "markdown",
   "id": "f5ff40ad",
   "metadata": {},
   "source": [
    "### Zadanie 54. Zmień wartości określonych pól."
   ]
  },
  {
   "cell_type": "code",
   "execution_count": 114,
   "id": "05d5c3f7",
   "metadata": {},
   "outputs": [],
   "source": [
    "df.loc[3, 'B'] = np.nan\n",
    "df.loc[8, 'D'] = np.nan"
   ]
  },
  {
   "cell_type": "markdown",
   "id": "c6221e7a",
   "metadata": {},
   "source": [
    "### Zadanie 55. Usuń wiersze z brakami danych."
   ]
  },
  {
   "cell_type": "code",
   "execution_count": 115,
   "id": "ba12c770",
   "metadata": {},
   "outputs": [],
   "source": [
    "df1 = df.dropna()"
   ]
  },
  {
   "cell_type": "markdown",
   "id": "9453aa37",
   "metadata": {},
   "source": [
    "### Zadanie 56. Zresetuj indeks."
   ]
  },
  {
   "cell_type": "code",
   "execution_count": 120,
   "id": "ba8c2590",
   "metadata": {},
   "outputs": [],
   "source": [
    "df1 = df1.reset_index(drop = True)"
   ]
  },
  {
   "cell_type": "code",
   "execution_count": 119,
   "id": "53450359",
   "metadata": {},
   "outputs": [
    {
     "data": {
      "text/html": [
       "<div>\n",
       "<style scoped>\n",
       "    .dataframe tbody tr th:only-of-type {\n",
       "        vertical-align: middle;\n",
       "    }\n",
       "\n",
       "    .dataframe tbody tr th {\n",
       "        vertical-align: top;\n",
       "    }\n",
       "\n",
       "    .dataframe thead th {\n",
       "        text-align: right;\n",
       "    }\n",
       "</style>\n",
       "<table border=\"1\" class=\"dataframe\">\n",
       "  <thead>\n",
       "    <tr style=\"text-align: right;\">\n",
       "      <th></th>\n",
       "      <th>index</th>\n",
       "      <th>A</th>\n",
       "      <th>B</th>\n",
       "      <th>C</th>\n",
       "      <th>D</th>\n",
       "    </tr>\n",
       "  </thead>\n",
       "  <tbody>\n",
       "    <tr>\n",
       "      <th>0</th>\n",
       "      <td>0</td>\n",
       "      <td>0.374540</td>\n",
       "      <td>0.950714</td>\n",
       "      <td>0.731994</td>\n",
       "      <td>0.598658</td>\n",
       "    </tr>\n",
       "    <tr>\n",
       "      <th>1</th>\n",
       "      <td>1</td>\n",
       "      <td>0.156019</td>\n",
       "      <td>0.155995</td>\n",
       "      <td>0.058084</td>\n",
       "      <td>0.866176</td>\n",
       "    </tr>\n",
       "    <tr>\n",
       "      <th>2</th>\n",
       "      <td>2</td>\n",
       "      <td>0.601115</td>\n",
       "      <td>0.708073</td>\n",
       "      <td>0.020584</td>\n",
       "      <td>0.969910</td>\n",
       "    </tr>\n",
       "    <tr>\n",
       "      <th>3</th>\n",
       "      <td>3</td>\n",
       "      <td>0.304242</td>\n",
       "      <td>0.524756</td>\n",
       "      <td>0.431945</td>\n",
       "      <td>0.291229</td>\n",
       "    </tr>\n",
       "    <tr>\n",
       "      <th>4</th>\n",
       "      <td>4</td>\n",
       "      <td>0.611853</td>\n",
       "      <td>0.139494</td>\n",
       "      <td>0.292145</td>\n",
       "      <td>0.366362</td>\n",
       "    </tr>\n",
       "    <tr>\n",
       "      <th>5</th>\n",
       "      <td>5</td>\n",
       "      <td>0.456070</td>\n",
       "      <td>0.785176</td>\n",
       "      <td>0.199674</td>\n",
       "      <td>0.514234</td>\n",
       "    </tr>\n",
       "    <tr>\n",
       "      <th>6</th>\n",
       "      <td>6</td>\n",
       "      <td>0.592415</td>\n",
       "      <td>0.046450</td>\n",
       "      <td>0.607545</td>\n",
       "      <td>0.170524</td>\n",
       "    </tr>\n",
       "    <tr>\n",
       "      <th>7</th>\n",
       "      <td>7</td>\n",
       "      <td>0.304614</td>\n",
       "      <td>0.097672</td>\n",
       "      <td>0.684233</td>\n",
       "      <td>0.440152</td>\n",
       "    </tr>\n",
       "  </tbody>\n",
       "</table>\n",
       "</div>"
      ],
      "text/plain": [
       "   index         A         B         C         D\n",
       "0      0  0.374540  0.950714  0.731994  0.598658\n",
       "1      1  0.156019  0.155995  0.058084  0.866176\n",
       "2      2  0.601115  0.708073  0.020584  0.969910\n",
       "3      3  0.304242  0.524756  0.431945  0.291229\n",
       "4      4  0.611853  0.139494  0.292145  0.366362\n",
       "5      5  0.456070  0.785176  0.199674  0.514234\n",
       "6      6  0.592415  0.046450  0.607545  0.170524\n",
       "7      7  0.304614  0.097672  0.684233  0.440152"
      ]
     },
     "execution_count": 119,
     "metadata": {},
     "output_type": "execute_result"
    }
   ],
   "source": [
    "df1"
   ]
  },
  {
   "cell_type": "markdown",
   "id": "8acc074a",
   "metadata": {},
   "source": [
    "### Zadanie 57. Określ liczbę brakujących elementów w kolumnach."
   ]
  },
  {
   "cell_type": "code",
   "execution_count": 121,
   "id": "91c33613",
   "metadata": {},
   "outputs": [
    {
     "name": "stdout",
     "output_type": "stream",
     "text": [
      "A    0\n",
      "B    1\n",
      "C    0\n",
      "D    1\n",
      "dtype: int64\n"
     ]
    }
   ],
   "source": [
    "print(df.isnull().sum())"
   ]
  },
  {
   "cell_type": "markdown",
   "id": "da070674",
   "metadata": {},
   "source": [
    "### Zadanie 58. Wypełnij zerami brakujące pola."
   ]
  },
  {
   "cell_type": "code",
   "execution_count": 122,
   "id": "246a2ed8",
   "metadata": {},
   "outputs": [],
   "source": [
    "df = df.fillna(0)"
   ]
  },
  {
   "cell_type": "markdown",
   "id": "eb456193",
   "metadata": {},
   "source": [
    "### Zadanie 59. Zamień kolejność kolumn."
   ]
  },
  {
   "cell_type": "code",
   "execution_count": 123,
   "id": "5b4a725e",
   "metadata": {},
   "outputs": [
    {
     "name": "stdout",
     "output_type": "stream",
     "text": [
      "          D         A         B         C\n",
      "0  0.598658  0.374540  0.950714  0.731994\n",
      "1  0.866176  0.156019  0.155995  0.058084\n",
      "2  0.969910  0.601115  0.708073  0.020584\n",
      "3  0.183405  0.832443  0.000000  0.181825\n",
      "4  0.291229  0.304242  0.524756  0.431945\n",
      "5  0.366362  0.611853  0.139494  0.292145\n",
      "6  0.514234  0.456070  0.785176  0.199674\n",
      "7  0.170524  0.592415  0.046450  0.607545\n",
      "8  0.000000  0.065052  0.948886  0.965632\n",
      "9  0.440152  0.304614  0.097672  0.684233\n"
     ]
    }
   ],
   "source": [
    "df = df[['D', 'A', 'B', 'C']]\n",
    "print(df)"
   ]
  },
  {
   "cell_type": "markdown",
   "id": "634aefc1",
   "metadata": {},
   "source": [
    "### Zadanie 60. Usuń jedną z kolumn."
   ]
  },
  {
   "cell_type": "code",
   "execution_count": 128,
   "id": "0fae043c",
   "metadata": {},
   "outputs": [
    {
     "name": "stdout",
     "output_type": "stream",
     "text": [
      "          A         B         C\n",
      "0  0.374540  0.950714  0.731994\n",
      "1  0.156019  0.155995  0.058084\n",
      "2  0.601115  0.708073  0.020584\n",
      "3  0.832443  0.000000  0.181825\n",
      "4  0.304242  0.524756  0.431945\n",
      "5  0.611853  0.139494  0.292145\n",
      "6  0.456070  0.785176  0.199674\n",
      "7  0.592415  0.046450  0.607545\n",
      "8  0.065052  0.948886  0.965632\n",
      "9  0.304614  0.097672  0.684233\n"
     ]
    }
   ],
   "source": [
    "df = df.drop(columns = 'D')\n",
    "print(df)"
   ]
  },
  {
   "cell_type": "markdown",
   "id": "7f162697",
   "metadata": {},
   "source": [
    "### Zadanie 61. Wczytaj dane, ustaw indeks."
   ]
  },
  {
   "cell_type": "code",
   "execution_count": 53,
   "id": "66c53dce",
   "metadata": {},
   "outputs": [],
   "source": [
    "import pandas as pd\n",
    "url = 'https://storage.googleapis.com/esmartdata-courses-files/dash-course/data.csv'\n",
    "df = pd.read_csv(url, index_col=0)"
   ]
  },
  {
   "cell_type": "markdown",
   "id": "5e458497",
   "metadata": {},
   "source": [
    "### Zadanie 62. Wczytaj dane, ustaw indeks."
   ]
  },
  {
   "cell_type": "code",
   "execution_count": 54,
   "id": "32de57d3",
   "metadata": {},
   "outputs": [
    {
     "name": "stdout",
     "output_type": "stream",
     "text": [
      "['Name', 'Location', 'Year', 'Kilometers_Driven', 'Fuel_Type', 'Transmission', 'Owner_Type', 'Mileage', 'Engine', 'Power', 'Seats', 'New_Price', 'Price']\n"
     ]
    }
   ],
   "source": [
    "print(list(df.columns))"
   ]
  },
  {
   "cell_type": "markdown",
   "id": "6a4f3c9c",
   "metadata": {},
   "source": [
    "### Zadanie 63. Usuń wybraną kolumnę."
   ]
  },
  {
   "cell_type": "code",
   "execution_count": 55,
   "id": "3e478465",
   "metadata": {},
   "outputs": [
    {
     "name": "stdout",
     "output_type": "stream",
     "text": [
      "                               Name    Location  Year  Kilometers_Driven  \\\n",
      "0            Maruti Wagon R LXI CNG      Mumbai  2010              72000   \n",
      "1  Hyundai Creta 1.6 CRDi SX Option        Pune  2015              41000   \n",
      "2                      Honda Jazz V     Chennai  2011              46000   \n",
      "3                 Maruti Ertiga VDI     Chennai  2012              87000   \n",
      "4   Audi A4 New 2.0 TDI Multitronic  Coimbatore  2013              40670   \n",
      "\n",
      "  Fuel_Type Transmission Owner_Type     Mileage   Engine      Power  Seats  \\\n",
      "0       CNG       Manual      First  26.6 km/kg   998 CC  58.16 bhp    5.0   \n",
      "1    Diesel       Manual      First  19.67 kmpl  1582 CC  126.2 bhp    5.0   \n",
      "2    Petrol       Manual      First   18.2 kmpl  1199 CC   88.7 bhp    5.0   \n",
      "3    Diesel       Manual      First  20.77 kmpl  1248 CC  88.76 bhp    7.0   \n",
      "4    Diesel    Automatic     Second   15.2 kmpl  1968 CC  140.8 bhp    5.0   \n",
      "\n",
      "   Price  \n",
      "0   1.75  \n",
      "1  12.50  \n",
      "2   4.50  \n",
      "3   6.00  \n",
      "4  17.74  \n"
     ]
    }
   ],
   "source": [
    "df=df.drop(columns=\"New_Price\")\n",
    "print(df[:5])"
   ]
  },
  {
   "cell_type": "markdown",
   "id": "646709ee",
   "metadata": {},
   "source": [
    "### Zadanie 64. Znajdź liczbę brakujących informacji."
   ]
  },
  {
   "cell_type": "code",
   "execution_count": 56,
   "id": "9a817ca3",
   "metadata": {},
   "outputs": [
    {
     "data": {
      "text/plain": [
       "Name                  0\n",
       "Location              0\n",
       "Year                  0\n",
       "Kilometers_Driven     0\n",
       "Fuel_Type             0\n",
       "Transmission          0\n",
       "Owner_Type            0\n",
       "Mileage               2\n",
       "Engine               36\n",
       "Power                36\n",
       "Seats                42\n",
       "Price                 0\n",
       "dtype: int64"
      ]
     },
     "execution_count": 56,
     "metadata": {},
     "output_type": "execute_result"
    }
   ],
   "source": [
    "df.isnull().sum()"
   ]
  },
  {
   "cell_type": "markdown",
   "id": "fa2e9be6",
   "metadata": {},
   "source": [
    "### Zadanie 65. Usuń wiersze z brakami danych."
   ]
  },
  {
   "cell_type": "code",
   "execution_count": 57,
   "id": "0104793a",
   "metadata": {},
   "outputs": [
    {
     "name": "stdout",
     "output_type": "stream",
     "text": [
      "<class 'pandas.core.frame.DataFrame'>\n",
      "Int64Index: 5975 entries, 0 to 6018\n",
      "Data columns (total 12 columns):\n",
      " #   Column             Non-Null Count  Dtype  \n",
      "---  ------             --------------  -----  \n",
      " 0   Name               5975 non-null   object \n",
      " 1   Location           5975 non-null   object \n",
      " 2   Year               5975 non-null   int64  \n",
      " 3   Kilometers_Driven  5975 non-null   int64  \n",
      " 4   Fuel_Type          5975 non-null   object \n",
      " 5   Transmission       5975 non-null   object \n",
      " 6   Owner_Type         5975 non-null   object \n",
      " 7   Mileage            5975 non-null   object \n",
      " 8   Engine             5975 non-null   object \n",
      " 9   Power              5975 non-null   object \n",
      " 10  Seats              5975 non-null   float64\n",
      " 11  Price              5975 non-null   float64\n",
      "dtypes: float64(2), int64(2), object(8)\n",
      "memory usage: 606.8+ KB\n"
     ]
    }
   ],
   "source": [
    "df.dropna(inplace = True)\n",
    "df.info()"
   ]
  },
  {
   "cell_type": "markdown",
   "id": "7b82f8b4",
   "metadata": {},
   "source": [
    "### Zadanie 66. Zastąp duże litery nazw kolumn małymi."
   ]
  },
  {
   "cell_type": "code",
   "execution_count": 58,
   "id": "efb8a504",
   "metadata": {},
   "outputs": [],
   "source": [
    "df.columns = [col.lower() for col in df.columns]"
   ]
  },
  {
   "cell_type": "markdown",
   "id": "f6548d76",
   "metadata": {},
   "source": [
    "### Zadanie 67. Wyświetl rozkład wybranej zmiennej."
   ]
  },
  {
   "cell_type": "code",
   "execution_count": 59,
   "id": "3934c4e8",
   "metadata": {},
   "outputs": [
    {
     "data": {
      "text/plain": [
       "First             4903\n",
       "Second             953\n",
       "Third              111\n",
       "Fourth & Above       8\n",
       "Name: owner_type, dtype: int64"
      ]
     },
     "execution_count": 59,
     "metadata": {},
     "output_type": "execute_result"
    }
   ],
   "source": [
    "df['owner_type'].value_counts()"
   ]
  },
  {
   "cell_type": "markdown",
   "id": "6ef7efb1",
   "metadata": {},
   "source": [
    "### Zadanie 68. Usuń 3 ostatnie znaki z pól wybranej kolumny."
   ]
  },
  {
   "cell_type": "code",
   "execution_count": 60,
   "id": "6be5fb77",
   "metadata": {},
   "outputs": [
    {
     "name": "stdout",
     "output_type": "stream",
     "text": [
      "                               name  engine\n",
      "0            Maruti Wagon R LXI CNG     998\n",
      "1  Hyundai Creta 1.6 CRDi SX Option    1582\n",
      "2                      Honda Jazz V    1199\n",
      "3                 Maruti Ertiga VDI    1248\n",
      "4   Audi A4 New 2.0 TDI Multitronic    1968\n"
     ]
    }
   ],
   "source": [
    "df['engine'] = df['engine'].map(lambda x: int(x[:-3]))\n",
    "print(df[['name','engine']][:5])"
   ]
  },
  {
   "cell_type": "markdown",
   "id": "0713bf32",
   "metadata": {},
   "source": [
    "### Zadanie 69. Wydrukuj 5 najczęstszych wartości okreslonej zmiennej kategorycznej."
   ]
  },
  {
   "cell_type": "code",
   "execution_count": 62,
   "id": "b326dc1d",
   "metadata": {},
   "outputs": [
    {
     "data": {
      "text/plain": [
       "74 bhp      235\n",
       "98.6 bhp    131\n",
       "73.9 bhp    125\n",
       "140 bhp     123\n",
       "78.9 bhp    111\n",
       "Name: power, dtype: int64"
      ]
     },
     "execution_count": 62,
     "metadata": {},
     "output_type": "execute_result"
    }
   ],
   "source": [
    "df['power'] = df['power'].map(lambda x: np.nan if x=='null nhp' else x)\n",
    "print(df['power'].value_counts()[:5])"
   ]
  },
  {
   "cell_type": "markdown",
   "id": "a1e8df4e",
   "metadata": {},
   "source": [
    "### Zadanie 70. Sprawdź ile jest obserwacji dla poszczególnych lat."
   ]
  },
  {
   "cell_type": "code",
   "execution_count": 67,
   "id": "bdefd8c0",
   "metadata": {},
   "outputs": [
    {
     "data": {
      "text/plain": [
       "year\n",
       "1998     4\n",
       "1999     2\n",
       "2000     4\n",
       "2001     7\n",
       "2002    14\n",
       "dtype: int64"
      ]
     },
     "execution_count": 67,
     "metadata": {},
     "output_type": "execute_result"
    }
   ],
   "source": [
    "df.groupby('year').size()[:5]"
   ]
  },
  {
   "cell_type": "markdown",
   "id": "83257c8b",
   "metadata": {},
   "source": [
    "### Zadanie 71. Dokonaj mapowania zmiennej."
   ]
  },
  {
   "cell_type": "code",
   "execution_count": 70,
   "id": "8c1404e0",
   "metadata": {},
   "outputs": [
    {
     "name": "stdout",
     "output_type": "stream",
     "text": [
      "0    0\n",
      "1    0\n",
      "2    0\n",
      "3    0\n",
      "4    1\n",
      "Name: transmission, dtype: int64\n"
     ]
    }
   ],
   "source": [
    "url = 'https://storage.googleapis.com/esmartdata-courses-files/dash-course/data.csv'\n",
    "df = pd.read_csv(url, index_col=0)\n",
    "df.columns = [col.lower() for col in df.columns]\n",
    "df['transmission'].value_counts()\n",
    "df['transmission'] = df['transmission'].map(lambda x: 0 if x=='Manual' else  1)\n",
    "print(df['transmission'][:5])"
   ]
  },
  {
   "cell_type": "markdown",
   "id": "a1605f80",
   "metadata": {},
   "source": [
    "### Zadanie 72. Zapisz obiekt typu DataFrame do pliku csv. Nie zapisuj indeksu."
   ]
  },
  {
   "cell_type": "code",
   "execution_count": 71,
   "id": "ab2d01ab",
   "metadata": {},
   "outputs": [],
   "source": [
    "df.to_csv(\"cars.csv\", index=False)"
   ]
  },
  {
   "cell_type": "markdown",
   "id": "9b7e9777",
   "metadata": {},
   "source": [
    "### Zadanie 73. Wczytaj obiket typu DataFrame."
   ]
  },
  {
   "cell_type": "code",
   "execution_count": 72,
   "id": "d29ef749",
   "metadata": {},
   "outputs": [
    {
     "name": "stdout",
     "output_type": "stream",
     "text": [
      "<class 'pandas.core.frame.DataFrame'>\n",
      "RangeIndex: 17414 entries, 0 to 17413\n",
      "Data columns (total 10 columns):\n",
      " #   Column        Non-Null Count  Dtype  \n",
      "---  ------        --------------  -----  \n",
      " 0   timestamp     17414 non-null  object \n",
      " 1   cnt           17414 non-null  int64  \n",
      " 2   t1            17414 non-null  float64\n",
      " 3   t2            17414 non-null  float64\n",
      " 4   hum           17414 non-null  float64\n",
      " 5   wind_speed    17414 non-null  float64\n",
      " 6   weather_code  17414 non-null  float64\n",
      " 7   is_holiday    17414 non-null  float64\n",
      " 8   is_weekend    17414 non-null  float64\n",
      " 9   season        17414 non-null  float64\n",
      "dtypes: float64(8), int64(1), object(1)\n",
      "memory usage: 1.3+ MB\n",
      "None\n"
     ]
    }
   ],
   "source": [
    "url = 'https://storage.googleapis.com/esmartdata-courses-files/ds-bootcamp/london_bike.csv'\n",
    "df = pd.read_csv(url, index_col=0)\n",
    "print(df.info())"
   ]
  },
  {
   "cell_type": "markdown",
   "id": "4b2eff4d",
   "metadata": {},
   "source": [
    "### Zadanie 74. Wyświetl 5 pierwszych i 5 ostatnich wierszy obiektu typu DataFrame."
   ]
  },
  {
   "cell_type": "code",
   "execution_count": null,
   "id": "56c54fd1",
   "metadata": {},
   "outputs": [],
   "source": [
    "print(df[:5])\n",
    "print(df[-5:])"
   ]
  },
  {
   "cell_type": "markdown",
   "id": "fdefb18a",
   "metadata": {},
   "source": [
    "### Zadanie 75. Sformatuj datę."
   ]
  },
  {
   "cell_type": "code",
   "execution_count": 74,
   "id": "c79283d8",
   "metadata": {},
   "outputs": [],
   "source": [
    "df[\"timestamp\"] = pd.to_datetime(df[\"timestamp\"])\n",
    "df.info()"
   ]
  },
  {
   "cell_type": "markdown",
   "id": "ca2335f0",
   "metadata": {},
   "source": [
    "### Zadanie 76. Utwórz kolumnę z godziną."
   ]
  },
  {
   "cell_type": "code",
   "execution_count": 77,
   "id": "703cc74d",
   "metadata": {},
   "outputs": [],
   "source": [
    "df['hour']=df[\"timestamp\"].dt.hour"
   ]
  },
  {
   "cell_type": "markdown",
   "id": "69caceb1",
   "metadata": {},
   "source": [
    "### Zadanie 77. Utwórz kolumnę z miesiącem.."
   ]
  },
  {
   "cell_type": "code",
   "execution_count": 80,
   "id": "9b2bbe92",
   "metadata": {},
   "outputs": [],
   "source": [
    "df['month'] = df['timestamp'].dt.month"
   ]
  },
  {
   "cell_type": "markdown",
   "id": "42447183",
   "metadata": {},
   "source": [
    "### Zadanie 78. Oblicz średnią dla miesięcy."
   ]
  },
  {
   "cell_type": "code",
   "execution_count": 84,
   "id": "4442ddf9",
   "metadata": {},
   "outputs": [
    {
     "name": "stdout",
     "output_type": "stream",
     "text": [
      "    month        hum\n",
      "0       1  77.543376\n",
      "1       2  74.905813\n",
      "2       3  71.903781\n",
      "3       4  67.532337\n",
      "4       5  66.367272\n",
      "5       6  68.945148\n",
      "6       7  64.383525\n",
      "7       8  67.289420\n",
      "8       9  71.753228\n",
      "9      10  77.639621\n",
      "10     11  78.732517\n",
      "11     12  81.032345\n"
     ]
    }
   ],
   "source": [
    "humidity_by_month = df.groupby('month')['hum'].mean().reset_index()\n",
    "print(humidity_by_month)"
   ]
  },
  {
   "cell_type": "markdown",
   "id": "e95fdfa8",
   "metadata": {},
   "source": [
    "### Zadanie 79. Oblicz średnią dla godzin."
   ]
  },
  {
   "cell_type": "code",
   "execution_count": 87,
   "id": "162306d7",
   "metadata": {},
   "outputs": [
    {
     "data": {
      "text/html": [
       "<div>\n",
       "<style scoped>\n",
       "    .dataframe tbody tr th:only-of-type {\n",
       "        vertical-align: middle;\n",
       "    }\n",
       "\n",
       "    .dataframe tbody tr th {\n",
       "        vertical-align: top;\n",
       "    }\n",
       "\n",
       "    .dataframe thead th {\n",
       "        text-align: right;\n",
       "    }\n",
       "</style>\n",
       "<table border=\"1\" class=\"dataframe\">\n",
       "  <thead>\n",
       "    <tr style=\"text-align: right;\">\n",
       "      <th></th>\n",
       "      <th>hour</th>\n",
       "      <th>cnt</th>\n",
       "    </tr>\n",
       "  </thead>\n",
       "  <tbody>\n",
       "    <tr>\n",
       "      <th>0</th>\n",
       "      <td>0</td>\n",
       "      <td>290.609116</td>\n",
       "    </tr>\n",
       "    <tr>\n",
       "      <th>1</th>\n",
       "      <td>1</td>\n",
       "      <td>200.631215</td>\n",
       "    </tr>\n",
       "    <tr>\n",
       "      <th>2</th>\n",
       "      <td>2</td>\n",
       "      <td>136.303745</td>\n",
       "    </tr>\n",
       "    <tr>\n",
       "      <th>3</th>\n",
       "      <td>3</td>\n",
       "      <td>94.245492</td>\n",
       "    </tr>\n",
       "  </tbody>\n",
       "</table>\n",
       "</div>"
      ],
      "text/plain": [
       "   hour         cnt\n",
       "0     0  290.609116\n",
       "1     1  200.631215\n",
       "2     2  136.303745\n",
       "3     3   94.245492"
      ]
     },
     "execution_count": 87,
     "metadata": {},
     "output_type": "execute_result"
    }
   ],
   "source": [
    "df.groupby('hour')['cnt'].mean().reset_index()[:4]"
   ]
  },
  {
   "cell_type": "markdown",
   "id": "4a9a2020",
   "metadata": {},
   "source": [
    "### Zadanie 80. Oblicz średnią dla podgrup."
   ]
  },
  {
   "cell_type": "code",
   "execution_count": 93,
   "id": "2f8d475b",
   "metadata": {},
   "outputs": [
    {
     "data": {
      "text/html": [
       "<div>\n",
       "<style scoped>\n",
       "    .dataframe tbody tr th:only-of-type {\n",
       "        vertical-align: middle;\n",
       "    }\n",
       "\n",
       "    .dataframe tbody tr th {\n",
       "        vertical-align: top;\n",
       "    }\n",
       "\n",
       "    .dataframe thead th {\n",
       "        text-align: right;\n",
       "    }\n",
       "</style>\n",
       "<table border=\"1\" class=\"dataframe\">\n",
       "  <thead>\n",
       "    <tr style=\"text-align: right;\">\n",
       "      <th></th>\n",
       "      <th>is_weekend</th>\n",
       "      <th>hour</th>\n",
       "      <th>cnt</th>\n",
       "    </tr>\n",
       "  </thead>\n",
       "  <tbody>\n",
       "    <tr>\n",
       "      <th>0</th>\n",
       "      <td>0.0</td>\n",
       "      <td>0</td>\n",
       "      <td>215.366795</td>\n",
       "    </tr>\n",
       "    <tr>\n",
       "      <th>1</th>\n",
       "      <td>0.0</td>\n",
       "      <td>1</td>\n",
       "      <td>128.001931</td>\n",
       "    </tr>\n",
       "    <tr>\n",
       "      <th>2</th>\n",
       "      <td>0.0</td>\n",
       "      <td>2</td>\n",
       "      <td>81.007737</td>\n",
       "    </tr>\n",
       "    <tr>\n",
       "      <th>3</th>\n",
       "      <td>0.0</td>\n",
       "      <td>3</td>\n",
       "      <td>53.250000</td>\n",
       "    </tr>\n",
       "    <tr>\n",
       "      <th>4</th>\n",
       "      <td>0.0</td>\n",
       "      <td>4</td>\n",
       "      <td>52.248062</td>\n",
       "    </tr>\n",
       "  </tbody>\n",
       "</table>\n",
       "</div>"
      ],
      "text/plain": [
       "   is_weekend  hour         cnt\n",
       "0         0.0     0  215.366795\n",
       "1         0.0     1  128.001931\n",
       "2         0.0     2   81.007737\n",
       "3         0.0     3   53.250000\n",
       "4         0.0     4   52.248062"
      ]
     },
     "execution_count": 93,
     "metadata": {},
     "output_type": "execute_result"
    }
   ],
   "source": [
    "df.groupby(['is_weekend','hour'])['cnt'].mean().reset_index()[:5]"
   ]
  },
  {
   "cell_type": "markdown",
   "id": "1f65606c",
   "metadata": {},
   "source": [
    "### Zadanie 81. Wyodrębnij określone wiersze (2 warunku)"
   ]
  },
  {
   "cell_type": "code",
   "execution_count": 95,
   "id": "dec5cb91",
   "metadata": {},
   "outputs": [
    {
     "name": "stdout",
     "output_type": "stream",
     "text": [
      "   timestamp  cnt   t1   t2   hum  wind_speed  weather_code  is_holiday  \\\n",
      "0 2015-01-04  182  3.0  2.0  93.0         6.0           3.0         0.0   \n",
      "\n",
      "   is_weekend  season  hour  month  \n",
      "0         1.0     3.0     0      1  \n"
     ]
    }
   ],
   "source": [
    "print(df[(df['wind_speed']<10.0) & (df['hum']>90.0)][:1])"
   ]
  },
  {
   "cell_type": "markdown",
   "id": "a4d9adb8",
   "metadata": {},
   "source": [
    "### Zadanie 82. Wyodrębnij określone wiersze i przygotuj nowy obiekt typu DataFrame."
   ]
  },
  {
   "cell_type": "code",
   "execution_count": 97,
   "id": "f9957920",
   "metadata": {},
   "outputs": [],
   "source": [
    "df_weekend = df[df['is_weekend']==1.0]"
   ]
  },
  {
   "cell_type": "markdown",
   "id": "313dd428",
   "metadata": {},
   "source": [
    "### Zadanie 83. Zapisz obiekt typu DataFrame do pliku csv."
   ]
  },
  {
   "cell_type": "code",
   "execution_count": 107,
   "id": "0eaf61a8",
   "metadata": {},
   "outputs": [],
   "source": [
    "df_weekend.to_csv('weekend.txt', index=False)"
   ]
  },
  {
   "cell_type": "markdown",
   "id": "ef0fb004",
   "metadata": {},
   "source": [
    "### Zadanie 84. Wczytaj z pliku csv obiekt typu DataFrame."
   ]
  },
  {
   "cell_type": "code",
   "execution_count": 108,
   "id": "a77647e3",
   "metadata": {},
   "outputs": [],
   "source": [
    "url = 'https://storage.googleapis.com/esmartdata-courses-files/ml-course/insurance.csv'\n",
    "df = pd.read_csv(url)"
   ]
  },
  {
   "cell_type": "markdown",
   "id": "2bdb16d5",
   "metadata": {},
   "source": [
    "### Zadanie 85. Sprawdź czy w obiekcie typu DataFrame są dupikaty."
   ]
  },
  {
   "cell_type": "code",
   "execution_count": 109,
   "id": "fd4388d0",
   "metadata": {},
   "outputs": [
    {
     "name": "stdout",
     "output_type": "stream",
     "text": [
      "     age   sex    bmi  children smoker     region    charges\n",
      "581   19  male  30.59         0     no  northwest  1639.5631\n"
     ]
    }
   ],
   "source": [
    "url = 'https://storage.googleapis.com/esmartdata-courses-files/ml-course/insurance.csv'\n",
    "df = pd.read_csv(url)\n",
    "print(df[df.duplicated()])"
   ]
  },
  {
   "cell_type": "markdown",
   "id": "af7862be",
   "metadata": {},
   "source": [
    "### Zadanie 86. Usuń duplikaty."
   ]
  },
  {
   "cell_type": "code",
   "execution_count": 106,
   "id": "c3b66023",
   "metadata": {},
   "outputs": [],
   "source": [
    "df = df.drop_duplicates()"
   ]
  },
  {
   "cell_type": "markdown",
   "id": "cdba61e4",
   "metadata": {},
   "source": [
    "### Zadanie 87. Wyświetl kolumny typu object."
   ]
  },
  {
   "cell_type": "code",
   "execution_count": 113,
   "id": "a07a56c9",
   "metadata": {},
   "outputs": [
    {
     "name": "stdout",
     "output_type": "stream",
     "text": [
      "         sex smoker     region\n",
      "0     female    yes  southwest\n",
      "1       male     no  southeast\n",
      "2       male     no  southeast\n",
      "3       male     no  northwest\n",
      "4       male     no  northwest\n",
      "...      ...    ...        ...\n",
      "1333    male     no  northwest\n",
      "1334  female     no  northeast\n",
      "1335  female     no  southeast\n",
      "1336  female     no  southwest\n",
      "1337  female    yes  northwest\n",
      "\n",
      "[1338 rows x 3 columns]\n"
     ]
    }
   ],
   "source": [
    "print(df.select_dtypes(include=['object']))"
   ]
  },
  {
   "cell_type": "markdown",
   "id": "a4a816c9",
   "metadata": {},
   "source": [
    "### Zadanie 88. Zmień typ zmiennych."
   ]
  },
  {
   "cell_type": "code",
   "execution_count": 115,
   "id": "a0ddf4b5",
   "metadata": {},
   "outputs": [
    {
     "name": "stdout",
     "output_type": "stream",
     "text": [
      "<class 'pandas.core.frame.DataFrame'>\n",
      "RangeIndex: 1338 entries, 0 to 1337\n",
      "Data columns (total 7 columns):\n",
      " #   Column    Non-Null Count  Dtype   \n",
      "---  ------    --------------  -----   \n",
      " 0   age       1338 non-null   int64   \n",
      " 1   sex       1338 non-null   category\n",
      " 2   bmi       1338 non-null   float64 \n",
      " 3   children  1338 non-null   int64   \n",
      " 4   smoker    1338 non-null   category\n",
      " 5   region    1338 non-null   category\n",
      " 6   charges   1338 non-null   float64 \n",
      "dtypes: category(3), float64(2), int64(2)\n",
      "memory usage: 46.3 KB\n",
      "None\n"
     ]
    }
   ],
   "source": [
    "categoriacal = ['sex', 'smoker', 'region']\n",
    "for col in categoriacal:\n",
    "    df[col] = df[col].astype('category')\n",
    "print(df.info())"
   ]
  },
  {
   "cell_type": "markdown",
   "id": "b01ca910",
   "metadata": {},
   "source": [
    "### Zadanie 89. Wskaż zmienne numeryczne"
   ]
  },
  {
   "cell_type": "code",
   "execution_count": 118,
   "id": "1f7d2d3c",
   "metadata": {},
   "outputs": [
    {
     "name": "stdout",
     "output_type": "stream",
     "text": [
      "['age', 'bmi', 'children', 'charges']\n"
     ]
    }
   ],
   "source": [
    "num_vars = list(df.select_dtypes(include=['float', 'int']).columns)\n",
    "print(num_vars)"
   ]
  },
  {
   "cell_type": "markdown",
   "id": "a1b3e75a",
   "metadata": {},
   "source": [
    "### Zadanie 90. Utwórz obiekt typu DataFrame wyłącznie ze zmiennymi numerycznymi / kateogrycznymi."
   ]
  },
  {
   "cell_type": "code",
   "execution_count": null,
   "id": "5c205f82",
   "metadata": {},
   "outputs": [],
   "source": [
    "df_cat = df.select_dtypes(include=['category'])\n",
    "df_num = df.select_dtypes(include=['float','int'])"
   ]
  },
  {
   "cell_type": "markdown",
   "id": "9a46a095",
   "metadata": {},
   "source": [
    "### Zadanie 91. Wyświetl statystyki opisowe."
   ]
  },
  {
   "cell_type": "code",
   "execution_count": 2,
   "id": "54ffae8d",
   "metadata": {},
   "outputs": [
    {
     "name": "stdout",
     "output_type": "stream",
     "text": [
      "         sex smoker     region\n",
      "count   1338   1338       1338\n",
      "unique     2      2          4\n",
      "top     male     no  southeast\n",
      "freq     676   1064        364\n"
     ]
    }
   ],
   "source": [
    "import pandas as pd\n",
    "url = 'https://storage.googleapis.com/esmartdata-courses-files/ml-course/insurance.csv'\n",
    "df = pd.read_csv(url)\n",
    "for col in list(df.select_dtypes(include=['object']).columns):\n",
    "    df[col] = df[col].astype('category')\n",
    "df_cat = df.select_dtypes(include=['category']).copy()\n",
    "print(df_cat.describe())"
   ]
  },
  {
   "cell_type": "markdown",
   "id": "691ca6f4",
   "metadata": {},
   "source": [
    "### Zadanie 92. Wyświetl statystyki opisowe."
   ]
  },
  {
   "cell_type": "code",
   "execution_count": null,
   "id": "98d2af55",
   "metadata": {},
   "outputs": [],
   "source": [
    "url = 'https://storage.googleapis.com/esmartdata-courses-files/ml-course/insurance.csv'\n",
    "df = pd.read_csv(url)\n",
    "for col in list(df.select_dtypes(include=['object']).columns):\n",
    "    df[col] = df[col].astype('category')\n",
    "df_num = df.select_dtypes(include=['float', 'int']).copy()\n",
    "\n",
    "print(df_num.describe())"
   ]
  },
  {
   "cell_type": "markdown",
   "id": "49d7604f",
   "metadata": {},
   "source": [
    "### Zadanie 93. Wyświetl wybrane statystyki opisowe."
   ]
  },
  {
   "cell_type": "code",
   "execution_count": 3,
   "id": "3f7542ac",
   "metadata": {},
   "outputs": [
    {
     "name": "stdout",
     "output_type": "stream",
     "text": [
      "                  mean           std\n",
      "age          39.207025     14.049960\n",
      "bmi          30.663397      6.098187\n",
      "children      1.094918      1.205493\n",
      "charges   13270.422265  12110.011237\n"
     ]
    }
   ],
   "source": [
    "df = pd.read_csv(url)\n",
    "print(df.describe().T[['mean', 'std']])"
   ]
  },
  {
   "cell_type": "markdown",
   "id": "112a461d",
   "metadata": {},
   "source": [
    "### Zadanie 94. Sprawdź czy występują braki danych."
   ]
  },
  {
   "cell_type": "code",
   "execution_count": 4,
   "id": "5791c851",
   "metadata": {},
   "outputs": [
    {
     "data": {
      "text/plain": [
       "age         0\n",
       "sex         0\n",
       "bmi         0\n",
       "children    0\n",
       "smoker      0\n",
       "region      0\n",
       "charges     0\n",
       "dtype: int64"
      ]
     },
     "execution_count": 4,
     "metadata": {},
     "output_type": "execute_result"
    }
   ],
   "source": [
    "url = 'https://storage.googleapis.com/esmartdata-courses-files/ml-course/insurance.csv'\n",
    "df = pd.read_csv(url)\n",
    "df.isnull().sum()"
   ]
  },
  {
   "cell_type": "markdown",
   "id": "f223cbc9",
   "metadata": {},
   "source": [
    "### Zadanie 95. Przygotuj zmienne zerojedynkowe."
   ]
  },
  {
   "cell_type": "code",
   "execution_count": 6,
   "id": "49292951",
   "metadata": {},
   "outputs": [
    {
     "name": "stdout",
     "output_type": "stream",
     "text": [
      "   age     bmi  children      charges  sex_male  smoker_yes  region_northwest  region_southeast  region_southwest\n",
      "0   19  27.900         0  16884.92400         0           1                 0                 0                 1\n",
      "1   18  33.770         1   1725.55230         1           0                 0                 1                 0\n",
      "2   28  33.000         3   4449.46200         1           0                 0                 1                 0\n",
      "3   33  22.705         0  21984.47061         1           0                 1                 0                 0\n",
      "4   32  28.880         0   3866.85520         1           0                 1                 0                 0\n"
     ]
    }
   ],
   "source": [
    "pd.set_option('display.width', 150)\n",
    "url = 'https://storage.googleapis.com/esmartdata-courses-files/ml-course/insurance.csv'\n",
    "df = pd.read_csv(url)\n",
    "for col in list(df.select_dtypes(include=['object']).columns):\n",
    "    df[col] = df[col].astype('category')\n",
    "df_dummies = pd.get_dummies(df, drop_first=True)\n",
    "print(df_dummies.head())"
   ]
  },
  {
   "cell_type": "markdown",
   "id": "2f7d588b",
   "metadata": {},
   "source": [
    "### Zadanie 96. Oblicz korelacje między parami zmiennych."
   ]
  },
  {
   "cell_type": "code",
   "execution_count": 8,
   "id": "d0826c5c",
   "metadata": {},
   "outputs": [],
   "source": [
    "corr = df_dummies.corr()"
   ]
  },
  {
   "cell_type": "markdown",
   "id": "29dcbcbe",
   "metadata": {},
   "source": [
    "### Zadanie 97. Posortuj wiersze."
   ]
  },
  {
   "cell_type": "code",
   "execution_count": 9,
   "id": "24a78e4a",
   "metadata": {},
   "outputs": [
    {
     "name": "stdout",
     "output_type": "stream",
     "text": [
      "                   charges\n",
      "charges           1.000000\n",
      "smoker_yes        0.787251\n",
      "age               0.299008\n",
      "bmi               0.198341\n",
      "region_southeast  0.073982\n",
      "children          0.067998\n",
      "sex_male          0.057292\n",
      "region_northwest -0.039905\n",
      "region_southwest -0.043210\n"
     ]
    }
   ],
   "source": [
    "print(corr[['charges']].sort_values(by='charges', ascending=False))"
   ]
  },
  {
   "cell_type": "markdown",
   "id": "f20b9580",
   "metadata": {},
   "source": [
    "### Zadanie 98. Usuń wybraną kolumnę."
   ]
  },
  {
   "cell_type": "code",
   "execution_count": 13,
   "id": "f722219e",
   "metadata": {},
   "outputs": [
    {
     "name": "stdout",
     "output_type": "stream",
     "text": [
      "   age     bmi  children  sex_male  smoker_yes  region_northwest  region_southeast  region_southwest\n",
      "0   19  27.900         0         0           1                 0                 0                 1\n",
      "1   18  33.770         1         1           0                 0                 1                 0\n",
      "2   28  33.000         3         1           0                 0                 1                 0\n",
      "3   33  22.705         0         1           0                 1                 0                 0\n",
      "4   32  28.880         0         1           0                 1                 0                 0\n",
      "\n",
      "   age     bmi  children      charges  sex_male  smoker_yes  region_northwest  region_southeast  region_southwest\n",
      "0   19  27.900         0  16884.92400         0           1                 0                 0                 1\n",
      "1   18  33.770         1   1725.55230         1           0                 0                 1                 0\n",
      "2   28  33.000         3   4449.46200         1           0                 0                 1                 0\n",
      "3   33  22.705         0  21984.47061         1           0                 1                 0                 0\n",
      "4   32  28.880         0   3866.85520         1           0                 1                 0                 0\n"
     ]
    }
   ],
   "source": [
    "pd.set_option('display.width', 150)\n",
    "url = 'https://storage.googleapis.com/esmartdata-courses-files/ml-course/insurance.csv'\n",
    "df = pd.read_csv(url)\n",
    "for col in list(df.select_dtypes(include=['object']).columns):\n",
    "    df[col] = df[col].astype('category')\n",
    "df_dummies = pd.get_dummies(df, drop_first=True)\n",
    "data = df_dummies.copy()\n",
    "target = data.pop(\"charges\")\n",
    "print(data[:5])\n",
    "print()\n",
    "print(df_dummies[:5])"
   ]
  },
  {
   "cell_type": "markdown",
   "id": "0c4d0731",
   "metadata": {},
   "source": [
    "### Zadanie 99. Utwórz obiekt typu DataFrame na podstawie słownika."
   ]
  },
  {
   "cell_type": "code",
   "execution_count": 31,
   "id": "dd6280a4",
   "metadata": {},
   "outputs": [
    {
     "name": "stdout",
     "output_type": "stream",
     "text": [
      "  size  color  gender  price  weight bought\n",
      "0   XL    red  female  199.0     500    yes\n",
      "1    L  green    male   89.0     450     no\n",
      "2    M   blue    male   99.0     300    yes\n",
      "3    L  green  female  129.0     380     no\n",
      "4    M    red  female   79.0     410    yes\n"
     ]
    }
   ],
   "source": [
    "data = {\n",
    "    'size': ['XL', 'L', 'M', 'L', 'M'],\n",
    "    'color': ['red', 'green', 'blue', 'green', 'red'],\n",
    "    'gender': ['female', 'male', 'male', 'female', 'female'],\n",
    "    'price': [199.0, 89.0, 99.0, 129.0, 79.0],\n",
    "    'weight': [500, 450, 300, 380, 410],\n",
    "    'bought': ['yes', 'no', 'yes', 'no', 'yes']\n",
    "}\n",
    "df = pd.DataFrame(data)\n",
    "print(df)"
   ]
  },
  {
   "cell_type": "markdown",
   "id": "0287b340",
   "metadata": {},
   "source": [
    "### Zadanie 100. Zmień typy zmiennych.\n"
   ]
  },
  {
   "cell_type": "code",
   "execution_count": 32,
   "id": "a2b7927e",
   "metadata": {},
   "outputs": [
    {
     "name": "stdout",
     "output_type": "stream",
     "text": [
      "<class 'pandas.core.frame.DataFrame'>\n",
      "RangeIndex: 5 entries, 0 to 4\n",
      "Data columns (total 6 columns):\n",
      " #   Column  Non-Null Count  Dtype  \n",
      "---  ------  --------------  -----  \n",
      " 0   size    5 non-null      object \n",
      " 1   color   5 non-null      object \n",
      " 2   gender  5 non-null      object \n",
      " 3   price   5 non-null      float64\n",
      " 4   weight  5 non-null      int64  \n",
      " 5   bought  5 non-null      object \n",
      "dtypes: float64(1), int64(1), object(4)\n",
      "memory usage: 368.0+ bytes\n",
      "None\n",
      "\n",
      "<class 'pandas.core.frame.DataFrame'>\n",
      "RangeIndex: 5 entries, 0 to 4\n",
      "Data columns (total 6 columns):\n",
      " #   Column  Non-Null Count  Dtype   \n",
      "---  ------  --------------  -----   \n",
      " 0   size    5 non-null      category\n",
      " 1   color   5 non-null      category\n",
      " 2   gender  5 non-null      category\n",
      " 3   price   5 non-null      float64 \n",
      " 4   weight  5 non-null      float64 \n",
      " 5   bought  5 non-null      category\n",
      "dtypes: category(4), float64(2)\n",
      "memory usage: 740.0 bytes\n",
      "None\n"
     ]
    }
   ],
   "source": [
    "print(df.info())\n",
    "df['size'] = df['size'].astype('category')\n",
    "df['color']=df['color'].astype('category')\n",
    "df['gender'] = df['gender'].astype('category')\n",
    "df['weight'] = df['weight'].astype('float')\n",
    "df['bought'] = df['bought'].astype('category')\n",
    "print()\n",
    "print(df.info())"
   ]
  },
  {
   "cell_type": "markdown",
   "id": "63c7fe36",
   "metadata": {},
   "source": [
    "### Zadanie 101. Przygotuj zmienne zerojedynkowe."
   ]
  },
  {
   "cell_type": "code",
   "execution_count": 34,
   "id": "b4a7b56a",
   "metadata": {},
   "outputs": [
    {
     "name": "stdout",
     "output_type": "stream",
     "text": [
      "<class 'pandas.core.frame.DataFrame'>\n",
      "RangeIndex: 5 entries, 0 to 4\n",
      "Data columns (total 8 columns):\n",
      " #   Column       Non-Null Count  Dtype  \n",
      "---  ------       --------------  -----  \n",
      " 0   price        5 non-null      float64\n",
      " 1   weight       5 non-null      float64\n",
      " 2   size_M       5 non-null      uint8  \n",
      " 3   size_XL      5 non-null      uint8  \n",
      " 4   color_green  5 non-null      uint8  \n",
      " 5   color_red    5 non-null      uint8  \n",
      " 6   gender_male  5 non-null      uint8  \n",
      " 7   bought_yes   5 non-null      uint8  \n",
      "dtypes: float64(2), uint8(6)\n",
      "memory usage: 238.0 bytes\n"
     ]
    }
   ],
   "source": [
    "df  = pd.get_dummies(df)\n",
    "df.info()"
   ]
  },
  {
   "cell_type": "markdown",
   "id": "dae24506",
   "metadata": {},
   "source": [
    "### Zadanie 102. Przygotuj zmienne zerojedynkowe (n-1 poziomów."
   ]
  },
  {
   "cell_type": "code",
   "execution_count": 33,
   "id": "f6a92eae",
   "metadata": {},
   "outputs": [
    {
     "name": "stdout",
     "output_type": "stream",
     "text": [
      "<class 'pandas.core.frame.DataFrame'>\n",
      "RangeIndex: 5 entries, 0 to 4\n",
      "Data columns (total 8 columns):\n",
      " #   Column       Non-Null Count  Dtype  \n",
      "---  ------       --------------  -----  \n",
      " 0   price        5 non-null      float64\n",
      " 1   weight       5 non-null      float64\n",
      " 2   size_M       5 non-null      uint8  \n",
      " 3   size_XL      5 non-null      uint8  \n",
      " 4   color_green  5 non-null      uint8  \n",
      " 5   color_red    5 non-null      uint8  \n",
      " 6   gender_male  5 non-null      uint8  \n",
      " 7   bought_yes   5 non-null      uint8  \n",
      "dtypes: float64(2), uint8(6)\n",
      "memory usage: 238.0 bytes\n"
     ]
    }
   ],
   "source": [
    "df = pd.get_dummies(df,drop_first=True)\n",
    "df.info()"
   ]
  },
  {
   "cell_type": "markdown",
   "id": "f3a1a850",
   "metadata": {},
   "source": [
    "### Zadanie 103. Wczytaj plik typu json."
   ]
  },
  {
   "cell_type": "code",
   "execution_count": null,
   "id": "954c12ee",
   "metadata": {},
   "outputs": [],
   "source": [
    "df = pd.read_json('market.json')\n",
    "print(df)f"
   ]
  },
  {
   "cell_type": "markdown",
   "id": "026077d6",
   "metadata": {},
   "source": [
    "### Zadanie 104. Stwórz nową zmienną w oparciu o inną."
   ]
  },
  {
   "cell_type": "code",
   "execution_count": null,
   "id": "8b6bcbbe",
   "metadata": {},
   "outputs": [],
   "source": [
    "df['Kraj'] = df['Profil'].map(lambda x : x.split()[1][1:-1])\n",
    "print(df)"
   ]
  },
  {
   "cell_type": "code",
   "execution_count": 35,
   "id": "fcdbd39e",
   "metadata": {},
   "outputs": [],
   "source": [
    "x = 'Hubert Świątek'"
   ]
  },
  {
   "cell_type": "code",
   "execution_count": 40,
   "id": "9f2530cd",
   "metadata": {},
   "outputs": [
    {
     "data": {
      "text/html": [
       "<div>\n",
       "<style scoped>\n",
       "    .dataframe tbody tr th:only-of-type {\n",
       "        vertical-align: middle;\n",
       "    }\n",
       "\n",
       "    .dataframe tbody tr th {\n",
       "        vertical-align: top;\n",
       "    }\n",
       "\n",
       "    .dataframe thead th {\n",
       "        text-align: right;\n",
       "    }\n",
       "</style>\n",
       "<table border=\"1\" class=\"dataframe\">\n",
       "  <thead>\n",
       "    <tr style=\"text-align: right;\">\n",
       "      <th></th>\n",
       "      <th>price</th>\n",
       "      <th>weight</th>\n",
       "      <th>size_M</th>\n",
       "      <th>size_XL</th>\n",
       "      <th>color_green</th>\n",
       "      <th>color_red</th>\n",
       "      <th>gender_male</th>\n",
       "      <th>bought_yes</th>\n",
       "    </tr>\n",
       "  </thead>\n",
       "  <tbody>\n",
       "    <tr>\n",
       "      <th>0</th>\n",
       "      <td>199.0</td>\n",
       "      <td>500.0</td>\n",
       "      <td>0</td>\n",
       "      <td>1</td>\n",
       "      <td>0</td>\n",
       "      <td>1</td>\n",
       "      <td>0</td>\n",
       "      <td>1</td>\n",
       "    </tr>\n",
       "    <tr>\n",
       "      <th>1</th>\n",
       "      <td>89.0</td>\n",
       "      <td>450.0</td>\n",
       "      <td>0</td>\n",
       "      <td>0</td>\n",
       "      <td>1</td>\n",
       "      <td>0</td>\n",
       "      <td>1</td>\n",
       "      <td>0</td>\n",
       "    </tr>\n",
       "    <tr>\n",
       "      <th>2</th>\n",
       "      <td>99.0</td>\n",
       "      <td>300.0</td>\n",
       "      <td>1</td>\n",
       "      <td>0</td>\n",
       "      <td>0</td>\n",
       "      <td>0</td>\n",
       "      <td>1</td>\n",
       "      <td>1</td>\n",
       "    </tr>\n",
       "    <tr>\n",
       "      <th>3</th>\n",
       "      <td>129.0</td>\n",
       "      <td>380.0</td>\n",
       "      <td>0</td>\n",
       "      <td>0</td>\n",
       "      <td>1</td>\n",
       "      <td>0</td>\n",
       "      <td>0</td>\n",
       "      <td>0</td>\n",
       "    </tr>\n",
       "    <tr>\n",
       "      <th>4</th>\n",
       "      <td>79.0</td>\n",
       "      <td>410.0</td>\n",
       "      <td>1</td>\n",
       "      <td>0</td>\n",
       "      <td>0</td>\n",
       "      <td>1</td>\n",
       "      <td>0</td>\n",
       "      <td>1</td>\n",
       "    </tr>\n",
       "  </tbody>\n",
       "</table>\n",
       "</div>"
      ],
      "text/plain": [
       "   price  weight  size_M  size_XL  color_green  color_red  gender_male  bought_yes\n",
       "0  199.0   500.0       0        1            0          1            0           1\n",
       "1   89.0   450.0       0        0            1          0            1           0\n",
       "2   99.0   300.0       1        0            0          0            1           1\n",
       "3  129.0   380.0       0        0            1          0            0           0\n",
       "4   79.0   410.0       1        0            0          1            0           1"
      ]
     },
     "execution_count": 40,
     "metadata": {},
     "output_type": "execute_result"
    }
   ],
   "source": [
    "df"
   ]
  },
  {
   "cell_type": "markdown",
   "id": "0a4dd4d0",
   "metadata": {},
   "source": [
    "### Zadanie 105. Przygotuj listę duplikatów."
   ]
  },
  {
   "cell_type": "code",
   "execution_count": 44,
   "id": "b03146a6",
   "metadata": {},
   "outputs": [
    {
     "name": "stdout",
     "output_type": "stream",
     "text": [
      "[0, 0, 1]\n"
     ]
    }
   ],
   "source": [
    "print(df['size_M'][df['size_M'].duplicated()].sort_values().to_list())"
   ]
  },
  {
   "cell_type": "markdown",
   "id": "8037b903",
   "metadata": {},
   "source": [
    "### Zadanie 106. Zmień typ zmiennej na float."
   ]
  },
  {
   "cell_type": "code",
   "execution_count": null,
   "id": "171b2bdb",
   "metadata": {},
   "outputs": [],
   "source": [
    "df['Zmiana %']=df['Zmiana %'].map(lambda x: float(x[1:-2]))"
   ]
  },
  {
   "cell_type": "markdown",
   "id": "41dad6aa",
   "metadata": {},
   "source": [
    "### Zadanie 107. Wydrukuj wiersze, dla których jakąś zmienna ma najmniejszą i największą wartość."
   ]
  },
  {
   "cell_type": "code",
   "execution_count": null,
   "id": "93256a67",
   "metadata": {},
   "outputs": [],
   "source": [
    "print(df.iloc[df['Zmiana %'].argmax()])\n",
    "print()\n",
    "print(df.iloc[df['Zmiana %'].argmin()])"
   ]
  },
  {
   "cell_type": "markdown",
   "id": "cdbe0695",
   "metadata": {},
   "source": [
    "### Zadanie 108. Stwórz 2 nowe obiekty typu DataFrame na podstawie istniejącego."
   ]
  },
  {
   "cell_type": "code",
   "execution_count": null,
   "id": "e8c74925",
   "metadata": {},
   "outputs": [],
   "source": [
    "df[df['Zmiana %']>=0].to_csv('positive.json')\n",
    "df[df['Zmiana %']<0].to_csv('negative.json')"
   ]
  },
  {
   "cell_type": "markdown",
   "id": "2653fc8e",
   "metadata": {},
   "source": [
    "### Zadanie 109. Wczytaj dwa pliki."
   ]
  },
  {
   "cell_type": "code",
   "execution_count": null,
   "id": "a757504a",
   "metadata": {},
   "outputs": [],
   "source": [
    "amazon = pd.read_csv('amazon.csv', index.col=0)\n",
    "tesla = pd.read_csv('tesla.csv', index.col=0)\n",
    "print(amazon)\n",
    "print()\n",
    "print(tesla)"
   ]
  },
  {
   "cell_type": "markdown",
   "id": "194f056d",
   "metadata": {},
   "source": [
    "### Zadanie 110. Zmień nazwy kolumn."
   ]
  },
  {
   "cell_type": "code",
   "execution_count": null,
   "id": "1c3d1cef",
   "metadata": {},
   "outputs": [],
   "source": [
    "amazon.columns = amazon.columns.map(lambda x : 'amzn_' + x.lower())\n",
    "tesla.columns = tesla.columns.map(lambda x : 'tsla_' + x.lower())\n",
    "print(amazon)\n",
    "print()\n",
    "print(tesla)"
   ]
  },
  {
   "cell_type": "markdown",
   "id": "6b4c25d8",
   "metadata": {},
   "source": [
    "### Zadanie 111. Połącz dwie tabele."
   ]
  },
  {
   "cell_type": "code",
   "execution_count": 49,
   "id": "89d6dd6c",
   "metadata": {},
   "outputs": [
    {
     "data": {
      "text/plain": [
       "Index(['KKprice', 'KKweight', 'KKsize_M', 'KKsize_XL', 'KKcolor_green', 'KKcolor_red', 'KKgender_male', 'KKbought_yes'], dtype='object')"
      ]
     },
     "execution_count": 49,
     "metadata": {},
     "output_type": "execute_result"
    }
   ],
   "source": [
    "result = pd.concat([amazon, tesla], axis=1)\n",
    "print(result)"
   ]
  },
  {
   "cell_type": "markdown",
   "id": "af61d0e9",
   "metadata": {},
   "source": [
    "### Zadanie 112. Wyodrębnij określone kolumny."
   ]
  },
  {
   "cell_type": "code",
   "execution_count": null,
   "id": "5a74fa6d",
   "metadata": {},
   "outputs": [],
   "source": [
    "quotations = result[['amzn_open','amzn_close','tsla_open','tsla_close']]\n",
    "print(quotations)"
   ]
  },
  {
   "cell_type": "markdown",
   "id": "4d6afdc5",
   "metadata": {},
   "source": [
    "### Zadanie 113. Przygotuj kolumny wskazujące na dzienną stopę procentową."
   ]
  },
  {
   "cell_type": "code",
   "execution_count": null,
   "id": "30ab08b4",
   "metadata": {},
   "outputs": [],
   "source": [
    "quotations['amzn_change']=(quotations['amzn_close']-quotations['amzn_open'])/quotations['amzn_open']*100\n",
    "quotations['tsla_change']=(quotations['tsla_close']-quotations['tsla_open'])/quotations['tsla_open']*100\n",
    "print(quotations)"
   ]
  },
  {
   "cell_type": "markdown",
   "id": "91c6e5c4",
   "metadata": {},
   "source": [
    "### Zadanie 114. Przygotuj zmienną wskazującą na to czy w dwóch kolumnach są liczby tych samych znaków."
   ]
  },
  {
   "cell_type": "code",
   "execution_count": null,
   "id": "4a7ea54a",
   "metadata": {},
   "outputs": [],
   "source": [
    "quotations['similiarity_flag'] = 1 * (quotations['amzn_change'] * quotations['tsla_change'] > 0)"
   ]
  },
  {
   "cell_type": "markdown",
   "id": "fef0218d",
   "metadata": {},
   "source": [
    "### Zadanie 115. Sprawdź jaki procent obserwacji ma daną wartość zmiennej."
   ]
  },
  {
   "cell_type": "code",
   "execution_count": null,
   "id": "f04936bd",
   "metadata": {},
   "outputs": [],
   "source": [
    "result = quotations['similarity_flag'].sum() / len(quotations)\n",
    "print(f'{result * 100:.2f}%')"
   ]
  },
  {
   "cell_type": "markdown",
   "id": "a14af543",
   "metadata": {},
   "source": [
    "### Zadanie 116. Przygotuj obiekty typu DataFrame w oparciu o zawartości słowników."
   ]
  },
  {
   "cell_type": "code",
   "execution_count": 58,
   "id": "168824f0",
   "metadata": {},
   "outputs": [
    {
     "name": "stdout",
     "output_type": "stream",
     "text": [
      "  product_id          name    price\n",
      "0        001  mobile phone  1490.00\n",
      "1        004        laptop  3400.00\n",
      "2        007         mouse    59.99\n",
      "3        010        tablet   999.00\n",
      "  order_id product_id  quantity\n",
      "0     1001        004         2\n",
      "1     1002        001         1\n",
      "2     1003        001         1\n",
      "3     1004        007         3\n",
      "  order_id product_id  quantity\n",
      "0     1005        010         2\n",
      "1     1006        001         1\n",
      "2     1007        007         1\n"
     ]
    }
   ],
   "source": [
    "products_dict = {\n",
    "    'product_id': ['001', '004', '007', '010'],\n",
    "    'name': ['mobile phone', 'laptop', 'mouse', 'tablet'],\n",
    "    'price': [1490.0, 3400.0, 59.99, 999.00]\n",
    "}\n",
    "\n",
    "orders_day_1_dict = {\n",
    "    'order_id': ['1001', '1002', '1003', '1004'],\n",
    "    'product_id': ['004', '001', '001', '007'],\n",
    "    'quantity': [2, 1, 1, 3]\n",
    "}       \n",
    "\n",
    "orders_day_2_dict = {\n",
    "    'order_id': ['1005', '1006', '1007'],\n",
    "    'product_id': ['010', '001', '007'],\n",
    "    'quantity': [2, 1, 1]\n",
    "}\n",
    "\n",
    "products=pd.DataFrame(products_dict)\n",
    "orders_day_1=pd.DataFrame(orders_day_1_dict)\n",
    "orders_day_2=pd.DataFrame(orders_day_2_dict)\n",
    "print(products)\n",
    "print(orders_day_1)\n",
    "print(orders_day_2)"
   ]
  },
  {
   "cell_type": "markdown",
   "id": "d3fbaaaf",
   "metadata": {},
   "source": [
    "### Zadanie 117. Przygotuj dwa obiekty typu DataFrame."
   ]
  },
  {
   "cell_type": "code",
   "execution_count": 60,
   "id": "c9d4ae9e",
   "metadata": {},
   "outputs": [
    {
     "name": "stdout",
     "output_type": "stream",
     "text": [
      "  order_id product_id  quantity\n",
      "0     1001        004         2\n",
      "1     1002        001         1\n",
      "2     1003        001         1\n",
      "3     1004        007         3\n",
      "4     1005        010         2\n",
      "5     1006        001         1\n",
      "6     1007        007         1\n"
     ]
    },
    {
     "name": "stderr",
     "output_type": "stream",
     "text": [
      "C:\\Users\\kubeq\\AppData\\Local\\Temp\\ipykernel_15420\\2443336633.py:1: FutureWarning: The frame.append method is deprecated and will be removed from pandas in a future version. Use pandas.concat instead.\n",
      "  orders = orders_day_1.append(orders_day_2, ignore_index = True)\n"
     ]
    }
   ],
   "source": [
    "orders = orders_day_1.append(orders_day_2, ignore_index = True)\n",
    "print(orders)"
   ]
  },
  {
   "cell_type": "markdown",
   "id": "ceab7a66",
   "metadata": {},
   "source": [
    "### Zadanie 118. Połącz obiekty typu DataFrame w oparciu o tę samą nazwę kolumny."
   ]
  },
  {
   "cell_type": "code",
   "execution_count": 61,
   "id": "3fdbf7d5",
   "metadata": {},
   "outputs": [
    {
     "name": "stdout",
     "output_type": "stream",
     "text": [
      "  order_id product_id  quantity          name    price\n",
      "0     1001        004         2        laptop  3400.00\n",
      "1     1002        001         1  mobile phone  1490.00\n",
      "2     1003        001         1  mobile phone  1490.00\n",
      "3     1006        001         1  mobile phone  1490.00\n",
      "4     1004        007         3         mouse    59.99\n",
      "5     1007        007         1         mouse    59.99\n",
      "6     1005        010         2        tablet   999.00\n"
     ]
    }
   ],
   "source": [
    "result = pd.merge(orders, products, on='product_id')\n",
    "print(result)"
   ]
  },
  {
   "cell_type": "markdown",
   "id": "24fefc67",
   "metadata": {},
   "source": [
    "### Zadanie 119. Utwórz kolumnę wskazującą na łączną wartość zamówienia."
   ]
  },
  {
   "cell_type": "code",
   "execution_count": 62,
   "id": "14c6a245",
   "metadata": {},
   "outputs": [
    {
     "name": "stdout",
     "output_type": "stream",
     "text": [
      "  order_id product_id  quantity          name    price    total\n",
      "0     1001        004         2        laptop  3400.00  6800.00\n",
      "1     1002        001         1  mobile phone  1490.00  1490.00\n",
      "2     1003        001         1  mobile phone  1490.00  1490.00\n",
      "3     1006        001         1  mobile phone  1490.00  1490.00\n",
      "4     1004        007         3         mouse    59.99   179.97\n",
      "5     1007        007         1         mouse    59.99    59.99\n",
      "6     1005        010         2        tablet   999.00  1998.00\n"
     ]
    }
   ],
   "source": [
    "result['total']=result['quantity']*result['price']\n",
    "print(result)"
   ]
  },
  {
   "cell_type": "markdown",
   "id": "f0f1c690",
   "metadata": {},
   "source": [
    "### Zadanie 120. Zapisz obiekt typu DataFrame do pliku."
   ]
  },
  {
   "cell_type": "code",
   "execution_count": null,
   "id": "5ff441af",
   "metadata": {},
   "outputs": [],
   "source": [
    "result.to_csv('result.csv', index=False)\n",
    "result.to_html('result.html')\n",
    "result.to_json('result.json', indent=4)"
   ]
  },
  {
   "cell_type": "markdown",
   "id": "69cebd43",
   "metadata": {},
   "source": [
    "### Zadanie 121. Połącz 2 obiekty typu DataFrame (tylko te wiersze, dla których to możliwe)"
   ]
  },
  {
   "cell_type": "code",
   "execution_count": 6,
   "id": "79a3a442",
   "metadata": {},
   "outputs": [
    {
     "name": "stdout",
     "output_type": "stream",
     "text": [
      "  emp_id first_name last_name dept_id dept_name\n",
      "0   1001       John     Smith     002     Sales\n",
      "1   1002       Mark      Cook     001        IT\n",
      "2   1003        Bob       Cat     001        IT\n"
     ]
    }
   ],
   "source": [
    "import pandas as pd\n",
    "employees = pd.DataFrame({\n",
    "    'emp_id': ['1001', '1002', '1003', '1004'],\n",
    "    'first_name': ['John', 'Mark', 'Bob', 'Alice'],\n",
    "    'last_name': ['Smith', 'Cook', 'Cat', 'Lee'],\n",
    "    'dept_id': ['002', '001', '001', '005']\n",
    "})\n",
    "departments = pd.DataFrame({\n",
    "    'dept_id': ['001', '002', '003', '004'],\n",
    "    'dept_name': ['IT', 'Sales', 'Marketing', 'Support']\n",
    "})\n",
    "print(pd.merge(employees, departments, on = \"dept_id\", how='inner'))"
   ]
  },
  {
   "cell_type": "markdown",
   "id": "a8f69634",
   "metadata": {},
   "source": [
    "### Zadanie 122. Połącz 2 obiekty typu DataFrame (dla wierszy z pierwszej tabeli)."
   ]
  },
  {
   "cell_type": "code",
   "execution_count": 7,
   "id": "324e0782",
   "metadata": {},
   "outputs": [
    {
     "name": "stdout",
     "output_type": "stream",
     "text": [
      "  emp_id first_name last_name dept_id dept_name\n",
      "0   1001       John     Smith     002     Sales\n",
      "1   1002       Mark      Cook     001        IT\n",
      "2   1003        Bob       Cat     001        IT\n",
      "3   1004      Alice       Lee     005       NaN\n"
     ]
    }
   ],
   "source": [
    "print(pd.merge(employees, departments, on = \"dept_id\", how='left'))"
   ]
  },
  {
   "cell_type": "markdown",
   "id": "8eea29f2",
   "metadata": {},
   "source": [
    "### Zadanie 123. Połącz 2 obiekty typu DataFrame (dla wierszy z drugiej tabeli)."
   ]
  },
  {
   "cell_type": "code",
   "execution_count": 8,
   "id": "e837dc5b",
   "metadata": {},
   "outputs": [
    {
     "name": "stdout",
     "output_type": "stream",
     "text": [
      "  emp_id first_name last_name dept_id dept_name\n",
      "0   1001       John     Smith     002     Sales\n",
      "1   1002       Mark      Cook     001        IT\n",
      "2   1003        Bob       Cat     001        IT\n",
      "3   1004      Alice       Lee     005       NaN\n"
     ]
    }
   ],
   "source": [
    "print(pd.merge(employees, departments, on = \"dept_id\", how='left'))"
   ]
  },
  {
   "cell_type": "markdown",
   "id": "f599b1a0",
   "metadata": {},
   "source": [
    "### Zadanie 124. Połącz 2 obiekty typu DataFrame (dla wszystkich wierszy)."
   ]
  },
  {
   "cell_type": "code",
   "execution_count": 9,
   "id": "7b0eb7fc",
   "metadata": {},
   "outputs": [
    {
     "name": "stdout",
     "output_type": "stream",
     "text": [
      "  emp_id first_name last_name dept_id  dept_name\n",
      "0   1001       John     Smith     002      Sales\n",
      "1   1002       Mark      Cook     001         IT\n",
      "2   1003        Bob       Cat     001         IT\n",
      "3   1004      Alice       Lee     005        NaN\n",
      "4    NaN        NaN       NaN     003  Marketing\n",
      "5    NaN        NaN       NaN     004    Support\n"
     ]
    }
   ],
   "source": [
    "print(pd.merge(employees, departments, on = \"dept_id\", how='outer'))"
   ]
  },
  {
   "cell_type": "markdown",
   "id": "7ca1ff5a",
   "metadata": {},
   "source": [
    "### Zadanie 125. Połącz 2 obiekty typu DataFrame (tylko te wiersze, dla których to możliwe)"
   ]
  },
  {
   "cell_type": "code",
   "execution_count": 10,
   "id": "83955fbd",
   "metadata": {},
   "outputs": [
    {
     "name": "stdout",
     "output_type": "stream",
     "text": [
      "  emp_id first_name last_name dept_id dept_name\n",
      "0   1001       John     Smith     002     Sales\n",
      "1   1002       Mark      Cook     001        IT\n",
      "2   1003        Bob       Cat     001        IT\n",
      "3   1003        Bob       Cat     001        IT\n"
     ]
    }
   ],
   "source": [
    "import pandas as pd \n",
    "employees = pd.DataFrame({\n",
    "    'emp_id': ['1001', '1002', '1003', '1003', '1004'],\n",
    "    'first_name': ['John', 'Mark', 'Bob', 'Bob', 'Alice'],\n",
    "    'last_name': ['Smith', 'Cook', 'Cat', 'Cat', 'Lee'],\n",
    "    'dept_id': ['002', '001', '001', '001', '005']\n",
    "})\n",
    "departments = pd.DataFrame({\n",
    "    'dept_id': ['001', '002', '003', '004'],\n",
    "    'dept_name': ['IT', 'Sales', 'Marketing', 'Support']\n",
    "})\n",
    "result = pd.merge(employees, departments, how='inner', on='dept_id')\n",
    "print(result)"
   ]
  },
  {
   "cell_type": "markdown",
   "id": "b4f6e4c5",
   "metadata": {},
   "source": [
    "### Zadanie 126. Usuń duplikaty i połącz 2 obiekty typu DataFrame (tylko te wiersze, dla których to możliwe)"
   ]
  },
  {
   "cell_type": "code",
   "execution_count": null,
   "id": "ad93b986",
   "metadata": {},
   "outputs": [],
   "source": [
    "employees_unique = employees.drop_duplicates()\n",
    "result = pd.merge(employees_unique, departments, how='inner', on='dept_id')\n",
    "print(result)"
   ]
  },
  {
   "cell_type": "markdown",
   "id": "6a983e69",
   "metadata": {},
   "source": [
    "### Zadanie 127. Oblicz średnie dla podgrup."
   ]
  },
  {
   "cell_type": "code",
   "execution_count": 14,
   "id": "2867ba58",
   "metadata": {},
   "outputs": [
    {
     "name": "stderr",
     "output_type": "stream",
     "text": [
      "C:\\Users\\kubeq\\AppData\\Local\\Temp\\ipykernel_4076\\716288963.py:6: FutureWarning: Indexing with multiple keys (implicitly converted to a tuple of keys) will be deprecated, use a list instead.\n",
      "  result = tips.groupby('day')['tip','total_bill'].mean()\n"
     ]
    },
    {
     "data": {
      "text/html": [
       "<div>\n",
       "<style scoped>\n",
       "    .dataframe tbody tr th:only-of-type {\n",
       "        vertical-align: middle;\n",
       "    }\n",
       "\n",
       "    .dataframe tbody tr th {\n",
       "        vertical-align: top;\n",
       "    }\n",
       "\n",
       "    .dataframe thead th {\n",
       "        text-align: right;\n",
       "    }\n",
       "</style>\n",
       "<table border=\"1\" class=\"dataframe\">\n",
       "  <thead>\n",
       "    <tr style=\"text-align: right;\">\n",
       "      <th></th>\n",
       "      <th>tip</th>\n",
       "      <th>total_bill</th>\n",
       "    </tr>\n",
       "    <tr>\n",
       "      <th>day</th>\n",
       "      <th></th>\n",
       "      <th></th>\n",
       "    </tr>\n",
       "  </thead>\n",
       "  <tbody>\n",
       "    <tr>\n",
       "      <th>Fri</th>\n",
       "      <td>2.734737</td>\n",
       "      <td>17.151579</td>\n",
       "    </tr>\n",
       "    <tr>\n",
       "      <th>Sat</th>\n",
       "      <td>2.993103</td>\n",
       "      <td>20.441379</td>\n",
       "    </tr>\n",
       "    <tr>\n",
       "      <th>Sun</th>\n",
       "      <td>3.255132</td>\n",
       "      <td>21.410000</td>\n",
       "    </tr>\n",
       "    <tr>\n",
       "      <th>Thur</th>\n",
       "      <td>2.771452</td>\n",
       "      <td>17.682742</td>\n",
       "    </tr>\n",
       "  </tbody>\n",
       "</table>\n",
       "</div>"
      ],
      "text/plain": [
       "           tip  total_bill\n",
       "day                       \n",
       "Fri   2.734737   17.151579\n",
       "Sat   2.993103   20.441379\n",
       "Sun   3.255132   21.410000\n",
       "Thur  2.771452   17.682742"
      ]
     },
     "execution_count": 14,
     "metadata": {},
     "output_type": "execute_result"
    }
   ],
   "source": [
    "import pandas as pd\n",
    "import numpy as np\n",
    "pd.set_option('display.max_columns', 30)\n",
    "pd.set_option('display.width', 1000)\n",
    "tips = pd.read_csv('https://raw.githubusercontent.com/mwaskom/seaborn-data/master/tips.csv')\n",
    "result = tips.groupby('day')['tip','total_bill'].mean()\n",
    "result"
   ]
  },
  {
   "cell_type": "markdown",
   "id": "0cc4b871",
   "metadata": {},
   "source": [
    "### Zadanie 128. Oblicz średnie dla podgrup."
   ]
  },
  {
   "cell_type": "code",
   "execution_count": 15,
   "id": "aa3fc7b9",
   "metadata": {},
   "outputs": [
    {
     "name": "stdout",
     "output_type": "stream",
     "text": [
      "                  tip  total_bill\n",
      "day  sex                         \n",
      "Fri  Female  2.781111   14.145556\n",
      "     Male    2.693000   19.857000\n",
      "Sat  Female  2.801786   19.680357\n",
      "     Male    3.083898   20.802542\n",
      "Sun  Female  3.367222   19.872222\n",
      "     Male    3.220345   21.887241\n",
      "Thur Female  2.575625   16.715312\n",
      "     Male    2.980333   18.714667\n"
     ]
    },
    {
     "name": "stderr",
     "output_type": "stream",
     "text": [
      "C:\\Users\\kubeq\\AppData\\Local\\Temp\\ipykernel_4076\\1949306885.py:1: FutureWarning: Indexing with multiple keys (implicitly converted to a tuple of keys) will be deprecated, use a list instead.\n",
      "  result = tips.groupby(['day','sex'])['tip','total_bill'].mean()\n"
     ]
    }
   ],
   "source": [
    "result = tips.groupby(['day','sex'])['tip','total_bill'].mean()\n",
    "print(result)"
   ]
  },
  {
   "cell_type": "markdown",
   "id": "6e16ed9c",
   "metadata": {},
   "source": [
    "### Zadanie 129. Wskaż wartość maksymalną dla podgrup.\n"
   ]
  },
  {
   "cell_type": "code",
   "execution_count": 16,
   "id": "da1fb36c",
   "metadata": {},
   "outputs": [
    {
     "name": "stderr",
     "output_type": "stream",
     "text": [
      "C:\\Users\\kubeq\\AppData\\Local\\Temp\\ipykernel_4076\\1616530178.py:1: FutureWarning: Indexing with multiple keys (implicitly converted to a tuple of keys) will be deprecated, use a list instead.\n",
      "  result = tips.groupby('day')['tip','total_bill'].max()\n"
     ]
    },
    {
     "data": {
      "text/html": [
       "<div>\n",
       "<style scoped>\n",
       "    .dataframe tbody tr th:only-of-type {\n",
       "        vertical-align: middle;\n",
       "    }\n",
       "\n",
       "    .dataframe tbody tr th {\n",
       "        vertical-align: top;\n",
       "    }\n",
       "\n",
       "    .dataframe thead th {\n",
       "        text-align: right;\n",
       "    }\n",
       "</style>\n",
       "<table border=\"1\" class=\"dataframe\">\n",
       "  <thead>\n",
       "    <tr style=\"text-align: right;\">\n",
       "      <th></th>\n",
       "      <th>tip</th>\n",
       "      <th>total_bill</th>\n",
       "    </tr>\n",
       "    <tr>\n",
       "      <th>day</th>\n",
       "      <th></th>\n",
       "      <th></th>\n",
       "    </tr>\n",
       "  </thead>\n",
       "  <tbody>\n",
       "    <tr>\n",
       "      <th>Fri</th>\n",
       "      <td>4.73</td>\n",
       "      <td>40.17</td>\n",
       "    </tr>\n",
       "    <tr>\n",
       "      <th>Sat</th>\n",
       "      <td>10.00</td>\n",
       "      <td>50.81</td>\n",
       "    </tr>\n",
       "    <tr>\n",
       "      <th>Sun</th>\n",
       "      <td>6.50</td>\n",
       "      <td>48.17</td>\n",
       "    </tr>\n",
       "    <tr>\n",
       "      <th>Thur</th>\n",
       "      <td>6.70</td>\n",
       "      <td>43.11</td>\n",
       "    </tr>\n",
       "  </tbody>\n",
       "</table>\n",
       "</div>"
      ],
      "text/plain": [
       "        tip  total_bill\n",
       "day                    \n",
       "Fri    4.73       40.17\n",
       "Sat   10.00       50.81\n",
       "Sun    6.50       48.17\n",
       "Thur   6.70       43.11"
      ]
     },
     "execution_count": 16,
     "metadata": {},
     "output_type": "execute_result"
    }
   ],
   "source": [
    "result = tips.groupby('day')['tip','total_bill'].max()\n",
    "result"
   ]
  },
  {
   "cell_type": "markdown",
   "id": "c97bd277",
   "metadata": {},
   "source": [
    "### Zadanie 130. Oblicz średnie dla podgrup."
   ]
  },
  {
   "cell_type": "code",
   "execution_count": 18,
   "id": "e3e59729",
   "metadata": {},
   "outputs": [
    {
     "name": "stdout",
     "output_type": "stream",
     "text": [
      "                         tip  total_bill\n",
      "day  sex    smoker                      \n",
      "Fri  Female No      3.125000   19.365000\n",
      "            Yes     2.682857   12.654286\n",
      "     Male   No      2.500000   17.475000\n",
      "            Yes     2.741250   20.452500\n",
      "Sat  Female No      2.724615   19.003846\n",
      "            Yes     2.868667   20.266667\n",
      "     Male   No      3.256563   19.929063\n",
      "            Yes     2.879259   21.837778\n",
      "Sun  Female No      3.329286   20.824286\n",
      "            Yes     3.500000   16.540000\n",
      "     Male   No      3.115349   20.403256\n",
      "            Yes     3.521333   26.141333\n",
      "Thur Female No      2.459600   16.014400\n",
      "            Yes     2.990000   19.218571\n",
      "     Male   No      2.941500   18.486500\n",
      "            Yes     3.058000   19.171000\n"
     ]
    },
    {
     "name": "stderr",
     "output_type": "stream",
     "text": [
      "C:\\Users\\kubeq\\AppData\\Local\\Temp\\ipykernel_4076\\3294157983.py:1: FutureWarning: Indexing with multiple keys (implicitly converted to a tuple of keys) will be deprecated, use a list instead.\n",
      "  result = tips.groupby(['day','sex','smoker'])['tip','total_bill'].mean()\n"
     ]
    }
   ],
   "source": [
    "result = tips.groupby(['day','sex','smoker'])['tip','total_bill'].mean()\n",
    "print(result)"
   ]
  },
  {
   "cell_type": "markdown",
   "id": "23a110cb",
   "metadata": {},
   "source": [
    "### Zadanie 131. Oblicz średnie dla podgrup i pokaż wynik dla 1 podgrupy."
   ]
  },
  {
   "cell_type": "code",
   "execution_count": 19,
   "id": "08ef2dc3",
   "metadata": {},
   "outputs": [
    {
     "name": "stdout",
     "output_type": "stream",
     "text": [
      "                    tip  total_bill\n",
      "sex    smoker                      \n",
      "Female No      3.329286   20.824286\n",
      "       Yes     3.500000   16.540000\n",
      "Male   No      3.115349   20.403256\n",
      "       Yes     3.521333   26.141333\n"
     ]
    },
    {
     "name": "stderr",
     "output_type": "stream",
     "text": [
      "C:\\Users\\kubeq\\AppData\\Local\\Temp\\ipykernel_4076\\1992525591.py:1: FutureWarning: Indexing with multiple keys (implicitly converted to a tuple of keys) will be deprecated, use a list instead.\n",
      "  result = tips.groupby(['day','sex','smoker'])['tip','total_bill'].mean()\n"
     ]
    }
   ],
   "source": [
    "result = tips.groupby(['day','sex','smoker'])['tip','total_bill'].mean()\n",
    "print(result.loc['Sun'])"
   ]
  },
  {
   "cell_type": "markdown",
   "id": "5e2e8f9e",
   "metadata": {},
   "source": [
    "### Zadanie 132. Oblicz średnie dla podgrup i pokaż wynik dla 1 podgrupy."
   ]
  },
  {
   "cell_type": "code",
   "execution_count": 20,
   "id": "247e359f",
   "metadata": {},
   "outputs": [
    {
     "name": "stdout",
     "output_type": "stream",
     "text": [
      "             tip  total_bill\n",
      "smoker                      \n",
      "No      3.115349   20.403256\n",
      "Yes     3.521333   26.141333\n"
     ]
    },
    {
     "name": "stderr",
     "output_type": "stream",
     "text": [
      "C:\\Users\\kubeq\\AppData\\Local\\Temp\\ipykernel_4076\\249611318.py:1: FutureWarning: Indexing with multiple keys (implicitly converted to a tuple of keys) will be deprecated, use a list instead.\n",
      "  result = tips.groupby(['day','sex','smoker'])['tip','total_bill'].mean()\n"
     ]
    }
   ],
   "source": [
    "result = tips.groupby(['day','sex','smoker'])['tip','total_bill'].mean()\n",
    "print(result.loc['Sun','Male'])"
   ]
  },
  {
   "cell_type": "code",
   "execution_count": null,
   "id": "beca0efc",
   "metadata": {},
   "outputs": [],
   "source": []
  }
 ],
 "metadata": {
  "kernelspec": {
   "display_name": "Python 3 (ipykernel)",
   "language": "python",
   "name": "python3"
  },
  "language_info": {
   "codemirror_mode": {
    "name": "ipython",
    "version": 3
   },
   "file_extension": ".py",
   "mimetype": "text/x-python",
   "name": "python",
   "nbconvert_exporter": "python",
   "pygments_lexer": "ipython3",
   "version": "3.10.0"
  }
 },
 "nbformat": 4,
 "nbformat_minor": 5
}
